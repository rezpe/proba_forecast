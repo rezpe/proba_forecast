{
 "cells": [
  {
   "cell_type": "code",
   "execution_count": null,
   "metadata": {},
   "outputs": [],
   "source": [
    "from colour import Color\n",
    "\n",
    "red = Color(\"#c6e3f9\")\n",
    "blue = Color(\"#B19CD9\")\n",
    "colors = list(red.range_to(blue, 50))"
   ]
  },
  {
   "cell_type": "code",
   "execution_count": 1,
   "metadata": {},
   "outputs": [
    {
     "ename": "NameError",
     "evalue": "name 'df_orig' is not defined",
     "output_type": "error",
     "traceback": [
      "\u001b[0;31m---------------------------------------------------------------------------\u001b[0m",
      "\u001b[0;31mNameError\u001b[0m                                 Traceback (most recent call last)",
      "\u001b[0;32m<ipython-input-1-f68b81122d1f>\u001b[0m in \u001b[0;36m<module>\u001b[0;34m\u001b[0m\n\u001b[1;32m      1\u001b[0m \u001b[0;31m# Start_time\u001b[0m\u001b[0;34m\u001b[0m\u001b[0;34m\u001b[0m\u001b[0;34m\u001b[0m\u001b[0m\n\u001b[0;32m----> 2\u001b[0;31m \u001b[0mstart\u001b[0m \u001b[0;34m=\u001b[0m \u001b[0mdf_orig\u001b[0m\u001b[0;34m[\u001b[0m\u001b[0mdf_orig\u001b[0m\u001b[0;34m[\u001b[0m\u001b[0;34m\"date\"\u001b[0m\u001b[0;34m]\u001b[0m\u001b[0;34m.\u001b[0m\u001b[0mdt\u001b[0m\u001b[0;34m.\u001b[0m\u001b[0mstrftime\u001b[0m\u001b[0;34m(\u001b[0m\u001b[0;34m\"%Y-%m-%d %H:%M\"\u001b[0m\u001b[0;34m)\u001b[0m\u001b[0;34m==\u001b[0m\u001b[0;34m\"2017-09-09 10:00\"\u001b[0m\u001b[0;34m]\u001b[0m\u001b[0;34m.\u001b[0m\u001b[0mindex\u001b[0m\u001b[0;34m[\u001b[0m\u001b[0;36m0\u001b[0m\u001b[0;34m]\u001b[0m\u001b[0;34m\u001b[0m\u001b[0;34m\u001b[0m\u001b[0m\n\u001b[0m\u001b[1;32m      3\u001b[0m \u001b[0mmethod\u001b[0m\u001b[0;34m=\u001b[0m\u001b[0;34m\"QGBL\"\u001b[0m\u001b[0;34m\u001b[0m\u001b[0;34m\u001b[0m\u001b[0m\n\u001b[1;32m      4\u001b[0m \u001b[0mhorizon\u001b[0m\u001b[0;34m=\u001b[0m\u001b[0;36m1\u001b[0m\u001b[0;34m\u001b[0m\u001b[0;34m\u001b[0m\u001b[0m\n\u001b[1;32m      5\u001b[0m \u001b[0;34m\u001b[0m\u001b[0m\n",
      "\u001b[0;31mNameError\u001b[0m: name 'df_orig' is not defined"
     ]
    }
   ],
   "source": [
    "# Start_time\n",
    "start = df_orig[df_orig[\"date\"].dt.strftime(\"%Y-%m-%d %H:%M\")==\"2017-09-09 10:00\"].index[0]\n",
    "method=\"QGBL\"\n",
    "horizon=1\n",
    "\n",
    "preds=[]\n",
    "targets=[]\n",
    "for horizon in np.arange(1,60):\n",
    "    pos=np.where(np.array(indices_test[horizon-1])==start+horizon)[0][0]\n",
    "    \n",
    "    pred = df[(df[\"horizon\"]==horizon)&(df[\"method\"]==method)][\"pred\"].iloc[0][pos]\n",
    "    preds.append(pred)\n",
    "    \n",
    "    target = df[(df[\"horizon\"]==horizon)&(df[\"method\"]==method)][\"target\"].iloc[0][pos]\n",
    "    targets.append(target)\n",
    "\n",
    "\n",
    "fig = plt.figure(figsize=(15,5))\n",
    "plt.box(on=False)\n",
    "plt.gca().yaxis.grid(True)\n",
    "plt.rcParams.update({'font.size': 15})\n",
    "plt.title(f\"Evolution of NO2 over time and Predictions for {method}\") \n",
    "\n",
    "\n",
    "hours = df_orig[\"date\"].loc[start+1:start+59]\n",
    "for i in np.arange(1,50):\n",
    "    plt.fill_between(hours, np.array(preds)[:,i], np.array(preds)[:,-i],color=colors[i].get_rgb())\n",
    "\n",
    "\n",
    "#plt.plot(df_orig.loc[start:start+num][\"date\"],np.exp(df_orig.loc[start:start+num][\"NO2\"])+1)\n",
    "plt.plot(hours,targets,color=\"black\")\n",
    "plt.rcParams.update({'font.size': 15});"
   ]
  },
  {
   "cell_type": "code",
   "execution_count": 2,
   "metadata": {},
   "outputs": [
    {
     "ename": "NameError",
     "evalue": "name 'df_orig' is not defined",
     "output_type": "error",
     "traceback": [
      "\u001b[0;31m---------------------------------------------------------------------------\u001b[0m",
      "\u001b[0;31mNameError\u001b[0m                                 Traceback (most recent call last)",
      "\u001b[0;32m<ipython-input-2-8bc49d2dfa5d>\u001b[0m in \u001b[0;36m<module>\u001b[0;34m\u001b[0m\n\u001b[1;32m      2\u001b[0m \u001b[0;34m\u001b[0m\u001b[0m\n\u001b[1;32m      3\u001b[0m \u001b[0;31m# Start_time\u001b[0m\u001b[0;34m\u001b[0m\u001b[0;34m\u001b[0m\u001b[0;34m\u001b[0m\u001b[0m\n\u001b[0;32m----> 4\u001b[0;31m \u001b[0mstart\u001b[0m \u001b[0;34m=\u001b[0m \u001b[0mdf_orig\u001b[0m\u001b[0;34m[\u001b[0m\u001b[0mdf_orig\u001b[0m\u001b[0;34m[\u001b[0m\u001b[0;34m\"date\"\u001b[0m\u001b[0;34m]\u001b[0m\u001b[0;34m.\u001b[0m\u001b[0mdt\u001b[0m\u001b[0;34m.\u001b[0m\u001b[0mstrftime\u001b[0m\u001b[0;34m(\u001b[0m\u001b[0;34m\"%Y-%m-%d %H:%M\"\u001b[0m\u001b[0;34m)\u001b[0m\u001b[0;34m==\u001b[0m\u001b[0;34m\"2017-09-09 10:00\"\u001b[0m\u001b[0;34m]\u001b[0m\u001b[0;34m.\u001b[0m\u001b[0mindex\u001b[0m\u001b[0;34m[\u001b[0m\u001b[0;36m0\u001b[0m\u001b[0;34m]\u001b[0m\u001b[0;34m\u001b[0m\u001b[0;34m\u001b[0m\u001b[0m\n\u001b[0m\u001b[1;32m      5\u001b[0m \u001b[0;34m\u001b[0m\u001b[0m\n\u001b[1;32m      6\u001b[0m \u001b[0;32mdef\u001b[0m \u001b[0mdraw\u001b[0m\u001b[0;34m(\u001b[0m\u001b[0mmethod\u001b[0m\u001b[0;34m,\u001b[0m\u001b[0mtitle\u001b[0m\u001b[0;34m,\u001b[0m\u001b[0mbottom\u001b[0m\u001b[0;34m)\u001b[0m\u001b[0;34m:\u001b[0m\u001b[0;34m\u001b[0m\u001b[0;34m\u001b[0m\u001b[0m\n",
      "\u001b[0;31mNameError\u001b[0m: name 'df_orig' is not defined"
     ]
    }
   ],
   "source": [
    "import matplotlib.dates as mdates\n",
    "\n",
    "# Start_time\n",
    "start = df_orig[df_orig[\"date\"].dt.strftime(\"%Y-%m-%d %H:%M\")==\"2017-09-09 10:00\"].index[0]\n",
    "start = df_orig[df_orig[\"date\"].dt.strftime(\"%Y-%m-%d %H:%M\")==\"2017-11-21 10:00\"].index[0]\n",
    "\n",
    "max_total=0\n",
    "for method in [\"QRFL\",\"QKNNL\",\"QGBL\",\"QLR\"]:\n",
    "    for horizon in np.arange(1,60):\n",
    "        pos=np.where(np.array(indices_test[horizon-1])==start+horizon)[0][0]\n",
    "        pred = df[(df[\"horizon\"]==horizon)&(df[\"method\"]==method)][\"pred\"].iloc[0][pos]\n",
    "        max_total = np.max([np.max(pred),max_total])\n",
    "\n",
    "def draw(method,title,bottom):\n",
    "    \n",
    "    preds=[]\n",
    "    targets=[]\n",
    "    for horizon in np.arange(1,60):\n",
    "        pos=np.where(np.array(indices_test[horizon-1])==start+horizon)[0][0]\n",
    "\n",
    "        pred = df[(df[\"horizon\"]==horizon)&(df[\"method\"]==method)][\"pred\"].iloc[0][pos]\n",
    "        preds.append(pred)\n",
    "\n",
    "        target = df[(df[\"horizon\"]==horizon)&(df[\"method\"]==method)][\"target\"].iloc[0][pos]\n",
    "        targets.append(target)\n",
    "\n",
    "    plt.box(on=False)\n",
    "    plt.gca().yaxis.grid(True)\n",
    "    \n",
    "    plt.title(f\"{title}\") \n",
    "\n",
    "    hours = df_orig[\"date\"].loc[start+1:start+59]\n",
    "    for i in np.arange(1,50):\n",
    "        plt.fill_between(hours, np.array(preds)[:,i], np.array(preds)[:,-i],color=colors[i].get_rgb())\n",
    "    plt.plot(hours, np.array(preds)[:,50],color=\"darkblue\",alpha=0.5)\n",
    "    plt.plot(hours,targets,color=\"black\")\n",
    "    plt.gca().axes.set_ylim(0, 1.1*max_total)\n",
    "    fmt = mdates.DateFormatter('%-d%b %-HH')\n",
    "    plt.gca().xaxis.set_major_formatter(fmt)\n",
    "    plt.xticks(rotation=45)\n",
    "    plt.tick_params(bottom=bottom, labelbottom=bottom)\n",
    "    plt.tight_layout()\n",
    "\n",
    "\n",
    "fig = plt.figure(figsize=(15,5))\n",
    "plt.rcParams.update({'font.size': 13})\n",
    "plt.subplot(2,2,1)\n",
    "draw(\"QRFL\",\"QRFL\",False)\n",
    "plt.subplot(2,2,2)\n",
    "draw(\"QKNNL\",\"QKNNL\",False)\n",
    "plt.subplot(2,2,3)\n",
    "draw(\"QGB\",\"QGB\",True)\n",
    "plt.subplot(2,2,4)\n",
    "draw(\"QLR\",\"QLR\",True)"
   ]
  },
  {
   "cell_type": "code",
   "execution_count": null,
   "metadata": {},
   "outputs": [],
   "source": []
  }
 ],
 "metadata": {
  "kernelspec": {
   "display_name": "Python 3",
   "language": "python",
   "name": "python3"
  },
  "language_info": {
   "codemirror_mode": {
    "name": "ipython",
    "version": 3
   },
   "file_extension": ".py",
   "mimetype": "text/x-python",
   "name": "python",
   "nbconvert_exporter": "python",
   "pygments_lexer": "ipython3",
   "version": "3.8.5"
  }
 },
 "nbformat": 4,
 "nbformat_minor": 4
}
