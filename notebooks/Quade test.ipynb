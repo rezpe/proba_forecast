{
 "cells": [
  {
   "cell_type": "code",
   "execution_count": 1,
   "metadata": {},
   "outputs": [],
   "source": [
    "#!git clone https://github.com/citiususc/stac.git\n",
    "#!mv stac stac_repo\n",
    "#!mv stac_repo/stac ./"
   ]
  },
  {
   "cell_type": "code",
   "execution_count": 2,
   "metadata": {},
   "outputs": [],
   "source": [
    "# Retrieve results and calculate the mean for each horizon"
   ]
  },
  {
   "cell_type": "code",
   "execution_count": 3,
   "metadata": {},
   "outputs": [
    {
     "name": "stderr",
     "output_type": "stream",
     "text": [
      "<ipython-input-3-c14d0e3c9a8b>:7: TqdmDeprecationWarning: This function will be removed in tqdm==5.0.0\n",
      "Please use `tqdm.notebook.tqdm` instead of `tqdm.tqdm_notebook`\n",
      "  for f in tqdm(os.listdir(folder)):\n"
     ]
    },
    {
     "data": {
      "application/vnd.jupyter.widget-view+json": {
       "model_id": "d82ae09e222a40aa9a216f38f3f1fb81",
       "version_major": 2,
       "version_minor": 0
      },
      "text/plain": [
       "HBox(children=(HTML(value=''), FloatProgress(value=0.0, max=2656.0), HTML(value='')))"
      ]
     },
     "metadata": {},
     "output_type": "display_data"
    },
    {
     "name": "stdout",
     "output_type": "stream",
     "text": [
      "\n"
     ]
    },
    {
     "name": "stderr",
     "output_type": "stream",
     "text": [
      "<ipython-input-3-c14d0e3c9a8b>:11: TqdmDeprecationWarning: This function will be removed in tqdm==5.0.0\n",
      "Please use `tqdm.notebook.tqdm` instead of `tqdm.tqdm_notebook`\n",
      "  for f in tqdm(os.listdir(folder)):\n"
     ]
    },
    {
     "data": {
      "application/vnd.jupyter.widget-view+json": {
       "model_id": "f0078767841743dda544acd6ee1b90b0",
       "version_major": 2,
       "version_minor": 0
      },
      "text/plain": [
       "HBox(children=(HTML(value=''), FloatProgress(value=0.0, max=135.0), HTML(value='')))"
      ]
     },
     "metadata": {},
     "output_type": "display_data"
    },
    {
     "name": "stdout",
     "output_type": "stream",
     "text": [
      "\n"
     ]
    }
   ],
   "source": [
    "from tqdm import tqdm_notebook as tqdm\n",
    "import os\n",
    "import json\n",
    "\n",
    "json_results = []\n",
    "folder=\"../cal_new_training/\"\n",
    "for f in tqdm(os.listdir(folder)):\n",
    "    json_results.append(json.load(open(folder+f)))\n",
    "    \n",
    "folder=\"../dt_2021_cal_results/json_files/\"\n",
    "for f in tqdm(os.listdir(folder)):\n",
    "    json_results.append(json.load(open(folder+\"/\"+f)))"
   ]
  },
  {
   "cell_type": "code",
   "execution_count": 4,
   "metadata": {},
   "outputs": [],
   "source": [
    "import pandas as pd\n",
    "\n",
    "df = pd.DataFrame(json_results)\n",
    "df.columns=[\"horizon\",\"method\",2,3]\n",
    "df[\"horizon\"]=df[\"horizon\"].astype(int)\n",
    "for i,feature in enumerate([\"rmse\",\"mae\",\"bias\",\"corr\",\"crps\"]):\n",
    "    df[feature]=df[2].apply(lambda e:e[feature])\n",
    "df.drop([2,3],axis=1,inplace=True)"
   ]
  },
  {
   "cell_type": "code",
   "execution_count": 5,
   "metadata": {},
   "outputs": [
    {
     "data": {
      "text/html": [
       "<div>\n",
       "<style scoped>\n",
       "    .dataframe tbody tr th:only-of-type {\n",
       "        vertical-align: middle;\n",
       "    }\n",
       "\n",
       "    .dataframe tbody tr th {\n",
       "        vertical-align: top;\n",
       "    }\n",
       "\n",
       "    .dataframe thead th {\n",
       "        text-align: right;\n",
       "    }\n",
       "</style>\n",
       "<table border=\"1\" class=\"dataframe\">\n",
       "  <thead>\n",
       "    <tr style=\"text-align: right;\">\n",
       "      <th></th>\n",
       "      <th>horizon</th>\n",
       "      <th>method</th>\n",
       "      <th>rmse</th>\n",
       "      <th>mae</th>\n",
       "      <th>bias</th>\n",
       "      <th>corr</th>\n",
       "      <th>crps</th>\n",
       "    </tr>\n",
       "  </thead>\n",
       "  <tbody>\n",
       "    <tr>\n",
       "      <th>0</th>\n",
       "      <td>53</td>\n",
       "      <td>QRF</td>\n",
       "      <td>16.507382</td>\n",
       "      <td>12.063445</td>\n",
       "      <td>2.933839</td>\n",
       "      <td>0.634474</td>\n",
       "      <td>8.869292</td>\n",
       "    </tr>\n",
       "    <tr>\n",
       "      <th>1</th>\n",
       "      <td>14</td>\n",
       "      <td>QRF</td>\n",
       "      <td>32.575191</td>\n",
       "      <td>23.577260</td>\n",
       "      <td>8.978260</td>\n",
       "      <td>0.479660</td>\n",
       "      <td>16.280645</td>\n",
       "    </tr>\n",
       "    <tr>\n",
       "      <th>2</th>\n",
       "      <td>9</td>\n",
       "      <td>QGB</td>\n",
       "      <td>14.562235</td>\n",
       "      <td>10.874951</td>\n",
       "      <td>0.156874</td>\n",
       "      <td>0.861771</td>\n",
       "      <td>7.790607</td>\n",
       "    </tr>\n",
       "    <tr>\n",
       "      <th>3</th>\n",
       "      <td>2</td>\n",
       "      <td>QGBL</td>\n",
       "      <td>9.748084</td>\n",
       "      <td>6.562479</td>\n",
       "      <td>-0.150876</td>\n",
       "      <td>0.879781</td>\n",
       "      <td>4.839738</td>\n",
       "    </tr>\n",
       "    <tr>\n",
       "      <th>4</th>\n",
       "      <td>21</td>\n",
       "      <td>QGBL</td>\n",
       "      <td>16.048977</td>\n",
       "      <td>11.609801</td>\n",
       "      <td>3.026849</td>\n",
       "      <td>0.728436</td>\n",
       "      <td>8.378299</td>\n",
       "    </tr>\n",
       "  </tbody>\n",
       "</table>\n",
       "</div>"
      ],
      "text/plain": [
       "   horizon method       rmse        mae      bias      corr       crps\n",
       "0       53    QRF  16.507382  12.063445  2.933839  0.634474   8.869292\n",
       "1       14    QRF  32.575191  23.577260  8.978260  0.479660  16.280645\n",
       "2        9    QGB  14.562235  10.874951  0.156874  0.861771   7.790607\n",
       "3        2   QGBL   9.748084   6.562479 -0.150876  0.879781   4.839738\n",
       "4       21   QGBL  16.048977  11.609801  3.026849  0.728436   8.378299"
      ]
     },
     "execution_count": 5,
     "metadata": {},
     "output_type": "execute_result"
    }
   ],
   "source": [
    "df.head()"
   ]
  },
  {
   "cell_type": "code",
   "execution_count": 6,
   "metadata": {},
   "outputs": [
    {
     "data": {
      "text/html": [
       "<div>\n",
       "<style scoped>\n",
       "    .dataframe tbody tr th:only-of-type {\n",
       "        vertical-align: middle;\n",
       "    }\n",
       "\n",
       "    .dataframe tbody tr th {\n",
       "        vertical-align: top;\n",
       "    }\n",
       "\n",
       "    .dataframe thead th {\n",
       "        text-align: right;\n",
       "    }\n",
       "</style>\n",
       "<table border=\"1\" class=\"dataframe\">\n",
       "  <thead>\n",
       "    <tr style=\"text-align: right;\">\n",
       "      <th>method</th>\n",
       "      <th>horizon</th>\n",
       "      <th>DT</th>\n",
       "      <th>MLP</th>\n",
       "      <th>NGBOOST</th>\n",
       "      <th>QGB</th>\n",
       "      <th>QGBL</th>\n",
       "      <th>QKNN</th>\n",
       "      <th>QKNNL</th>\n",
       "      <th>QLR</th>\n",
       "      <th>QRF</th>\n",
       "      <th>QRFL</th>\n",
       "    </tr>\n",
       "  </thead>\n",
       "  <tbody>\n",
       "    <tr>\n",
       "      <th>0</th>\n",
       "      <td>1</td>\n",
       "      <td>8.825736</td>\n",
       "      <td>8.867571</td>\n",
       "      <td>7.912177</td>\n",
       "      <td>8.029100</td>\n",
       "      <td>8.084565</td>\n",
       "      <td>12.354182</td>\n",
       "      <td>8.221821</td>\n",
       "      <td>8.072366</td>\n",
       "      <td>13.232702</td>\n",
       "      <td>7.994909</td>\n",
       "    </tr>\n",
       "    <tr>\n",
       "      <th>1</th>\n",
       "      <td>2</td>\n",
       "      <td>10.481014</td>\n",
       "      <td>11.056401</td>\n",
       "      <td>10.522202</td>\n",
       "      <td>9.904721</td>\n",
       "      <td>10.127769</td>\n",
       "      <td>12.677295</td>\n",
       "      <td>10.567959</td>\n",
       "      <td>10.774682</td>\n",
       "      <td>13.814538</td>\n",
       "      <td>10.706099</td>\n",
       "    </tr>\n",
       "    <tr>\n",
       "      <th>2</th>\n",
       "      <td>3</td>\n",
       "      <td>10.796114</td>\n",
       "      <td>11.286370</td>\n",
       "      <td>10.658766</td>\n",
       "      <td>9.596696</td>\n",
       "      <td>9.752112</td>\n",
       "      <td>12.237881</td>\n",
       "      <td>10.588437</td>\n",
       "      <td>11.039470</td>\n",
       "      <td>13.656065</td>\n",
       "      <td>10.914558</td>\n",
       "    </tr>\n",
       "    <tr>\n",
       "      <th>3</th>\n",
       "      <td>4</td>\n",
       "      <td>10.983100</td>\n",
       "      <td>11.058686</td>\n",
       "      <td>11.028224</td>\n",
       "      <td>9.554046</td>\n",
       "      <td>9.753460</td>\n",
       "      <td>12.321590</td>\n",
       "      <td>11.089469</td>\n",
       "      <td>11.412586</td>\n",
       "      <td>13.985515</td>\n",
       "      <td>11.256652</td>\n",
       "    </tr>\n",
       "    <tr>\n",
       "      <th>4</th>\n",
       "      <td>5</td>\n",
       "      <td>11.424063</td>\n",
       "      <td>11.839607</td>\n",
       "      <td>11.196776</td>\n",
       "      <td>10.050412</td>\n",
       "      <td>10.009185</td>\n",
       "      <td>12.843222</td>\n",
       "      <td>11.520128</td>\n",
       "      <td>11.946266</td>\n",
       "      <td>14.591992</td>\n",
       "      <td>11.881897</td>\n",
       "    </tr>\n",
       "  </tbody>\n",
       "</table>\n",
       "</div>"
      ],
      "text/plain": [
       "method  horizon         DT        MLP    NGBOOST        QGB       QGBL  \\\n",
       "0             1   8.825736   8.867571   7.912177   8.029100   8.084565   \n",
       "1             2  10.481014  11.056401  10.522202   9.904721  10.127769   \n",
       "2             3  10.796114  11.286370  10.658766   9.596696   9.752112   \n",
       "3             4  10.983100  11.058686  11.028224   9.554046   9.753460   \n",
       "4             5  11.424063  11.839607  11.196776  10.050412  10.009185   \n",
       "\n",
       "method       QKNN      QKNNL        QLR        QRF       QRFL  \n",
       "0       12.354182   8.221821   8.072366  13.232702   7.994909  \n",
       "1       12.677295  10.567959  10.774682  13.814538  10.706099  \n",
       "2       12.237881  10.588437  11.039470  13.656065  10.914558  \n",
       "3       12.321590  11.089469  11.412586  13.985515  11.256652  \n",
       "4       12.843222  11.520128  11.946266  14.591992  11.881897  "
      ]
     },
     "execution_count": 6,
     "metadata": {},
     "output_type": "execute_result"
    }
   ],
   "source": [
    "samples_df = df.pivot_table(index=\"horizon\",columns=\"method\",values=\"rmse\",aggfunc='mean').reset_index()\n",
    "samples_df.head()"
   ]
  },
  {
   "cell_type": "code",
   "execution_count": 15,
   "metadata": {},
   "outputs": [],
   "source": [
    "order_methods=\"\"\"QRF\n",
    "QRFL\n",
    "QKNN\n",
    "QKNNL\n",
    "QGB\n",
    "QGBL\n",
    "QLR\n",
    "MLP\n",
    "NGBOOST\n",
    "DT\"\"\".split(\"\\n\")"
   ]
  },
  {
   "cell_type": "code",
   "execution_count": 17,
   "metadata": {},
   "outputs": [],
   "source": [
    "import stac\n",
    "samples = []\n",
    "methods = df[\"method\"].unique()\n",
    "for method in methods:\n",
    "    samples.append(samples_df[method])\n",
    "ranks = stac.quade_test(*samples)\n",
    "ranks_df = pd.DataFrame(zip(methods,ranks[3])).sort_values(1)\n",
    "ranks_df.index=ranks_df[0]\n",
    "ranks_df=ranks_df.loc[order_methods]"
   ]
  },
  {
   "cell_type": "code",
   "execution_count": 18,
   "metadata": {},
   "outputs": [
    {
     "name": "stdout",
     "output_type": "stream",
     "text": [
      "\\begin{tabular}{lr}\n",
      "\\toprule\n",
      "       0 &        1 \\\\\n",
      "     QRF & 7.354393 \\\\\n",
      "\\midrule\n",
      "    QRFL & 4.888386 \\\\\n",
      "    QKNN & 6.522557 \\\\\n",
      "   QKNNL & 3.379697 \\\\\n",
      "     QGB & 0.967290 \\\\\n",
      "    QGBL & 1.297199 \\\\\n",
      "     QLR & 5.791688 \\\\\n",
      "     MLP & 2.883587 \\\\\n",
      " NGBOOST & 3.442853 \\\\\n",
      "      DT & 3.921512 \\\\\n",
      "\\bottomrule\n",
      "\\end{tabular}\n",
      "\n"
     ]
    }
   ],
   "source": [
    "print(ranks_df.to_latex(index=None))"
   ]
  },
  {
   "cell_type": "code",
   "execution_count": 8,
   "metadata": {},
   "outputs": [
    {
     "data": {
      "text/plain": [
       "(122.52940340210866,\n",
       " 1.1102230246251565e-16,\n",
       " [10.0,\n",
       "  1.3152542372881355,\n",
       "  1.7638418079096045,\n",
       "  4.68135593220339,\n",
       "  7.875141242937853,\n",
       "  8.868926553672317,\n",
       "  3.92090395480226,\n",
       "  4.595480225988701,\n",
       "  6.646892655367232,\n",
       "  5.332203389830508],\n",
       " [7.354392522921728,\n",
       "  0.9672895928452985,\n",
       "  1.2971985003707138,\n",
       "  3.4428529064931888,\n",
       "  5.791687987401467,\n",
       "  6.522556713266966,\n",
       "  2.8835866728291975,\n",
       "  3.3796965413245954,\n",
       "  4.8883857645296125,\n",
       "  3.921511674086738])"
      ]
     },
     "execution_count": 8,
     "metadata": {},
     "output_type": "execute_result"
    }
   ],
   "source": [
    "ranks"
   ]
  },
  {
   "cell_type": "code",
   "execution_count": null,
   "metadata": {},
   "outputs": [],
   "source": [
    "p-value is 1.1102230246251565e-16 . "
   ]
  }
 ],
 "metadata": {
  "kernelspec": {
   "display_name": "Python 3",
   "language": "python",
   "name": "python3"
  },
  "language_info": {
   "codemirror_mode": {
    "name": "ipython",
    "version": 3
   },
   "file_extension": ".py",
   "mimetype": "text/x-python",
   "name": "python",
   "nbconvert_exporter": "python",
   "pygments_lexer": "ipython3",
   "version": "3.8.5"
  }
 },
 "nbformat": 4,
 "nbformat_minor": 4
}
