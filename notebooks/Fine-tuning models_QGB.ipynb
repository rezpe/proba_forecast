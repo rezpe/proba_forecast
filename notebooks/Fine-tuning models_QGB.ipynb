{
 "cells": [
  {
   "cell_type": "code",
   "execution_count": 25,
   "metadata": {},
   "outputs": [],
   "source": [
    "import numpy as np\n",
    "import pandas as pd\n",
    "from tqdm import tqdm\n",
    "\n",
    "## Medida del CRPS\n",
    "def heavyside(prediction,actual):\n",
    "    return prediction >= actual\n",
    "\n",
    "def cdf_dif(prediction,actual):\n",
    "    quantiles = np.arange(1,100)/100.0\n",
    "    t=pd.Series(prediction)\n",
    "    dif=t-t.shift(1)\n",
    "    dif=dif.dropna()\n",
    "    fs = sum(dif*((quantiles-heavyside(prediction,actual))[1:]**2))\n",
    "    # If the actual is outside the range of the prediction, \n",
    "    # we need to account for that areas outside the range \n",
    "    if actual > prediction[-1]:\n",
    "        fs += (actual-prediction[-1]) * 1\n",
    "    if actual < prediction[0]:\n",
    "        fs += (prediction[0]-actual) * 1\n",
    "    return fs\n",
    "\n",
    "def CRPS(predictions, actuals):\n",
    "    difs_mean = [cdf_dif(predictions[i],actuals[i]) for i in range(len(actuals))]\n",
    "    return np.mean(difs_mean)\n",
    "\n",
    "def evaluate(predictions,target):\n",
    "\n",
    "    res={}\n",
    "    \n",
    "    # Calculate the CRPS\n",
    "    res[\"crps\"]=CRPS(predictions,target)\n",
    "    \n",
    "    # Bonus useful Feature\n",
    "    count = 0\n",
    "    for i in range(len(target)):\n",
    "        if (target[i]>predictions[i][0]) and (target[i]<predictions[i][-1]):\n",
    "            count+=1\n",
    "    res[\"count\"]=count\n",
    "    \n",
    "    ## Calculate as well measures for the quantile 50\n",
    "    total_df = pd.DataFrame(predictions)\n",
    "    quantiles = np.arange(1,100)/100.0 \n",
    "    total_df.columns=np.array(quantiles).astype(str)\n",
    "    #RMSE       \n",
    "    res[\"rmse\"]=np.sqrt(np.mean((target-total_df[\"0.5\"])**2))\n",
    "    #MAE    \n",
    "    res[\"mae\"]=np.mean(np.abs(target-total_df[\"0.5\"] ) )\n",
    "    #Bias \n",
    "    res[\"bias\"]=np.mean(target-total_df[\"0.5\"])\n",
    "    #Corr\n",
    "    res[\"corr\"]=np.corrcoef(target,total_df[\"0.5\"])[0][1]\n",
    "\n",
    "    res[\"all\"]=predictions\n",
    "    res[\"target\"]=target\n",
    "    \n",
    "    return res"
   ]
  },
  {
   "cell_type": "code",
   "execution_count": 26,
   "metadata": {},
   "outputs": [],
   "source": [
    "import numpy as np\n",
    "import math\n",
    "import pandas as pd\n",
    "from tqdm import  tqdm\n",
    "from sklearn.model_selection import KFold\n",
    "from numpy.fft import fft\n",
    "import datetime\n",
    "import json\n",
    "import numpy as np\n",
    "from scipy import stats\n",
    "\n",
    "def prepare_data_from_horizon(df, horizon=12):\n",
    "    \n",
    "    data=df.copy()\n",
    "\n",
    "    sel = np.concatenate([[1,2,3,4],\n",
    "                         [12],\n",
    "                         24*np.arange(1,9),\n",
    "                         12+24*np.arange(1,9)])  \n",
    "    sel=np.concatenate([sel,sel-1,sel+1])  \n",
    "    \n",
    "    ## lagged NO2 values\n",
    "    for i in sel:\n",
    "        if (i>=horizon):\n",
    "            data[\"NO2 - \"+str(i)] = data[\"NO2\"].shift(i)\n",
    "\n",
    "    ## lagged O3 values\n",
    "    for i in 24*np.arange(1,4):\n",
    "        if (i>=horizon):\n",
    "            data[\"O3 - \"+str(i)] = data[\"O3\"].shift(i)\n",
    "\n",
    "    ## Remove empty values\n",
    "    data=data.dropna()\n",
    "\n",
    "    X=data[list(set(data.columns)-set(['DATE',\"NO2\",\"O3\"]))]\n",
    "    y=data[\"NO2\"]\n",
    "  \n",
    "    return X, y\n",
    "\n",
    "#\"data/dataEscAgui.csv\"\n",
    "def get_data(path):\n",
    "\n",
    "    df = pd.read_csv(path,sep=\";\")\n",
    "\n",
    "    # Prepare data\n",
    "    data = df[[\"DATE\",\"SPA.NO2\",\"SPA.O3\",\"MACC.NO2\"]].copy()\n",
    "    data[\"DATE\"]=pd.to_datetime(data[\"DATE\"],format=\"%Y-%m-%d %H:%M:%S\")\n",
    "    data = data.sort_values(\"DATE\")\n",
    "    data.columns = [\"DATE\",\"NO2\",\"O3\",\"CAMS\"]\n",
    "\n",
    "    ## Remove everything from 2020\n",
    "    data=data[data[\"DATE\"].astype(str)<\"2020\"]\n",
    "\n",
    "    ## Fourier Columns\n",
    "    freqs = [2922,1461,209,1465,4]\n",
    "    l = 35064\n",
    "    n = np.arange(len(data))\n",
    "    fcols = []\n",
    "    for f in freqs:\n",
    "        data[\"c\"+str(f)]=np.cos(n*2*np.pi*f/l)\n",
    "        fcols.append(\"c\"+str(f))\n",
    "        data[\"s\"+str(f)]=np.cos(n*2*np.pi*f/l)\n",
    "        fcols.append(\"s\"+str(f))\n",
    "\n",
    "    data[\"NO2\"]=np.log1p(data[\"NO2\"])\n",
    "    data[\"O3\"]=np.log1p(data[\"O3\"])\n",
    "    data[\"CAMS\"]=np.log1p(data[\"CAMS\"])\n",
    "\n",
    "    ## Calendar Variables \n",
    "    ## Calendar Variables do not bring better results and therefore\n",
    "    ## removed\n",
    "    \n",
    "    return data"
   ]
  },
  {
   "cell_type": "code",
   "execution_count": 27,
   "metadata": {},
   "outputs": [],
   "source": [
    "import lightgbm as lgb\n",
    "import numpy as np\n",
    "import math\n",
    "import pandas as pd\n",
    "from tqdm import tqdm\n",
    "from scipy import stats\n",
    "\n",
    "class TotalLGBQuantile():\n",
    "    \n",
    "    def __init__(self,n_estimators,max_depth):\n",
    "        self.n_estimators=n_estimators\n",
    "        self.max_depth=max_depth\n",
    "        self.quantiles=[0.022750131948179195,0.15865525393145707,0.5,0.8413447460685429,0.9772498680518208]\n",
    "        self.estimators = []\n",
    "        \n",
    "    def fit(self,X_train,y_train):\n",
    "        print(\"training !\")\n",
    "        for q in tqdm(self.quantiles):\n",
    "            print(f\"Quantile: {q}\")\n",
    "            reg = lgb.LGBMRegressor(n_estimators=self.n_estimators,\n",
    "                                    objective= 'quantile',\n",
    "                                    loss=\"quantile\",\n",
    "                                    alpha=q,\n",
    "                                    random_state=2020,\n",
    "                                   max_depth=self.max_depth)\n",
    "                                \n",
    "            reg.fit(X_train, y_train)\n",
    "            self.estimators.append(reg)\n",
    "        print(\"Done\")\n",
    "        \n",
    "    def predict(self,X):\n",
    "        predictions_gbr = []\n",
    "        print(\"predicting\")\n",
    "        for reg in tqdm(self.estimators):\n",
    "            predictions_gbr.append(reg.predict(X))\n",
    "         \n",
    "        total_pred={}\n",
    "        for i in range(len(predictions_gbr)):\n",
    "            total_pred[i]=predictions_gbr[i]\n",
    "            \n",
    "        total_df=pd.DataFrame(total_pred)\n",
    "\n",
    "        def process_row(row):\n",
    "            v = row.values\n",
    "            dif_mean = np.abs(v-v[2])\n",
    "            mu = v[2]\n",
    "            s = np.mean([dif_mean[0]/2,dif_mean[1],dif_mean[3],dif_mean[4]/2])\n",
    "            mi_norm = stats.norm(mu,s)\n",
    "            quant=[]\n",
    "            for quantile in np.arange(1,100)/100.0 :\n",
    "                quant.append(mi_norm.ppf(quantile))\n",
    "            return pd.Series(quant)\n",
    " \n",
    "        total_df = total_df.apply(process_row,axis=1)\n",
    "        \n",
    "        return total_df.values\n"
   ]
  },
  {
   "cell_type": "code",
   "execution_count": 28,
   "metadata": {},
   "outputs": [],
   "source": [
    "import numpy as np\n",
    "import math\n",
    "import pandas as pd\n",
    "from tqdm import tqdm\n",
    "from scipy import stats\n",
    "\n",
    "from keras.models import Sequential\n",
    "from keras.layers import Dense, LeakyReLU\n",
    "from keras.callbacks import EarlyStopping\n",
    "import keras.backend as K \n",
    "\n",
    "from sklearn.model_selection import train_test_split\n",
    "\n",
    "def tilted_loss(q,y,f):\n",
    "    e = (y-f)\n",
    "    return K.mean(K.maximum(q*e, (q-1)*e), axis=-1)\n",
    "\n",
    "class MLPQuantile():\n",
    "    \n",
    "    def __init__(self):\n",
    "\n",
    "        self.estimators = []\n",
    "        \n",
    "    def fit(self,X_train,y_train):\n",
    "        \n",
    "        def MLPmodel():\n",
    "            model = Sequential()\n",
    "            model.add(Dense(len(X_train[0]), input_dim=len(X_train[0]), activation=LeakyReLU(alpha=0.3)))\n",
    "            model.add(Dense(int(len(X_train[0])/2), activation=LeakyReLU(alpha=0.3)))\n",
    "            model.add(Dense(int(len(X_train[0])/2), activation=LeakyReLU(alpha=0.3)))\n",
    "            model.add(Dense(1, activation='linear'))\n",
    "            return model\n",
    "        \n",
    "        print(\"training !\")\n",
    "\n",
    "        X_ttrain, X_val, y_ttrain, y_val = train_test_split(X_train,y_train,test_size=.05,random_state=2020)\n",
    "\n",
    "        for q in [0.022750131948179195,0.15865525393145707,0.5,0.8413447460685429,0.9772498680518208]:\n",
    "            print(f\"Quantile: {q}\")\n",
    "            model = MLPmodel()\n",
    "            model.compile(loss=lambda y,f: tilted_loss(q,y,f), optimizer='adadelta')\n",
    "            es = EarlyStopping(monitor='val_loss', mode='min', verbose=1,patience=50)\n",
    "            history = model.fit(X_ttrain, y_ttrain, \n",
    "                                epochs=1000, batch_size=500,  \n",
    "                                verbose=1,callbacks=[es],\n",
    "                                validation_data=(X_val,y_val))\n",
    "            self.estimators.append(model)\n",
    "        print(\"Done\")\n",
    "        \n",
    "    def predict(self,X):\n",
    "        predictions_gbr = []\n",
    "        print(\"predicting\")\n",
    "        for reg in tqdm(self.estimators):\n",
    "            predictions_gbr.append(reg.predict(X))\n",
    "         \n",
    "        total_pred={}\n",
    "        for i in range(len(predictions_gbr)):\n",
    "            total_pred[i]=predictions_gbr[i][:,0]\n",
    "            \n",
    "        total_df=pd.DataFrame(total_pred)\n",
    "\n",
    "        def process_row(row):\n",
    "            v = row.values\n",
    "            dif_mean = np.abs(v-v[2])\n",
    "            mu = v[2]\n",
    "            s = np.mean([dif_mean[0]/2,dif_mean[1],dif_mean[3],dif_mean[4]/2])\n",
    "            mi_norm = stats.norm(mu,s)\n",
    "            quant=[]\n",
    "            for quantile in np.arange(1,100)/100.0 :\n",
    "                quant.append(mi_norm.ppf(quantile))\n",
    "            return pd.Series(quant)\n",
    " \n",
    "        total_df = total_df.apply(process_row,axis=1)\n",
    "        \n",
    "        return total_df.values\n"
   ]
  },
  {
   "cell_type": "code",
   "execution_count": 29,
   "metadata": {},
   "outputs": [],
   "source": [
    "from datetime import datetime, timedelta\n",
    "from sklearn.linear_model import LinearRegression\n",
    "from sklearn.preprocessing import RobustScaler\n",
    "from sklearn.model_selection import KFold"
   ]
  },
  {
   "cell_type": "code",
   "execution_count": 30,
   "metadata": {},
   "outputs": [],
   "source": [
    "horizon = 13\n",
    "\n",
    "df = get_data(\"../2018_2019_data/28079008.csv\")\n",
    "X, y = prepare_data_from_horizon(df,horizon)\n",
    "\n",
    "kf = KFold(5,shuffle=True)\n",
    "train_index, test_index = list(kf.split(X))[1]\n",
    "\n",
    "train_index = X.index.values[train_index]\n",
    "test_index = X.index.values[test_index] \n",
    "        \n",
    "# Filter the test index when prediction time is 10:00\n",
    "ten_index = df[(df[\"DATE\"]-timedelta(hours=horizon)).dt.hour==10].index\n",
    "test_index_10 = test_index[pd.Series(test_index).isin(ten_index)]\n",
    "        \n",
    "# We retrieve the indexes that are related to the test indexes according to our AR model\n",
    "sel = np.concatenate([[1,2,3,4],\n",
    "                            [12],\n",
    "                            24*np.arange(1,9),\n",
    "                            12+24*np.arange(1,9)])  \n",
    "sel=np.concatenate([sel,sel-1,sel+1]) \n",
    "        \n",
    "all_index_related_test = set([])\n",
    "for i in sel:\n",
    "    all_index_related_test |= set(test_index_10+i)\n",
    "        \n",
    "train_index_CV = train_index[pd.Series(train_index).isin(list(all_index_related_test))]\n",
    "        \n",
    "X_train = X.loc[train_index_CV]\n",
    "y_train = y.loc[train_index_CV]\n",
    "        \n",
    "X_test = X.loc[test_index_10]\n",
    "y_test = y.loc[test_index_10]\n",
    "        \n",
    "scaler = RobustScaler()\n",
    "# Fit the scaler on the training features and transform these in one go\n",
    "X_train_std = scaler.fit_transform(X_train)\n",
    "# Scale the test set\n",
    "X_test_std = scaler.transform(X_test)\n",
    "        \n",
    "lin = LinearRegression()\n",
    "lin.fit(X_train_std,y_train)\n",
    "\n",
    "dif_train = y_train-lin.predict(X_train_std)\n",
    "dif_test = y_test-lin.predict(X_test_std)"
   ]
  },
  {
   "cell_type": "code",
   "execution_count": 48,
   "metadata": {},
   "outputs": [],
   "source": [
    "from tqdm.notebook import tqdm"
   ]
  },
  {
   "cell_type": "code",
   "execution_count": 49,
   "metadata": {},
   "outputs": [
    {
     "data": {
      "application/vnd.jupyter.widget-view+json": {
       "model_id": "8e5bb6fa69ea4c1e9e8cffc7c5668b75",
       "version_major": 2,
       "version_minor": 0
      },
      "text/plain": [
       "HBox(children=(HTML(value=''), FloatProgress(value=0.0, max=7.0), HTML(value='')))"
      ]
     },
     "metadata": {},
     "output_type": "display_data"
    },
    {
     "data": {
      "application/vnd.jupyter.widget-view+json": {
       "model_id": "8b4be51d7df2427f9043419b9ef95cc4",
       "version_major": 2,
       "version_minor": 0
      },
      "text/plain": [
       "HBox(children=(HTML(value=''), FloatProgress(value=0.0, max=6.0), HTML(value='')))"
      ]
     },
     "metadata": {},
     "output_type": "display_data"
    },
    {
     "name": "stdout",
     "output_type": "stream",
     "text": [
      "training !\n"
     ]
    },
    {
     "data": {
      "application/vnd.jupyter.widget-view+json": {
       "model_id": "00c2b27f9e1146b7b84a9a96b798aacb",
       "version_major": 2,
       "version_minor": 0
      },
      "text/plain": [
       "HBox(children=(HTML(value=''), FloatProgress(value=0.0, max=5.0), HTML(value='')))"
      ]
     },
     "metadata": {},
     "output_type": "display_data"
    },
    {
     "name": "stdout",
     "output_type": "stream",
     "text": [
      "Quantile: 0.022750131948179195\n",
      "[LightGBM] [Warning] Unknown parameter: loss\n",
      "Quantile: 0.15865525393145707\n",
      "Quantile: 0.5\n",
      "Quantile: 0.8413447460685429\n",
      "Quantile: 0.9772498680518208\n",
      "\n",
      "Done\n",
      "predicting\n"
     ]
    },
    {
     "data": {
      "application/vnd.jupyter.widget-view+json": {
       "model_id": "7a40912bc8484ef0867e832b9030aa70",
       "version_major": 2,
       "version_minor": 0
      },
      "text/plain": [
       "HBox(children=(HTML(value=''), FloatProgress(value=0.0, max=5.0), HTML(value='')))"
      ]
     },
     "metadata": {},
     "output_type": "display_data"
    },
    {
     "name": "stdout",
     "output_type": "stream",
     "text": [
      "\n"
     ]
    },
    {
     "name": "stderr",
     "output_type": "stream",
     "text": [
      "Exception ignored in: <function tqdm.__del__ at 0x11a1cf670>\n",
      "Traceback (most recent call last):\n",
      "  File \"/Users/sebastien.perez/anaconda3/lib/python3.8/site-packages/tqdm/std.py\", line 1122, in __del__\n",
      "    self.close()\n",
      "  File \"/Users/sebastien.perez/anaconda3/lib/python3.8/site-packages/tqdm/notebook.py\", line 261, in close\n",
      "    self.sp(bar_style='danger')\n",
      "AttributeError: 'tqdm_notebook' object has no attribute 'sp'\n"
     ]
    },
    {
     "name": "stdout",
     "output_type": "stream",
     "text": [
      "training !\n"
     ]
    },
    {
     "data": {
      "application/vnd.jupyter.widget-view+json": {
       "model_id": "f6bf0ab60f394f888657e35c3ad33cd9",
       "version_major": 2,
       "version_minor": 0
      },
      "text/plain": [
       "HBox(children=(HTML(value=''), FloatProgress(value=0.0, max=5.0), HTML(value='')))"
      ]
     },
     "metadata": {},
     "output_type": "display_data"
    },
    {
     "name": "stdout",
     "output_type": "stream",
     "text": [
      "Quantile: 0.022750131948179195\n",
      "[LightGBM] [Warning] Unknown parameter: loss\n",
      "[LightGBM] [Warning] Accuracy may be bad since you didn't explicitly set num_leaves OR 2^max_depth > num_leaves. (num_leaves=31).\n",
      "Quantile: 0.15865525393145707\n",
      "Quantile: 0.5\n",
      "Quantile: 0.8413447460685429\n",
      "Quantile: 0.9772498680518208\n",
      "\n",
      "Done\n",
      "predicting\n"
     ]
    },
    {
     "data": {
      "application/vnd.jupyter.widget-view+json": {
       "model_id": "122581feee3b483cb3a0ae77475b3dc2",
       "version_major": 2,
       "version_minor": 0
      },
      "text/plain": [
       "HBox(children=(HTML(value=''), FloatProgress(value=0.0, max=5.0), HTML(value='')))"
      ]
     },
     "metadata": {},
     "output_type": "display_data"
    },
    {
     "name": "stdout",
     "output_type": "stream",
     "text": [
      "\n",
      "training !\n"
     ]
    },
    {
     "data": {
      "application/vnd.jupyter.widget-view+json": {
       "model_id": "667b65a4938c4f979bbd4eeff9d93c98",
       "version_major": 2,
       "version_minor": 0
      },
      "text/plain": [
       "HBox(children=(HTML(value=''), FloatProgress(value=0.0, max=5.0), HTML(value='')))"
      ]
     },
     "metadata": {},
     "output_type": "display_data"
    },
    {
     "name": "stdout",
     "output_type": "stream",
     "text": [
      "Quantile: 0.022750131948179195\n",
      "[LightGBM] [Warning] Unknown parameter: loss\n",
      "[LightGBM] [Warning] Accuracy may be bad since you didn't explicitly set num_leaves OR 2^max_depth > num_leaves. (num_leaves=31).\n",
      "Quantile: 0.15865525393145707\n",
      "Quantile: 0.5\n",
      "Quantile: 0.8413447460685429\n",
      "Quantile: 0.9772498680518208\n",
      "\n",
      "Done\n",
      "predicting\n"
     ]
    },
    {
     "data": {
      "application/vnd.jupyter.widget-view+json": {
       "model_id": "e08fcc8a91514043b66ef0482176fb03",
       "version_major": 2,
       "version_minor": 0
      },
      "text/plain": [
       "HBox(children=(HTML(value=''), FloatProgress(value=0.0, max=5.0), HTML(value='')))"
      ]
     },
     "metadata": {},
     "output_type": "display_data"
    },
    {
     "name": "stdout",
     "output_type": "stream",
     "text": [
      "\n",
      "training !\n"
     ]
    },
    {
     "data": {
      "application/vnd.jupyter.widget-view+json": {
       "model_id": "107f9fcb11c74ca29a05ef1ac88c1106",
       "version_major": 2,
       "version_minor": 0
      },
      "text/plain": [
       "HBox(children=(HTML(value=''), FloatProgress(value=0.0, max=5.0), HTML(value='')))"
      ]
     },
     "metadata": {},
     "output_type": "display_data"
    },
    {
     "name": "stdout",
     "output_type": "stream",
     "text": [
      "Quantile: 0.022750131948179195\n",
      "[LightGBM] [Warning] Unknown parameter: loss\n",
      "[LightGBM] [Warning] Accuracy may be bad since you didn't explicitly set num_leaves OR 2^max_depth > num_leaves. (num_leaves=31).\n",
      "Quantile: 0.15865525393145707\n",
      "Quantile: 0.5\n",
      "Quantile: 0.8413447460685429\n",
      "Quantile: 0.9772498680518208\n",
      "\n",
      "Done\n",
      "predicting\n"
     ]
    },
    {
     "data": {
      "application/vnd.jupyter.widget-view+json": {
       "model_id": "1833e9c3be6b414e98687e668f0c6726",
       "version_major": 2,
       "version_minor": 0
      },
      "text/plain": [
       "HBox(children=(HTML(value=''), FloatProgress(value=0.0, max=5.0), HTML(value='')))"
      ]
     },
     "metadata": {},
     "output_type": "display_data"
    },
    {
     "name": "stdout",
     "output_type": "stream",
     "text": [
      "\n",
      "training !\n"
     ]
    },
    {
     "data": {
      "application/vnd.jupyter.widget-view+json": {
       "model_id": "666fec7b0d314e078164109471f88b62",
       "version_major": 2,
       "version_minor": 0
      },
      "text/plain": [
       "HBox(children=(HTML(value=''), FloatProgress(value=0.0, max=5.0), HTML(value='')))"
      ]
     },
     "metadata": {},
     "output_type": "display_data"
    },
    {
     "name": "stdout",
     "output_type": "stream",
     "text": [
      "Quantile: 0.022750131948179195\n",
      "[LightGBM] [Warning] Unknown parameter: loss\n",
      "[LightGBM] [Warning] Accuracy may be bad since you didn't explicitly set num_leaves OR 2^max_depth > num_leaves. (num_leaves=31).\n",
      "Quantile: 0.15865525393145707\n",
      "Quantile: 0.5\n",
      "Quantile: 0.8413447460685429\n",
      "Quantile: 0.9772498680518208\n",
      "\n",
      "Done\n",
      "predicting\n"
     ]
    },
    {
     "data": {
      "application/vnd.jupyter.widget-view+json": {
       "model_id": "2438b0bf33914f3ca597942f5b9daeb3",
       "version_major": 2,
       "version_minor": 0
      },
      "text/plain": [
       "HBox(children=(HTML(value=''), FloatProgress(value=0.0, max=5.0), HTML(value='')))"
      ]
     },
     "metadata": {},
     "output_type": "display_data"
    },
    {
     "name": "stdout",
     "output_type": "stream",
     "text": [
      "\n",
      "training !\n"
     ]
    },
    {
     "data": {
      "application/vnd.jupyter.widget-view+json": {
       "model_id": "694dc64cb00b4d9d8d0f6a9ce3ad9c20",
       "version_major": 2,
       "version_minor": 0
      },
      "text/plain": [
       "HBox(children=(HTML(value=''), FloatProgress(value=0.0, max=5.0), HTML(value='')))"
      ]
     },
     "metadata": {},
     "output_type": "display_data"
    },
    {
     "name": "stdout",
     "output_type": "stream",
     "text": [
      "Quantile: 0.022750131948179195\n",
      "[LightGBM] [Warning] Unknown parameter: loss\n",
      "[LightGBM] [Warning] Accuracy may be bad since you didn't explicitly set num_leaves OR 2^max_depth > num_leaves. (num_leaves=31).\n",
      "Quantile: 0.15865525393145707\n",
      "Quantile: 0.5\n",
      "Quantile: 0.8413447460685429\n",
      "Quantile: 0.9772498680518208\n",
      "\n",
      "Done\n",
      "predicting\n"
     ]
    },
    {
     "data": {
      "application/vnd.jupyter.widget-view+json": {
       "model_id": "3d0a9091d2fa4f21aae6efbdf85071c2",
       "version_major": 2,
       "version_minor": 0
      },
      "text/plain": [
       "HBox(children=(HTML(value=''), FloatProgress(value=0.0, max=5.0), HTML(value='')))"
      ]
     },
     "metadata": {},
     "output_type": "display_data"
    },
    {
     "name": "stdout",
     "output_type": "stream",
     "text": [
      "\n",
      "\n"
     ]
    },
    {
     "data": {
      "application/vnd.jupyter.widget-view+json": {
       "model_id": "c103948a7a3f4d4684268e613758fe8c",
       "version_major": 2,
       "version_minor": 0
      },
      "text/plain": [
       "HBox(children=(HTML(value=''), FloatProgress(value=0.0, max=6.0), HTML(value='')))"
      ]
     },
     "metadata": {},
     "output_type": "display_data"
    },
    {
     "name": "stdout",
     "output_type": "stream",
     "text": [
      "training !\n"
     ]
    },
    {
     "data": {
      "application/vnd.jupyter.widget-view+json": {
       "model_id": "3e462851181a4348a4a9168ae17fbcfe",
       "version_major": 2,
       "version_minor": 0
      },
      "text/plain": [
       "HBox(children=(HTML(value=''), FloatProgress(value=0.0, max=5.0), HTML(value='')))"
      ]
     },
     "metadata": {},
     "output_type": "display_data"
    },
    {
     "name": "stdout",
     "output_type": "stream",
     "text": [
      "Quantile: 0.022750131948179195\n",
      "[LightGBM] [Warning] Unknown parameter: loss\n",
      "Quantile: 0.15865525393145707\n",
      "Quantile: 0.5\n",
      "Quantile: 0.8413447460685429\n",
      "Quantile: 0.9772498680518208\n",
      "\n",
      "Done\n",
      "predicting\n"
     ]
    },
    {
     "data": {
      "application/vnd.jupyter.widget-view+json": {
       "model_id": "253f719545da4ba48ebaa403ead6d736",
       "version_major": 2,
       "version_minor": 0
      },
      "text/plain": [
       "HBox(children=(HTML(value=''), FloatProgress(value=0.0, max=5.0), HTML(value='')))"
      ]
     },
     "metadata": {},
     "output_type": "display_data"
    },
    {
     "name": "stdout",
     "output_type": "stream",
     "text": [
      "\n",
      "training !\n"
     ]
    },
    {
     "data": {
      "application/vnd.jupyter.widget-view+json": {
       "model_id": "de84eb8cd5c74f62871e486dae4b24ed",
       "version_major": 2,
       "version_minor": 0
      },
      "text/plain": [
       "HBox(children=(HTML(value=''), FloatProgress(value=0.0, max=5.0), HTML(value='')))"
      ]
     },
     "metadata": {},
     "output_type": "display_data"
    },
    {
     "name": "stdout",
     "output_type": "stream",
     "text": [
      "Quantile: 0.022750131948179195\n",
      "[LightGBM] [Warning] Unknown parameter: loss\n",
      "[LightGBM] [Warning] Accuracy may be bad since you didn't explicitly set num_leaves OR 2^max_depth > num_leaves. (num_leaves=31).\n",
      "Quantile: 0.15865525393145707\n",
      "Quantile: 0.5\n",
      "Quantile: 0.8413447460685429\n",
      "Quantile: 0.9772498680518208\n",
      "\n",
      "Done\n",
      "predicting\n"
     ]
    },
    {
     "data": {
      "application/vnd.jupyter.widget-view+json": {
       "model_id": "c5e37b351ce040b3aa2bb68367d8136c",
       "version_major": 2,
       "version_minor": 0
      },
      "text/plain": [
       "HBox(children=(HTML(value=''), FloatProgress(value=0.0, max=5.0), HTML(value='')))"
      ]
     },
     "metadata": {},
     "output_type": "display_data"
    },
    {
     "name": "stdout",
     "output_type": "stream",
     "text": [
      "\n",
      "training !\n"
     ]
    },
    {
     "data": {
      "application/vnd.jupyter.widget-view+json": {
       "model_id": "e7330f1e81b6492da32582bbbd706bb6",
       "version_major": 2,
       "version_minor": 0
      },
      "text/plain": [
       "HBox(children=(HTML(value=''), FloatProgress(value=0.0, max=5.0), HTML(value='')))"
      ]
     },
     "metadata": {},
     "output_type": "display_data"
    },
    {
     "name": "stdout",
     "output_type": "stream",
     "text": [
      "Quantile: 0.022750131948179195\n",
      "[LightGBM] [Warning] Unknown parameter: loss\n",
      "[LightGBM] [Warning] Accuracy may be bad since you didn't explicitly set num_leaves OR 2^max_depth > num_leaves. (num_leaves=31).\n",
      "Quantile: 0.15865525393145707\n",
      "Quantile: 0.5\n",
      "Quantile: 0.8413447460685429\n",
      "Quantile: 0.9772498680518208\n",
      "\n",
      "Done\n",
      "predicting\n"
     ]
    },
    {
     "data": {
      "application/vnd.jupyter.widget-view+json": {
       "model_id": "2ae360044ab146ad9ec9ae67f7b3197b",
       "version_major": 2,
       "version_minor": 0
      },
      "text/plain": [
       "HBox(children=(HTML(value=''), FloatProgress(value=0.0, max=5.0), HTML(value='')))"
      ]
     },
     "metadata": {},
     "output_type": "display_data"
    },
    {
     "name": "stdout",
     "output_type": "stream",
     "text": [
      "\n",
      "training !\n"
     ]
    },
    {
     "data": {
      "application/vnd.jupyter.widget-view+json": {
       "model_id": "78d059f482bb4201bebc71817bd6820b",
       "version_major": 2,
       "version_minor": 0
      },
      "text/plain": [
       "HBox(children=(HTML(value=''), FloatProgress(value=0.0, max=5.0), HTML(value='')))"
      ]
     },
     "metadata": {},
     "output_type": "display_data"
    },
    {
     "name": "stdout",
     "output_type": "stream",
     "text": [
      "Quantile: 0.022750131948179195\n",
      "[LightGBM] [Warning] Unknown parameter: loss\n",
      "[LightGBM] [Warning] Accuracy may be bad since you didn't explicitly set num_leaves OR 2^max_depth > num_leaves. (num_leaves=31).\n",
      "Quantile: 0.15865525393145707\n",
      "Quantile: 0.5\n",
      "Quantile: 0.8413447460685429\n",
      "Quantile: 0.9772498680518208\n",
      "\n",
      "Done\n",
      "predicting\n"
     ]
    },
    {
     "data": {
      "application/vnd.jupyter.widget-view+json": {
       "model_id": "b1343acf21eb4d59acd186da0cfdd7ea",
       "version_major": 2,
       "version_minor": 0
      },
      "text/plain": [
       "HBox(children=(HTML(value=''), FloatProgress(value=0.0, max=5.0), HTML(value='')))"
      ]
     },
     "metadata": {},
     "output_type": "display_data"
    },
    {
     "name": "stdout",
     "output_type": "stream",
     "text": [
      "\n",
      "training !\n"
     ]
    },
    {
     "data": {
      "application/vnd.jupyter.widget-view+json": {
       "model_id": "d497c7b4435d42c59fd9e59839fd0cee",
       "version_major": 2,
       "version_minor": 0
      },
      "text/plain": [
       "HBox(children=(HTML(value=''), FloatProgress(value=0.0, max=5.0), HTML(value='')))"
      ]
     },
     "metadata": {},
     "output_type": "display_data"
    },
    {
     "name": "stdout",
     "output_type": "stream",
     "text": [
      "Quantile: 0.022750131948179195\n",
      "[LightGBM] [Warning] Unknown parameter: loss\n",
      "[LightGBM] [Warning] Accuracy may be bad since you didn't explicitly set num_leaves OR 2^max_depth > num_leaves. (num_leaves=31).\n",
      "Quantile: 0.15865525393145707\n",
      "Quantile: 0.5\n",
      "Quantile: 0.8413447460685429\n",
      "Quantile: 0.9772498680518208\n",
      "\n",
      "Done\n",
      "predicting\n"
     ]
    },
    {
     "data": {
      "application/vnd.jupyter.widget-view+json": {
       "model_id": "61ce40658a594206a42a7f3c19e51b8a",
       "version_major": 2,
       "version_minor": 0
      },
      "text/plain": [
       "HBox(children=(HTML(value=''), FloatProgress(value=0.0, max=5.0), HTML(value='')))"
      ]
     },
     "metadata": {},
     "output_type": "display_data"
    },
    {
     "name": "stdout",
     "output_type": "stream",
     "text": [
      "\n",
      "training !\n"
     ]
    },
    {
     "data": {
      "application/vnd.jupyter.widget-view+json": {
       "model_id": "36d71a34ac824510acdfda646cf3c8cb",
       "version_major": 2,
       "version_minor": 0
      },
      "text/plain": [
       "HBox(children=(HTML(value=''), FloatProgress(value=0.0, max=5.0), HTML(value='')))"
      ]
     },
     "metadata": {},
     "output_type": "display_data"
    },
    {
     "name": "stdout",
     "output_type": "stream",
     "text": [
      "Quantile: 0.022750131948179195\n",
      "[LightGBM] [Warning] Unknown parameter: loss\n",
      "[LightGBM] [Warning] Accuracy may be bad since you didn't explicitly set num_leaves OR 2^max_depth > num_leaves. (num_leaves=31).\n",
      "Quantile: 0.15865525393145707\n",
      "Quantile: 0.5\n",
      "Quantile: 0.8413447460685429\n",
      "Quantile: 0.9772498680518208\n",
      "\n",
      "Done\n",
      "predicting\n"
     ]
    },
    {
     "data": {
      "application/vnd.jupyter.widget-view+json": {
       "model_id": "8c7d34164c0344b9b7867f9edac7375b",
       "version_major": 2,
       "version_minor": 0
      },
      "text/plain": [
       "HBox(children=(HTML(value=''), FloatProgress(value=0.0, max=5.0), HTML(value='')))"
      ]
     },
     "metadata": {},
     "output_type": "display_data"
    },
    {
     "name": "stdout",
     "output_type": "stream",
     "text": [
      "\n",
      "\n"
     ]
    },
    {
     "data": {
      "application/vnd.jupyter.widget-view+json": {
       "model_id": "ab7560a697564a849a705a5cb78b57e2",
       "version_major": 2,
       "version_minor": 0
      },
      "text/plain": [
       "HBox(children=(HTML(value=''), FloatProgress(value=0.0, max=6.0), HTML(value='')))"
      ]
     },
     "metadata": {},
     "output_type": "display_data"
    },
    {
     "name": "stdout",
     "output_type": "stream",
     "text": [
      "training !\n"
     ]
    },
    {
     "data": {
      "application/vnd.jupyter.widget-view+json": {
       "model_id": "f18afe42f94e4ee890451f2b1902bb54",
       "version_major": 2,
       "version_minor": 0
      },
      "text/plain": [
       "HBox(children=(HTML(value=''), FloatProgress(value=0.0, max=5.0), HTML(value='')))"
      ]
     },
     "metadata": {},
     "output_type": "display_data"
    },
    {
     "name": "stdout",
     "output_type": "stream",
     "text": [
      "Quantile: 0.022750131948179195\n",
      "[LightGBM] [Warning] Unknown parameter: loss\n",
      "Quantile: 0.15865525393145707\n",
      "Quantile: 0.5\n",
      "Quantile: 0.8413447460685429\n",
      "Quantile: 0.9772498680518208\n",
      "\n",
      "Done\n",
      "predicting\n"
     ]
    },
    {
     "data": {
      "application/vnd.jupyter.widget-view+json": {
       "model_id": "7541fd8cc2a549b3af0aee5f087b0aed",
       "version_major": 2,
       "version_minor": 0
      },
      "text/plain": [
       "HBox(children=(HTML(value=''), FloatProgress(value=0.0, max=5.0), HTML(value='')))"
      ]
     },
     "metadata": {},
     "output_type": "display_data"
    },
    {
     "name": "stdout",
     "output_type": "stream",
     "text": [
      "\n",
      "training !\n"
     ]
    },
    {
     "data": {
      "application/vnd.jupyter.widget-view+json": {
       "model_id": "2ac3999798884d7c827e137939cc05fb",
       "version_major": 2,
       "version_minor": 0
      },
      "text/plain": [
       "HBox(children=(HTML(value=''), FloatProgress(value=0.0, max=5.0), HTML(value='')))"
      ]
     },
     "metadata": {},
     "output_type": "display_data"
    },
    {
     "name": "stdout",
     "output_type": "stream",
     "text": [
      "Quantile: 0.022750131948179195\n",
      "[LightGBM] [Warning] Unknown parameter: loss\n",
      "[LightGBM] [Warning] Accuracy may be bad since you didn't explicitly set num_leaves OR 2^max_depth > num_leaves. (num_leaves=31).\n",
      "Quantile: 0.15865525393145707\n",
      "Quantile: 0.5\n",
      "Quantile: 0.8413447460685429\n",
      "Quantile: 0.9772498680518208\n",
      "\n",
      "Done\n",
      "predicting\n"
     ]
    },
    {
     "data": {
      "application/vnd.jupyter.widget-view+json": {
       "model_id": "4de21c4770174f5a824528894ea155b6",
       "version_major": 2,
       "version_minor": 0
      },
      "text/plain": [
       "HBox(children=(HTML(value=''), FloatProgress(value=0.0, max=5.0), HTML(value='')))"
      ]
     },
     "metadata": {},
     "output_type": "display_data"
    },
    {
     "name": "stdout",
     "output_type": "stream",
     "text": [
      "\n",
      "training !\n"
     ]
    },
    {
     "data": {
      "application/vnd.jupyter.widget-view+json": {
       "model_id": "0dd6ccf280144e708f70dc7b1b15a2ae",
       "version_major": 2,
       "version_minor": 0
      },
      "text/plain": [
       "HBox(children=(HTML(value=''), FloatProgress(value=0.0, max=5.0), HTML(value='')))"
      ]
     },
     "metadata": {},
     "output_type": "display_data"
    },
    {
     "name": "stdout",
     "output_type": "stream",
     "text": [
      "Quantile: 0.022750131948179195\n",
      "[LightGBM] [Warning] Unknown parameter: loss\n",
      "[LightGBM] [Warning] Accuracy may be bad since you didn't explicitly set num_leaves OR 2^max_depth > num_leaves. (num_leaves=31).\n",
      "Quantile: 0.15865525393145707\n",
      "Quantile: 0.5\n",
      "Quantile: 0.8413447460685429\n",
      "Quantile: 0.9772498680518208\n",
      "\n",
      "Done\n",
      "predicting\n"
     ]
    },
    {
     "data": {
      "application/vnd.jupyter.widget-view+json": {
       "model_id": "f6aa6cce9cf741f7ba3806acc4dd685a",
       "version_major": 2,
       "version_minor": 0
      },
      "text/plain": [
       "HBox(children=(HTML(value=''), FloatProgress(value=0.0, max=5.0), HTML(value='')))"
      ]
     },
     "metadata": {},
     "output_type": "display_data"
    },
    {
     "name": "stdout",
     "output_type": "stream",
     "text": [
      "\n",
      "training !\n"
     ]
    },
    {
     "data": {
      "application/vnd.jupyter.widget-view+json": {
       "model_id": "6a416cd08ea74a919744c042d8ab2abb",
       "version_major": 2,
       "version_minor": 0
      },
      "text/plain": [
       "HBox(children=(HTML(value=''), FloatProgress(value=0.0, max=5.0), HTML(value='')))"
      ]
     },
     "metadata": {},
     "output_type": "display_data"
    },
    {
     "name": "stdout",
     "output_type": "stream",
     "text": [
      "Quantile: 0.022750131948179195\n",
      "[LightGBM] [Warning] Unknown parameter: loss\n",
      "[LightGBM] [Warning] Accuracy may be bad since you didn't explicitly set num_leaves OR 2^max_depth > num_leaves. (num_leaves=31).\n",
      "Quantile: 0.15865525393145707\n",
      "Quantile: 0.5\n",
      "Quantile: 0.8413447460685429\n",
      "Quantile: 0.9772498680518208\n",
      "\n",
      "Done\n",
      "predicting\n"
     ]
    },
    {
     "data": {
      "application/vnd.jupyter.widget-view+json": {
       "model_id": "020d012ff67a4200a66c7715eb23cf3c",
       "version_major": 2,
       "version_minor": 0
      },
      "text/plain": [
       "HBox(children=(HTML(value=''), FloatProgress(value=0.0, max=5.0), HTML(value='')))"
      ]
     },
     "metadata": {},
     "output_type": "display_data"
    },
    {
     "name": "stdout",
     "output_type": "stream",
     "text": [
      "\n",
      "training !\n"
     ]
    },
    {
     "data": {
      "application/vnd.jupyter.widget-view+json": {
       "model_id": "9a3a886382f246ecad0d248a30b74271",
       "version_major": 2,
       "version_minor": 0
      },
      "text/plain": [
       "HBox(children=(HTML(value=''), FloatProgress(value=0.0, max=5.0), HTML(value='')))"
      ]
     },
     "metadata": {},
     "output_type": "display_data"
    },
    {
     "name": "stdout",
     "output_type": "stream",
     "text": [
      "Quantile: 0.022750131948179195\n",
      "[LightGBM] [Warning] Unknown parameter: loss\n",
      "[LightGBM] [Warning] Accuracy may be bad since you didn't explicitly set num_leaves OR 2^max_depth > num_leaves. (num_leaves=31).\n",
      "Quantile: 0.15865525393145707\n",
      "Quantile: 0.5\n",
      "Quantile: 0.8413447460685429\n",
      "Quantile: 0.9772498680518208\n",
      "\n",
      "Done\n",
      "predicting\n"
     ]
    },
    {
     "data": {
      "application/vnd.jupyter.widget-view+json": {
       "model_id": "3d7ad144e3ef4589972a4b2c6d9d2917",
       "version_major": 2,
       "version_minor": 0
      },
      "text/plain": [
       "HBox(children=(HTML(value=''), FloatProgress(value=0.0, max=5.0), HTML(value='')))"
      ]
     },
     "metadata": {},
     "output_type": "display_data"
    },
    {
     "name": "stdout",
     "output_type": "stream",
     "text": [
      "\n",
      "training !\n"
     ]
    },
    {
     "data": {
      "application/vnd.jupyter.widget-view+json": {
       "model_id": "fbbe257138c143e8a2c0dd65463371e6",
       "version_major": 2,
       "version_minor": 0
      },
      "text/plain": [
       "HBox(children=(HTML(value=''), FloatProgress(value=0.0, max=5.0), HTML(value='')))"
      ]
     },
     "metadata": {},
     "output_type": "display_data"
    },
    {
     "name": "stdout",
     "output_type": "stream",
     "text": [
      "Quantile: 0.022750131948179195\n",
      "[LightGBM] [Warning] Unknown parameter: loss\n",
      "[LightGBM] [Warning] Accuracy may be bad since you didn't explicitly set num_leaves OR 2^max_depth > num_leaves. (num_leaves=31).\n",
      "Quantile: 0.15865525393145707\n",
      "Quantile: 0.5\n",
      "Quantile: 0.8413447460685429\n",
      "Quantile: 0.9772498680518208\n",
      "\n",
      "Done\n",
      "predicting\n"
     ]
    },
    {
     "data": {
      "application/vnd.jupyter.widget-view+json": {
       "model_id": "213dba94f47f42a490b2bc32de28b3ca",
       "version_major": 2,
       "version_minor": 0
      },
      "text/plain": [
       "HBox(children=(HTML(value=''), FloatProgress(value=0.0, max=5.0), HTML(value='')))"
      ]
     },
     "metadata": {},
     "output_type": "display_data"
    },
    {
     "name": "stdout",
     "output_type": "stream",
     "text": [
      "\n",
      "\n"
     ]
    },
    {
     "data": {
      "application/vnd.jupyter.widget-view+json": {
       "model_id": "4c1c60013bc340cbab66b17a50edc2e4",
       "version_major": 2,
       "version_minor": 0
      },
      "text/plain": [
       "HBox(children=(HTML(value=''), FloatProgress(value=0.0, max=6.0), HTML(value='')))"
      ]
     },
     "metadata": {},
     "output_type": "display_data"
    },
    {
     "name": "stdout",
     "output_type": "stream",
     "text": [
      "training !\n"
     ]
    },
    {
     "data": {
      "application/vnd.jupyter.widget-view+json": {
       "model_id": "fbb99845474447be80442d5291a86f71",
       "version_major": 2,
       "version_minor": 0
      },
      "text/plain": [
       "HBox(children=(HTML(value=''), FloatProgress(value=0.0, max=5.0), HTML(value='')))"
      ]
     },
     "metadata": {},
     "output_type": "display_data"
    },
    {
     "name": "stdout",
     "output_type": "stream",
     "text": [
      "Quantile: 0.022750131948179195\n",
      "[LightGBM] [Warning] Unknown parameter: loss\n",
      "Quantile: 0.15865525393145707\n",
      "Quantile: 0.5\n",
      "Quantile: 0.8413447460685429\n",
      "Quantile: 0.9772498680518208\n",
      "\n",
      "Done\n",
      "predicting\n"
     ]
    },
    {
     "data": {
      "application/vnd.jupyter.widget-view+json": {
       "model_id": "8cb358ef7ddd418f828d973875483f91",
       "version_major": 2,
       "version_minor": 0
      },
      "text/plain": [
       "HBox(children=(HTML(value=''), FloatProgress(value=0.0, max=5.0), HTML(value='')))"
      ]
     },
     "metadata": {},
     "output_type": "display_data"
    },
    {
     "name": "stdout",
     "output_type": "stream",
     "text": [
      "\n",
      "training !\n"
     ]
    },
    {
     "data": {
      "application/vnd.jupyter.widget-view+json": {
       "model_id": "068608acaa5a4ad6ae0c442086822975",
       "version_major": 2,
       "version_minor": 0
      },
      "text/plain": [
       "HBox(children=(HTML(value=''), FloatProgress(value=0.0, max=5.0), HTML(value='')))"
      ]
     },
     "metadata": {},
     "output_type": "display_data"
    },
    {
     "name": "stdout",
     "output_type": "stream",
     "text": [
      "Quantile: 0.022750131948179195\n",
      "[LightGBM] [Warning] Unknown parameter: loss\n",
      "[LightGBM] [Warning] Accuracy may be bad since you didn't explicitly set num_leaves OR 2^max_depth > num_leaves. (num_leaves=31).\n",
      "Quantile: 0.15865525393145707\n",
      "Quantile: 0.5\n",
      "Quantile: 0.8413447460685429\n",
      "Quantile: 0.9772498680518208\n",
      "\n",
      "Done\n",
      "predicting\n"
     ]
    },
    {
     "data": {
      "application/vnd.jupyter.widget-view+json": {
       "model_id": "96379e46b8d54da393024dbe586a547c",
       "version_major": 2,
       "version_minor": 0
      },
      "text/plain": [
       "HBox(children=(HTML(value=''), FloatProgress(value=0.0, max=5.0), HTML(value='')))"
      ]
     },
     "metadata": {},
     "output_type": "display_data"
    },
    {
     "name": "stdout",
     "output_type": "stream",
     "text": [
      "\n",
      "training !\n"
     ]
    },
    {
     "data": {
      "application/vnd.jupyter.widget-view+json": {
       "model_id": "419855154b114a53a6cb4952ce7d142c",
       "version_major": 2,
       "version_minor": 0
      },
      "text/plain": [
       "HBox(children=(HTML(value=''), FloatProgress(value=0.0, max=5.0), HTML(value='')))"
      ]
     },
     "metadata": {},
     "output_type": "display_data"
    },
    {
     "name": "stdout",
     "output_type": "stream",
     "text": [
      "Quantile: 0.022750131948179195\n",
      "[LightGBM] [Warning] Unknown parameter: loss\n",
      "[LightGBM] [Warning] Accuracy may be bad since you didn't explicitly set num_leaves OR 2^max_depth > num_leaves. (num_leaves=31).\n",
      "Quantile: 0.15865525393145707\n",
      "Quantile: 0.5\n",
      "Quantile: 0.8413447460685429\n",
      "Quantile: 0.9772498680518208\n",
      "\n",
      "Done\n",
      "predicting\n"
     ]
    },
    {
     "data": {
      "application/vnd.jupyter.widget-view+json": {
       "model_id": "d2ff84a1e14e4fc3a5e3f0f67998a033",
       "version_major": 2,
       "version_minor": 0
      },
      "text/plain": [
       "HBox(children=(HTML(value=''), FloatProgress(value=0.0, max=5.0), HTML(value='')))"
      ]
     },
     "metadata": {},
     "output_type": "display_data"
    },
    {
     "name": "stdout",
     "output_type": "stream",
     "text": [
      "\n",
      "training !\n"
     ]
    },
    {
     "data": {
      "application/vnd.jupyter.widget-view+json": {
       "model_id": "1295b81ba78c4a648125cb4f600f32bc",
       "version_major": 2,
       "version_minor": 0
      },
      "text/plain": [
       "HBox(children=(HTML(value=''), FloatProgress(value=0.0, max=5.0), HTML(value='')))"
      ]
     },
     "metadata": {},
     "output_type": "display_data"
    },
    {
     "name": "stdout",
     "output_type": "stream",
     "text": [
      "Quantile: 0.022750131948179195\n",
      "[LightGBM] [Warning] Unknown parameter: loss\n",
      "[LightGBM] [Warning] Accuracy may be bad since you didn't explicitly set num_leaves OR 2^max_depth > num_leaves. (num_leaves=31).\n",
      "Quantile: 0.15865525393145707\n",
      "Quantile: 0.5\n",
      "Quantile: 0.8413447460685429\n",
      "Quantile: 0.9772498680518208\n",
      "\n",
      "Done\n",
      "predicting\n"
     ]
    },
    {
     "data": {
      "application/vnd.jupyter.widget-view+json": {
       "model_id": "2862a1d7217549db8fc40b047eeb53ad",
       "version_major": 2,
       "version_minor": 0
      },
      "text/plain": [
       "HBox(children=(HTML(value=''), FloatProgress(value=0.0, max=5.0), HTML(value='')))"
      ]
     },
     "metadata": {},
     "output_type": "display_data"
    },
    {
     "name": "stdout",
     "output_type": "stream",
     "text": [
      "\n",
      "training !\n"
     ]
    },
    {
     "data": {
      "application/vnd.jupyter.widget-view+json": {
       "model_id": "61b117bd53d44959b9e7c5b43b99e240",
       "version_major": 2,
       "version_minor": 0
      },
      "text/plain": [
       "HBox(children=(HTML(value=''), FloatProgress(value=0.0, max=5.0), HTML(value='')))"
      ]
     },
     "metadata": {},
     "output_type": "display_data"
    },
    {
     "name": "stdout",
     "output_type": "stream",
     "text": [
      "Quantile: 0.022750131948179195\n",
      "[LightGBM] [Warning] Unknown parameter: loss\n",
      "[LightGBM] [Warning] Accuracy may be bad since you didn't explicitly set num_leaves OR 2^max_depth > num_leaves. (num_leaves=31).\n",
      "Quantile: 0.15865525393145707\n",
      "Quantile: 0.5\n",
      "Quantile: 0.8413447460685429\n",
      "Quantile: 0.9772498680518208\n",
      "\n",
      "Done\n",
      "predicting\n"
     ]
    },
    {
     "data": {
      "application/vnd.jupyter.widget-view+json": {
       "model_id": "746134b5916848919e663015d4d794e1",
       "version_major": 2,
       "version_minor": 0
      },
      "text/plain": [
       "HBox(children=(HTML(value=''), FloatProgress(value=0.0, max=5.0), HTML(value='')))"
      ]
     },
     "metadata": {},
     "output_type": "display_data"
    },
    {
     "name": "stdout",
     "output_type": "stream",
     "text": [
      "\n",
      "training !\n"
     ]
    },
    {
     "data": {
      "application/vnd.jupyter.widget-view+json": {
       "model_id": "2881757f4bd44fd8931f7a1af7c77601",
       "version_major": 2,
       "version_minor": 0
      },
      "text/plain": [
       "HBox(children=(HTML(value=''), FloatProgress(value=0.0, max=5.0), HTML(value='')))"
      ]
     },
     "metadata": {},
     "output_type": "display_data"
    },
    {
     "name": "stdout",
     "output_type": "stream",
     "text": [
      "Quantile: 0.022750131948179195\n",
      "[LightGBM] [Warning] Unknown parameter: loss\n",
      "[LightGBM] [Warning] Accuracy may be bad since you didn't explicitly set num_leaves OR 2^max_depth > num_leaves. (num_leaves=31).\n",
      "Quantile: 0.15865525393145707\n",
      "Quantile: 0.5\n",
      "Quantile: 0.8413447460685429\n",
      "Quantile: 0.9772498680518208\n",
      "\n",
      "Done\n",
      "predicting\n"
     ]
    },
    {
     "data": {
      "application/vnd.jupyter.widget-view+json": {
       "model_id": "6a41476e9d8f4a4eaa9dd5c9d656bc30",
       "version_major": 2,
       "version_minor": 0
      },
      "text/plain": [
       "HBox(children=(HTML(value=''), FloatProgress(value=0.0, max=5.0), HTML(value='')))"
      ]
     },
     "metadata": {},
     "output_type": "display_data"
    },
    {
     "name": "stdout",
     "output_type": "stream",
     "text": [
      "\n",
      "\n"
     ]
    },
    {
     "data": {
      "application/vnd.jupyter.widget-view+json": {
       "model_id": "8a7a35996fab43e0a144aa20ccc684a9",
       "version_major": 2,
       "version_minor": 0
      },
      "text/plain": [
       "HBox(children=(HTML(value=''), FloatProgress(value=0.0, max=6.0), HTML(value='')))"
      ]
     },
     "metadata": {},
     "output_type": "display_data"
    },
    {
     "name": "stdout",
     "output_type": "stream",
     "text": [
      "training !\n"
     ]
    },
    {
     "data": {
      "application/vnd.jupyter.widget-view+json": {
       "model_id": "f07a903574504335848c5b2366c9501d",
       "version_major": 2,
       "version_minor": 0
      },
      "text/plain": [
       "HBox(children=(HTML(value=''), FloatProgress(value=0.0, max=5.0), HTML(value='')))"
      ]
     },
     "metadata": {},
     "output_type": "display_data"
    },
    {
     "name": "stdout",
     "output_type": "stream",
     "text": [
      "Quantile: 0.022750131948179195\n",
      "[LightGBM] [Warning] Unknown parameter: loss\n",
      "Quantile: 0.15865525393145707\n",
      "Quantile: 0.5\n",
      "Quantile: 0.8413447460685429\n",
      "Quantile: 0.9772498680518208\n",
      "\n",
      "Done\n",
      "predicting\n"
     ]
    },
    {
     "data": {
      "application/vnd.jupyter.widget-view+json": {
       "model_id": "1b9f4f98e4474b78b71e085c7b4ad995",
       "version_major": 2,
       "version_minor": 0
      },
      "text/plain": [
       "HBox(children=(HTML(value=''), FloatProgress(value=0.0, max=5.0), HTML(value='')))"
      ]
     },
     "metadata": {},
     "output_type": "display_data"
    },
    {
     "name": "stdout",
     "output_type": "stream",
     "text": [
      "\n",
      "training !\n"
     ]
    },
    {
     "data": {
      "application/vnd.jupyter.widget-view+json": {
       "model_id": "b87911b07bd041e39e531b51ba55c65d",
       "version_major": 2,
       "version_minor": 0
      },
      "text/plain": [
       "HBox(children=(HTML(value=''), FloatProgress(value=0.0, max=5.0), HTML(value='')))"
      ]
     },
     "metadata": {},
     "output_type": "display_data"
    },
    {
     "name": "stdout",
     "output_type": "stream",
     "text": [
      "Quantile: 0.022750131948179195\n",
      "[LightGBM] [Warning] Unknown parameter: loss\n",
      "[LightGBM] [Warning] Accuracy may be bad since you didn't explicitly set num_leaves OR 2^max_depth > num_leaves. (num_leaves=31).\n",
      "Quantile: 0.15865525393145707\n",
      "Quantile: 0.5\n",
      "Quantile: 0.8413447460685429\n",
      "Quantile: 0.9772498680518208\n",
      "\n",
      "Done\n",
      "predicting\n"
     ]
    },
    {
     "data": {
      "application/vnd.jupyter.widget-view+json": {
       "model_id": "a5e5645132a444bfad64beea90109e18",
       "version_major": 2,
       "version_minor": 0
      },
      "text/plain": [
       "HBox(children=(HTML(value=''), FloatProgress(value=0.0, max=5.0), HTML(value='')))"
      ]
     },
     "metadata": {},
     "output_type": "display_data"
    },
    {
     "name": "stdout",
     "output_type": "stream",
     "text": [
      "\n",
      "training !\n"
     ]
    },
    {
     "data": {
      "application/vnd.jupyter.widget-view+json": {
       "model_id": "4aa30df11eeb4b93ac7c00c3e32a0ffc",
       "version_major": 2,
       "version_minor": 0
      },
      "text/plain": [
       "HBox(children=(HTML(value=''), FloatProgress(value=0.0, max=5.0), HTML(value='')))"
      ]
     },
     "metadata": {},
     "output_type": "display_data"
    },
    {
     "name": "stdout",
     "output_type": "stream",
     "text": [
      "Quantile: 0.022750131948179195\n",
      "[LightGBM] [Warning] Unknown parameter: loss\n",
      "[LightGBM] [Warning] Accuracy may be bad since you didn't explicitly set num_leaves OR 2^max_depth > num_leaves. (num_leaves=31).\n",
      "Quantile: 0.15865525393145707\n",
      "Quantile: 0.5\n",
      "Quantile: 0.8413447460685429\n",
      "Quantile: 0.9772498680518208\n",
      "\n",
      "Done\n",
      "predicting\n"
     ]
    },
    {
     "data": {
      "application/vnd.jupyter.widget-view+json": {
       "model_id": "81ff49515152412eba7d5dd0ee103e98",
       "version_major": 2,
       "version_minor": 0
      },
      "text/plain": [
       "HBox(children=(HTML(value=''), FloatProgress(value=0.0, max=5.0), HTML(value='')))"
      ]
     },
     "metadata": {},
     "output_type": "display_data"
    },
    {
     "name": "stdout",
     "output_type": "stream",
     "text": [
      "\n",
      "training !\n"
     ]
    },
    {
     "data": {
      "application/vnd.jupyter.widget-view+json": {
       "model_id": "6964af92d1944aaaafe2b9c5c0157c08",
       "version_major": 2,
       "version_minor": 0
      },
      "text/plain": [
       "HBox(children=(HTML(value=''), FloatProgress(value=0.0, max=5.0), HTML(value='')))"
      ]
     },
     "metadata": {},
     "output_type": "display_data"
    },
    {
     "name": "stdout",
     "output_type": "stream",
     "text": [
      "Quantile: 0.022750131948179195\n",
      "[LightGBM] [Warning] Unknown parameter: loss\n",
      "[LightGBM] [Warning] Accuracy may be bad since you didn't explicitly set num_leaves OR 2^max_depth > num_leaves. (num_leaves=31).\n",
      "Quantile: 0.15865525393145707\n",
      "Quantile: 0.5\n",
      "Quantile: 0.8413447460685429\n",
      "Quantile: 0.9772498680518208\n",
      "\n",
      "Done\n",
      "predicting\n"
     ]
    },
    {
     "data": {
      "application/vnd.jupyter.widget-view+json": {
       "model_id": "cd56c0ebfc5b46d3b1726e7044b1c76d",
       "version_major": 2,
       "version_minor": 0
      },
      "text/plain": [
       "HBox(children=(HTML(value=''), FloatProgress(value=0.0, max=5.0), HTML(value='')))"
      ]
     },
     "metadata": {},
     "output_type": "display_data"
    },
    {
     "name": "stdout",
     "output_type": "stream",
     "text": [
      "\n",
      "training !\n"
     ]
    },
    {
     "data": {
      "application/vnd.jupyter.widget-view+json": {
       "model_id": "22da95dcc7334f44b296f7319861b0d5",
       "version_major": 2,
       "version_minor": 0
      },
      "text/plain": [
       "HBox(children=(HTML(value=''), FloatProgress(value=0.0, max=5.0), HTML(value='')))"
      ]
     },
     "metadata": {},
     "output_type": "display_data"
    },
    {
     "name": "stdout",
     "output_type": "stream",
     "text": [
      "Quantile: 0.022750131948179195\n",
      "[LightGBM] [Warning] Unknown parameter: loss\n",
      "[LightGBM] [Warning] Accuracy may be bad since you didn't explicitly set num_leaves OR 2^max_depth > num_leaves. (num_leaves=31).\n",
      "Quantile: 0.15865525393145707\n",
      "Quantile: 0.5\n",
      "Quantile: 0.8413447460685429\n",
      "Quantile: 0.9772498680518208\n",
      "\n",
      "Done\n",
      "predicting\n"
     ]
    },
    {
     "data": {
      "application/vnd.jupyter.widget-view+json": {
       "model_id": "8df4d3a2a5034537ab66fa1157f19da5",
       "version_major": 2,
       "version_minor": 0
      },
      "text/plain": [
       "HBox(children=(HTML(value=''), FloatProgress(value=0.0, max=5.0), HTML(value='')))"
      ]
     },
     "metadata": {},
     "output_type": "display_data"
    },
    {
     "name": "stdout",
     "output_type": "stream",
     "text": [
      "\n",
      "training !\n"
     ]
    },
    {
     "data": {
      "application/vnd.jupyter.widget-view+json": {
       "model_id": "3b962cce56804a2082b105c7ab91290e",
       "version_major": 2,
       "version_minor": 0
      },
      "text/plain": [
       "HBox(children=(HTML(value=''), FloatProgress(value=0.0, max=5.0), HTML(value='')))"
      ]
     },
     "metadata": {},
     "output_type": "display_data"
    },
    {
     "name": "stdout",
     "output_type": "stream",
     "text": [
      "Quantile: 0.022750131948179195\n",
      "[LightGBM] [Warning] Unknown parameter: loss\n",
      "[LightGBM] [Warning] Accuracy may be bad since you didn't explicitly set num_leaves OR 2^max_depth > num_leaves. (num_leaves=31).\n",
      "Quantile: 0.15865525393145707\n",
      "Quantile: 0.5\n",
      "Quantile: 0.8413447460685429\n",
      "Quantile: 0.9772498680518208\n",
      "\n",
      "Done\n",
      "predicting\n"
     ]
    },
    {
     "data": {
      "application/vnd.jupyter.widget-view+json": {
       "model_id": "3f6a5ad105d642f5ae4a01ee1235791f",
       "version_major": 2,
       "version_minor": 0
      },
      "text/plain": [
       "HBox(children=(HTML(value=''), FloatProgress(value=0.0, max=5.0), HTML(value='')))"
      ]
     },
     "metadata": {},
     "output_type": "display_data"
    },
    {
     "name": "stdout",
     "output_type": "stream",
     "text": [
      "\n",
      "\n"
     ]
    },
    {
     "data": {
      "application/vnd.jupyter.widget-view+json": {
       "model_id": "ab9e697203174dfa90948a8d3c74f297",
       "version_major": 2,
       "version_minor": 0
      },
      "text/plain": [
       "HBox(children=(HTML(value=''), FloatProgress(value=0.0, max=6.0), HTML(value='')))"
      ]
     },
     "metadata": {},
     "output_type": "display_data"
    },
    {
     "name": "stdout",
     "output_type": "stream",
     "text": [
      "training !\n"
     ]
    },
    {
     "data": {
      "application/vnd.jupyter.widget-view+json": {
       "model_id": "515239253ef5464fb8efadf54f1b93bf",
       "version_major": 2,
       "version_minor": 0
      },
      "text/plain": [
       "HBox(children=(HTML(value=''), FloatProgress(value=0.0, max=5.0), HTML(value='')))"
      ]
     },
     "metadata": {},
     "output_type": "display_data"
    },
    {
     "name": "stdout",
     "output_type": "stream",
     "text": [
      "Quantile: 0.022750131948179195\n",
      "[LightGBM] [Warning] Unknown parameter: loss\n",
      "Quantile: 0.15865525393145707\n",
      "Quantile: 0.5\n",
      "Quantile: 0.8413447460685429\n",
      "Quantile: 0.9772498680518208\n",
      "\n",
      "Done\n",
      "predicting\n"
     ]
    },
    {
     "data": {
      "application/vnd.jupyter.widget-view+json": {
       "model_id": "9efa56c8e96d4638ad84da652718f66d",
       "version_major": 2,
       "version_minor": 0
      },
      "text/plain": [
       "HBox(children=(HTML(value=''), FloatProgress(value=0.0, max=5.0), HTML(value='')))"
      ]
     },
     "metadata": {},
     "output_type": "display_data"
    },
    {
     "name": "stdout",
     "output_type": "stream",
     "text": [
      "\n",
      "training !\n"
     ]
    },
    {
     "data": {
      "application/vnd.jupyter.widget-view+json": {
       "model_id": "68d7e43e5268470bbd78104653ab4eb3",
       "version_major": 2,
       "version_minor": 0
      },
      "text/plain": [
       "HBox(children=(HTML(value=''), FloatProgress(value=0.0, max=5.0), HTML(value='')))"
      ]
     },
     "metadata": {},
     "output_type": "display_data"
    },
    {
     "name": "stdout",
     "output_type": "stream",
     "text": [
      "Quantile: 0.022750131948179195\n",
      "[LightGBM] [Warning] Unknown parameter: loss\n",
      "[LightGBM] [Warning] Accuracy may be bad since you didn't explicitly set num_leaves OR 2^max_depth > num_leaves. (num_leaves=31).\n",
      "Quantile: 0.15865525393145707\n",
      "Quantile: 0.5\n",
      "Quantile: 0.8413447460685429\n",
      "Quantile: 0.9772498680518208\n",
      "\n",
      "Done\n",
      "predicting\n"
     ]
    },
    {
     "data": {
      "application/vnd.jupyter.widget-view+json": {
       "model_id": "14486b0ab7fa48778232535e8604beab",
       "version_major": 2,
       "version_minor": 0
      },
      "text/plain": [
       "HBox(children=(HTML(value=''), FloatProgress(value=0.0, max=5.0), HTML(value='')))"
      ]
     },
     "metadata": {},
     "output_type": "display_data"
    },
    {
     "name": "stdout",
     "output_type": "stream",
     "text": [
      "\n",
      "training !\n"
     ]
    },
    {
     "data": {
      "application/vnd.jupyter.widget-view+json": {
       "model_id": "ed1a4ed7c536462789fb28cd26b3f471",
       "version_major": 2,
       "version_minor": 0
      },
      "text/plain": [
       "HBox(children=(HTML(value=''), FloatProgress(value=0.0, max=5.0), HTML(value='')))"
      ]
     },
     "metadata": {},
     "output_type": "display_data"
    },
    {
     "name": "stdout",
     "output_type": "stream",
     "text": [
      "Quantile: 0.022750131948179195\n",
      "[LightGBM] [Warning] Unknown parameter: loss\n",
      "[LightGBM] [Warning] Accuracy may be bad since you didn't explicitly set num_leaves OR 2^max_depth > num_leaves. (num_leaves=31).\n",
      "Quantile: 0.15865525393145707\n",
      "Quantile: 0.5\n",
      "Quantile: 0.8413447460685429\n",
      "Quantile: 0.9772498680518208\n",
      "\n",
      "Done\n",
      "predicting\n"
     ]
    },
    {
     "data": {
      "application/vnd.jupyter.widget-view+json": {
       "model_id": "f7390dec309f41b9b6c67c91ab3e82ab",
       "version_major": 2,
       "version_minor": 0
      },
      "text/plain": [
       "HBox(children=(HTML(value=''), FloatProgress(value=0.0, max=5.0), HTML(value='')))"
      ]
     },
     "metadata": {},
     "output_type": "display_data"
    },
    {
     "name": "stdout",
     "output_type": "stream",
     "text": [
      "\n",
      "training !\n"
     ]
    },
    {
     "data": {
      "application/vnd.jupyter.widget-view+json": {
       "model_id": "eed58c5fac184b5c8c311d25de8cc2ce",
       "version_major": 2,
       "version_minor": 0
      },
      "text/plain": [
       "HBox(children=(HTML(value=''), FloatProgress(value=0.0, max=5.0), HTML(value='')))"
      ]
     },
     "metadata": {},
     "output_type": "display_data"
    },
    {
     "name": "stdout",
     "output_type": "stream",
     "text": [
      "Quantile: 0.022750131948179195\n",
      "[LightGBM] [Warning] Unknown parameter: loss\n",
      "[LightGBM] [Warning] Accuracy may be bad since you didn't explicitly set num_leaves OR 2^max_depth > num_leaves. (num_leaves=31).\n",
      "Quantile: 0.15865525393145707\n",
      "Quantile: 0.5\n",
      "Quantile: 0.8413447460685429\n",
      "Quantile: 0.9772498680518208\n",
      "\n",
      "Done\n",
      "predicting\n"
     ]
    },
    {
     "data": {
      "application/vnd.jupyter.widget-view+json": {
       "model_id": "b12054acc3324e37852096cd21e6e71e",
       "version_major": 2,
       "version_minor": 0
      },
      "text/plain": [
       "HBox(children=(HTML(value=''), FloatProgress(value=0.0, max=5.0), HTML(value='')))"
      ]
     },
     "metadata": {},
     "output_type": "display_data"
    },
    {
     "name": "stdout",
     "output_type": "stream",
     "text": [
      "\n",
      "training !\n"
     ]
    },
    {
     "data": {
      "application/vnd.jupyter.widget-view+json": {
       "model_id": "0002adafaf5d498db0b01e8a9089e1c3",
       "version_major": 2,
       "version_minor": 0
      },
      "text/plain": [
       "HBox(children=(HTML(value=''), FloatProgress(value=0.0, max=5.0), HTML(value='')))"
      ]
     },
     "metadata": {},
     "output_type": "display_data"
    },
    {
     "name": "stdout",
     "output_type": "stream",
     "text": [
      "Quantile: 0.022750131948179195\n",
      "[LightGBM] [Warning] Unknown parameter: loss\n",
      "[LightGBM] [Warning] Accuracy may be bad since you didn't explicitly set num_leaves OR 2^max_depth > num_leaves. (num_leaves=31).\n",
      "Quantile: 0.15865525393145707\n",
      "Quantile: 0.5\n",
      "Quantile: 0.8413447460685429\n",
      "Quantile: 0.9772498680518208\n",
      "\n",
      "Done\n",
      "predicting\n"
     ]
    },
    {
     "data": {
      "application/vnd.jupyter.widget-view+json": {
       "model_id": "bb5ba5711619436994a1b70e8ad82aa1",
       "version_major": 2,
       "version_minor": 0
      },
      "text/plain": [
       "HBox(children=(HTML(value=''), FloatProgress(value=0.0, max=5.0), HTML(value='')))"
      ]
     },
     "metadata": {},
     "output_type": "display_data"
    },
    {
     "name": "stdout",
     "output_type": "stream",
     "text": [
      "\n",
      "training !\n"
     ]
    },
    {
     "data": {
      "application/vnd.jupyter.widget-view+json": {
       "model_id": "5c80df3407e74468b5988c4e06870cd4",
       "version_major": 2,
       "version_minor": 0
      },
      "text/plain": [
       "HBox(children=(HTML(value=''), FloatProgress(value=0.0, max=5.0), HTML(value='')))"
      ]
     },
     "metadata": {},
     "output_type": "display_data"
    },
    {
     "name": "stdout",
     "output_type": "stream",
     "text": [
      "Quantile: 0.022750131948179195\n",
      "[LightGBM] [Warning] Unknown parameter: loss\n",
      "[LightGBM] [Warning] Accuracy may be bad since you didn't explicitly set num_leaves OR 2^max_depth > num_leaves. (num_leaves=31).\n",
      "Quantile: 0.15865525393145707\n",
      "Quantile: 0.5\n",
      "Quantile: 0.8413447460685429\n",
      "Quantile: 0.9772498680518208\n",
      "\n",
      "Done\n",
      "predicting\n"
     ]
    },
    {
     "data": {
      "application/vnd.jupyter.widget-view+json": {
       "model_id": "f9652191a7a142628a654bdf4973af19",
       "version_major": 2,
       "version_minor": 0
      },
      "text/plain": [
       "HBox(children=(HTML(value=''), FloatProgress(value=0.0, max=5.0), HTML(value='')))"
      ]
     },
     "metadata": {},
     "output_type": "display_data"
    },
    {
     "name": "stdout",
     "output_type": "stream",
     "text": [
      "\n",
      "\n"
     ]
    },
    {
     "data": {
      "application/vnd.jupyter.widget-view+json": {
       "model_id": "8ca071cf588347bb8e4dee957cc37926",
       "version_major": 2,
       "version_minor": 0
      },
      "text/plain": [
       "HBox(children=(HTML(value=''), FloatProgress(value=0.0, max=6.0), HTML(value='')))"
      ]
     },
     "metadata": {},
     "output_type": "display_data"
    },
    {
     "name": "stdout",
     "output_type": "stream",
     "text": [
      "training !\n"
     ]
    },
    {
     "data": {
      "application/vnd.jupyter.widget-view+json": {
       "model_id": "0f8880be2e5646ca9667fc93b8038949",
       "version_major": 2,
       "version_minor": 0
      },
      "text/plain": [
       "HBox(children=(HTML(value=''), FloatProgress(value=0.0, max=5.0), HTML(value='')))"
      ]
     },
     "metadata": {},
     "output_type": "display_data"
    },
    {
     "name": "stdout",
     "output_type": "stream",
     "text": [
      "Quantile: 0.022750131948179195\n",
      "[LightGBM] [Warning] Unknown parameter: loss\n",
      "Quantile: 0.15865525393145707\n",
      "Quantile: 0.5\n",
      "Quantile: 0.8413447460685429\n",
      "Quantile: 0.9772498680518208\n",
      "\n",
      "Done\n",
      "predicting\n"
     ]
    },
    {
     "data": {
      "application/vnd.jupyter.widget-view+json": {
       "model_id": "98880136e60948819e2f21d8408fd3fa",
       "version_major": 2,
       "version_minor": 0
      },
      "text/plain": [
       "HBox(children=(HTML(value=''), FloatProgress(value=0.0, max=5.0), HTML(value='')))"
      ]
     },
     "metadata": {},
     "output_type": "display_data"
    },
    {
     "name": "stdout",
     "output_type": "stream",
     "text": [
      "\n",
      "training !\n"
     ]
    },
    {
     "data": {
      "application/vnd.jupyter.widget-view+json": {
       "model_id": "d2158027236f4f0898dabd63190aebf8",
       "version_major": 2,
       "version_minor": 0
      },
      "text/plain": [
       "HBox(children=(HTML(value=''), FloatProgress(value=0.0, max=5.0), HTML(value='')))"
      ]
     },
     "metadata": {},
     "output_type": "display_data"
    },
    {
     "name": "stdout",
     "output_type": "stream",
     "text": [
      "Quantile: 0.022750131948179195\n",
      "[LightGBM] [Warning] Unknown parameter: loss\n",
      "[LightGBM] [Warning] Accuracy may be bad since you didn't explicitly set num_leaves OR 2^max_depth > num_leaves. (num_leaves=31).\n",
      "Quantile: 0.15865525393145707\n",
      "Quantile: 0.5\n",
      "Quantile: 0.8413447460685429\n",
      "Quantile: 0.9772498680518208\n",
      "\n",
      "Done\n",
      "predicting\n"
     ]
    },
    {
     "data": {
      "application/vnd.jupyter.widget-view+json": {
       "model_id": "3caab94599a94e79a73dc43912a966a9",
       "version_major": 2,
       "version_minor": 0
      },
      "text/plain": [
       "HBox(children=(HTML(value=''), FloatProgress(value=0.0, max=5.0), HTML(value='')))"
      ]
     },
     "metadata": {},
     "output_type": "display_data"
    },
    {
     "name": "stdout",
     "output_type": "stream",
     "text": [
      "\n",
      "training !\n"
     ]
    },
    {
     "data": {
      "application/vnd.jupyter.widget-view+json": {
       "model_id": "0b12c474e5434470838b51596ffd9766",
       "version_major": 2,
       "version_minor": 0
      },
      "text/plain": [
       "HBox(children=(HTML(value=''), FloatProgress(value=0.0, max=5.0), HTML(value='')))"
      ]
     },
     "metadata": {},
     "output_type": "display_data"
    },
    {
     "name": "stdout",
     "output_type": "stream",
     "text": [
      "Quantile: 0.022750131948179195\n",
      "[LightGBM] [Warning] Unknown parameter: loss\n",
      "[LightGBM] [Warning] Accuracy may be bad since you didn't explicitly set num_leaves OR 2^max_depth > num_leaves. (num_leaves=31).\n",
      "Quantile: 0.15865525393145707\n",
      "Quantile: 0.5\n",
      "Quantile: 0.8413447460685429\n",
      "Quantile: 0.9772498680518208\n",
      "\n",
      "Done\n",
      "predicting\n"
     ]
    },
    {
     "data": {
      "application/vnd.jupyter.widget-view+json": {
       "model_id": "26722d8c7ea243509446199416f6130b",
       "version_major": 2,
       "version_minor": 0
      },
      "text/plain": [
       "HBox(children=(HTML(value=''), FloatProgress(value=0.0, max=5.0), HTML(value='')))"
      ]
     },
     "metadata": {},
     "output_type": "display_data"
    },
    {
     "name": "stdout",
     "output_type": "stream",
     "text": [
      "\n",
      "training !\n"
     ]
    },
    {
     "data": {
      "application/vnd.jupyter.widget-view+json": {
       "model_id": "e9f739527b65400ea25e0fe946d2c29d",
       "version_major": 2,
       "version_minor": 0
      },
      "text/plain": [
       "HBox(children=(HTML(value=''), FloatProgress(value=0.0, max=5.0), HTML(value='')))"
      ]
     },
     "metadata": {},
     "output_type": "display_data"
    },
    {
     "name": "stdout",
     "output_type": "stream",
     "text": [
      "Quantile: 0.022750131948179195\n",
      "[LightGBM] [Warning] Unknown parameter: loss\n",
      "[LightGBM] [Warning] Accuracy may be bad since you didn't explicitly set num_leaves OR 2^max_depth > num_leaves. (num_leaves=31).\n",
      "Quantile: 0.15865525393145707\n",
      "Quantile: 0.5\n",
      "Quantile: 0.8413447460685429\n",
      "Quantile: 0.9772498680518208\n",
      "\n",
      "Done\n",
      "predicting\n"
     ]
    },
    {
     "data": {
      "application/vnd.jupyter.widget-view+json": {
       "model_id": "f1d088a6847e4984b9875f4dc2554d49",
       "version_major": 2,
       "version_minor": 0
      },
      "text/plain": [
       "HBox(children=(HTML(value=''), FloatProgress(value=0.0, max=5.0), HTML(value='')))"
      ]
     },
     "metadata": {},
     "output_type": "display_data"
    },
    {
     "name": "stdout",
     "output_type": "stream",
     "text": [
      "\n",
      "training !\n"
     ]
    },
    {
     "data": {
      "application/vnd.jupyter.widget-view+json": {
       "model_id": "27d7dd16a9b2499bbdb9d8988889b02d",
       "version_major": 2,
       "version_minor": 0
      },
      "text/plain": [
       "HBox(children=(HTML(value=''), FloatProgress(value=0.0, max=5.0), HTML(value='')))"
      ]
     },
     "metadata": {},
     "output_type": "display_data"
    },
    {
     "name": "stdout",
     "output_type": "stream",
     "text": [
      "Quantile: 0.022750131948179195\n",
      "[LightGBM] [Warning] Unknown parameter: loss\n",
      "[LightGBM] [Warning] Accuracy may be bad since you didn't explicitly set num_leaves OR 2^max_depth > num_leaves. (num_leaves=31).\n",
      "Quantile: 0.15865525393145707\n",
      "Quantile: 0.5\n",
      "Quantile: 0.8413447460685429\n",
      "Quantile: 0.9772498680518208\n",
      "\n",
      "Done\n",
      "predicting\n"
     ]
    },
    {
     "data": {
      "application/vnd.jupyter.widget-view+json": {
       "model_id": "5a63d6b39fc048a8850645b14c990a53",
       "version_major": 2,
       "version_minor": 0
      },
      "text/plain": [
       "HBox(children=(HTML(value=''), FloatProgress(value=0.0, max=5.0), HTML(value='')))"
      ]
     },
     "metadata": {},
     "output_type": "display_data"
    },
    {
     "name": "stdout",
     "output_type": "stream",
     "text": [
      "\n",
      "training !\n"
     ]
    },
    {
     "data": {
      "application/vnd.jupyter.widget-view+json": {
       "model_id": "e119f7fc4d4240fd84316c1ff3b8e697",
       "version_major": 2,
       "version_minor": 0
      },
      "text/plain": [
       "HBox(children=(HTML(value=''), FloatProgress(value=0.0, max=5.0), HTML(value='')))"
      ]
     },
     "metadata": {},
     "output_type": "display_data"
    },
    {
     "name": "stdout",
     "output_type": "stream",
     "text": [
      "Quantile: 0.022750131948179195\n",
      "[LightGBM] [Warning] Unknown parameter: loss\n",
      "[LightGBM] [Warning] Accuracy may be bad since you didn't explicitly set num_leaves OR 2^max_depth > num_leaves. (num_leaves=31).\n",
      "Quantile: 0.15865525393145707\n",
      "Quantile: 0.5\n",
      "Quantile: 0.8413447460685429\n",
      "Quantile: 0.9772498680518208\n",
      "\n",
      "Done\n",
      "predicting\n"
     ]
    },
    {
     "data": {
      "application/vnd.jupyter.widget-view+json": {
       "model_id": "00acf9300b544400adb1c4c9d83772e1",
       "version_major": 2,
       "version_minor": 0
      },
      "text/plain": [
       "HBox(children=(HTML(value=''), FloatProgress(value=0.0, max=5.0), HTML(value='')))"
      ]
     },
     "metadata": {},
     "output_type": "display_data"
    },
    {
     "name": "stdout",
     "output_type": "stream",
     "text": [
      "\n",
      "\n",
      "\n"
     ]
    }
   ],
   "source": [
    "alls=[]\n",
    "\n",
    "for n_estimator in tqdm([500,600,700,800,900,1000,1100]):\n",
    "    for max_depth in tqdm([4,6,8,10,12,14]):\n",
    "        qreg = TotalLGBQuantile(n_estimators=n_estimator,max_depth=max_depth)\n",
    "        qreg.fit(X_train_std,y_train)\n",
    "        preds = qreg.predict(X_test_std)\n",
    "        results=evaluate((np.exp(preds)-1),(np.exp(y_test)-1).values)\n",
    "        del results[\"all\"]\n",
    "        del results[\"target\"]\n",
    "        results[\"n_estimator\"]=n_estimator\n",
    "        results[\"max_depth\"]=max_depth\n",
    "        alls.append(results)"
   ]
  },
  {
   "cell_type": "code",
   "execution_count": 53,
   "metadata": {},
   "outputs": [
    {
     "data": {
      "text/html": [
       "<div>\n",
       "<style scoped>\n",
       "    .dataframe tbody tr th:only-of-type {\n",
       "        vertical-align: middle;\n",
       "    }\n",
       "\n",
       "    .dataframe tbody tr th {\n",
       "        vertical-align: top;\n",
       "    }\n",
       "\n",
       "    .dataframe thead th {\n",
       "        text-align: right;\n",
       "    }\n",
       "</style>\n",
       "<table border=\"1\" class=\"dataframe\">\n",
       "  <thead>\n",
       "    <tr style=\"text-align: right;\">\n",
       "      <th></th>\n",
       "      <th>crps</th>\n",
       "      <th>count</th>\n",
       "      <th>rmse</th>\n",
       "      <th>mae</th>\n",
       "      <th>bias</th>\n",
       "      <th>corr</th>\n",
       "      <th>n_estimator</th>\n",
       "      <th>max_depth</th>\n",
       "    </tr>\n",
       "  </thead>\n",
       "  <tbody>\n",
       "    <tr>\n",
       "      <th>41</th>\n",
       "      <td>13.112044</td>\n",
       "      <td>465</td>\n",
       "      <td>26.195570</td>\n",
       "      <td>18.389143</td>\n",
       "      <td>2.557965</td>\n",
       "      <td>0.750437</td>\n",
       "      <td>1100</td>\n",
       "      <td>14</td>\n",
       "    </tr>\n",
       "    <tr>\n",
       "      <th>35</th>\n",
       "      <td>13.147471</td>\n",
       "      <td>465</td>\n",
       "      <td>26.276481</td>\n",
       "      <td>18.426206</td>\n",
       "      <td>2.578699</td>\n",
       "      <td>0.748572</td>\n",
       "      <td>1000</td>\n",
       "      <td>14</td>\n",
       "    </tr>\n",
       "    <tr>\n",
       "      <th>29</th>\n",
       "      <td>13.158772</td>\n",
       "      <td>466</td>\n",
       "      <td>26.331609</td>\n",
       "      <td>18.480324</td>\n",
       "      <td>2.641233</td>\n",
       "      <td>0.747443</td>\n",
       "      <td>900</td>\n",
       "      <td>14</td>\n",
       "    </tr>\n",
       "    <tr>\n",
       "      <th>39</th>\n",
       "      <td>13.168241</td>\n",
       "      <td>458</td>\n",
       "      <td>26.344224</td>\n",
       "      <td>18.464018</td>\n",
       "      <td>2.598883</td>\n",
       "      <td>0.746472</td>\n",
       "      <td>1100</td>\n",
       "      <td>10</td>\n",
       "    </tr>\n",
       "    <tr>\n",
       "      <th>33</th>\n",
       "      <td>13.189537</td>\n",
       "      <td>458</td>\n",
       "      <td>26.373749</td>\n",
       "      <td>18.490690</td>\n",
       "      <td>2.602618</td>\n",
       "      <td>0.745804</td>\n",
       "      <td>1000</td>\n",
       "      <td>10</td>\n",
       "    </tr>\n",
       "    <tr>\n",
       "      <th>23</th>\n",
       "      <td>13.170047</td>\n",
       "      <td>466</td>\n",
       "      <td>26.398462</td>\n",
       "      <td>18.535942</td>\n",
       "      <td>2.678638</td>\n",
       "      <td>0.745948</td>\n",
       "      <td>800</td>\n",
       "      <td>14</td>\n",
       "    </tr>\n",
       "    <tr>\n",
       "      <th>21</th>\n",
       "      <td>13.182804</td>\n",
       "      <td>461</td>\n",
       "      <td>26.418200</td>\n",
       "      <td>18.533462</td>\n",
       "      <td>2.567523</td>\n",
       "      <td>0.744575</td>\n",
       "      <td>800</td>\n",
       "      <td>10</td>\n",
       "    </tr>\n",
       "    <tr>\n",
       "      <th>27</th>\n",
       "      <td>13.253145</td>\n",
       "      <td>457</td>\n",
       "      <td>26.419564</td>\n",
       "      <td>18.516333</td>\n",
       "      <td>2.592532</td>\n",
       "      <td>0.744601</td>\n",
       "      <td>900</td>\n",
       "      <td>10</td>\n",
       "    </tr>\n",
       "    <tr>\n",
       "      <th>17</th>\n",
       "      <td>13.209801</td>\n",
       "      <td>466</td>\n",
       "      <td>26.457832</td>\n",
       "      <td>18.559086</td>\n",
       "      <td>2.721503</td>\n",
       "      <td>0.744805</td>\n",
       "      <td>700</td>\n",
       "      <td>14</td>\n",
       "    </tr>\n",
       "    <tr>\n",
       "      <th>15</th>\n",
       "      <td>13.173501</td>\n",
       "      <td>464</td>\n",
       "      <td>26.500201</td>\n",
       "      <td>18.589906</td>\n",
       "      <td>2.596564</td>\n",
       "      <td>0.742723</td>\n",
       "      <td>700</td>\n",
       "      <td>10</td>\n",
       "    </tr>\n",
       "    <tr>\n",
       "      <th>9</th>\n",
       "      <td>13.207856</td>\n",
       "      <td>464</td>\n",
       "      <td>26.583122</td>\n",
       "      <td>18.658841</td>\n",
       "      <td>2.675238</td>\n",
       "      <td>0.741017</td>\n",
       "      <td>600</td>\n",
       "      <td>10</td>\n",
       "    </tr>\n",
       "    <tr>\n",
       "      <th>40</th>\n",
       "      <td>13.214594</td>\n",
       "      <td>462</td>\n",
       "      <td>26.628387</td>\n",
       "      <td>18.729899</td>\n",
       "      <td>2.550173</td>\n",
       "      <td>0.739668</td>\n",
       "      <td>1100</td>\n",
       "      <td>12</td>\n",
       "    </tr>\n",
       "    <tr>\n",
       "      <th>11</th>\n",
       "      <td>13.239615</td>\n",
       "      <td>468</td>\n",
       "      <td>26.670835</td>\n",
       "      <td>18.671833</td>\n",
       "      <td>2.889488</td>\n",
       "      <td>0.740474</td>\n",
       "      <td>600</td>\n",
       "      <td>14</td>\n",
       "    </tr>\n",
       "    <tr>\n",
       "      <th>34</th>\n",
       "      <td>13.242377</td>\n",
       "      <td>462</td>\n",
       "      <td>26.681595</td>\n",
       "      <td>18.774120</td>\n",
       "      <td>2.523376</td>\n",
       "      <td>0.738324</td>\n",
       "      <td>1000</td>\n",
       "      <td>12</td>\n",
       "    </tr>\n",
       "    <tr>\n",
       "      <th>5</th>\n",
       "      <td>13.290473</td>\n",
       "      <td>467</td>\n",
       "      <td>26.761717</td>\n",
       "      <td>18.720776</td>\n",
       "      <td>2.965302</td>\n",
       "      <td>0.738726</td>\n",
       "      <td>500</td>\n",
       "      <td>14</td>\n",
       "    </tr>\n",
       "    <tr>\n",
       "      <th>3</th>\n",
       "      <td>13.328099</td>\n",
       "      <td>464</td>\n",
       "      <td>26.772235</td>\n",
       "      <td>18.774527</td>\n",
       "      <td>2.711112</td>\n",
       "      <td>0.736561</td>\n",
       "      <td>500</td>\n",
       "      <td>10</td>\n",
       "    </tr>\n",
       "    <tr>\n",
       "      <th>28</th>\n",
       "      <td>13.264845</td>\n",
       "      <td>463</td>\n",
       "      <td>26.789537</td>\n",
       "      <td>18.814290</td>\n",
       "      <td>2.590395</td>\n",
       "      <td>0.735745</td>\n",
       "      <td>900</td>\n",
       "      <td>12</td>\n",
       "    </tr>\n",
       "    <tr>\n",
       "      <th>32</th>\n",
       "      <td>13.391757</td>\n",
       "      <td>461</td>\n",
       "      <td>26.871143</td>\n",
       "      <td>18.809838</td>\n",
       "      <td>2.924421</td>\n",
       "      <td>0.733967</td>\n",
       "      <td>1000</td>\n",
       "      <td>8</td>\n",
       "    </tr>\n",
       "    <tr>\n",
       "      <th>38</th>\n",
       "      <td>13.428912</td>\n",
       "      <td>460</td>\n",
       "      <td>26.883767</td>\n",
       "      <td>18.802908</td>\n",
       "      <td>2.950958</td>\n",
       "      <td>0.733655</td>\n",
       "      <td>1100</td>\n",
       "      <td>8</td>\n",
       "    </tr>\n",
       "    <tr>\n",
       "      <th>22</th>\n",
       "      <td>13.311488</td>\n",
       "      <td>464</td>\n",
       "      <td>26.884413</td>\n",
       "      <td>18.870933</td>\n",
       "      <td>2.664711</td>\n",
       "      <td>0.733807</td>\n",
       "      <td>800</td>\n",
       "      <td>12</td>\n",
       "    </tr>\n",
       "    <tr>\n",
       "      <th>26</th>\n",
       "      <td>13.409029</td>\n",
       "      <td>462</td>\n",
       "      <td>26.910918</td>\n",
       "      <td>18.855735</td>\n",
       "      <td>2.942812</td>\n",
       "      <td>0.733054</td>\n",
       "      <td>900</td>\n",
       "      <td>8</td>\n",
       "    </tr>\n",
       "    <tr>\n",
       "      <th>16</th>\n",
       "      <td>13.333974</td>\n",
       "      <td>464</td>\n",
       "      <td>26.931550</td>\n",
       "      <td>18.922648</td>\n",
       "      <td>2.655267</td>\n",
       "      <td>0.732678</td>\n",
       "      <td>700</td>\n",
       "      <td>12</td>\n",
       "    </tr>\n",
       "    <tr>\n",
       "      <th>20</th>\n",
       "      <td>13.440783</td>\n",
       "      <td>463</td>\n",
       "      <td>26.991979</td>\n",
       "      <td>18.910126</td>\n",
       "      <td>2.981060</td>\n",
       "      <td>0.731115</td>\n",
       "      <td>800</td>\n",
       "      <td>8</td>\n",
       "    </tr>\n",
       "    <tr>\n",
       "      <th>10</th>\n",
       "      <td>13.368955</td>\n",
       "      <td>466</td>\n",
       "      <td>26.994342</td>\n",
       "      <td>18.981971</td>\n",
       "      <td>2.703822</td>\n",
       "      <td>0.731361</td>\n",
       "      <td>600</td>\n",
       "      <td>12</td>\n",
       "    </tr>\n",
       "    <tr>\n",
       "      <th>14</th>\n",
       "      <td>13.440247</td>\n",
       "      <td>463</td>\n",
       "      <td>27.031085</td>\n",
       "      <td>18.930413</td>\n",
       "      <td>2.994990</td>\n",
       "      <td>0.730087</td>\n",
       "      <td>700</td>\n",
       "      <td>8</td>\n",
       "    </tr>\n",
       "    <tr>\n",
       "      <th>4</th>\n",
       "      <td>13.418337</td>\n",
       "      <td>467</td>\n",
       "      <td>27.091628</td>\n",
       "      <td>19.031871</td>\n",
       "      <td>2.779578</td>\n",
       "      <td>0.729212</td>\n",
       "      <td>500</td>\n",
       "      <td>12</td>\n",
       "    </tr>\n",
       "    <tr>\n",
       "      <th>8</th>\n",
       "      <td>13.427883</td>\n",
       "      <td>462</td>\n",
       "      <td>27.120764</td>\n",
       "      <td>18.948975</td>\n",
       "      <td>3.062111</td>\n",
       "      <td>0.728099</td>\n",
       "      <td>600</td>\n",
       "      <td>8</td>\n",
       "    </tr>\n",
       "    <tr>\n",
       "      <th>2</th>\n",
       "      <td>13.455343</td>\n",
       "      <td>465</td>\n",
       "      <td>27.171548</td>\n",
       "      <td>18.992467</td>\n",
       "      <td>3.074915</td>\n",
       "      <td>0.726990</td>\n",
       "      <td>500</td>\n",
       "      <td>8</td>\n",
       "    </tr>\n",
       "    <tr>\n",
       "      <th>37</th>\n",
       "      <td>13.477612</td>\n",
       "      <td>461</td>\n",
       "      <td>27.229100</td>\n",
       "      <td>18.916702</td>\n",
       "      <td>3.294832</td>\n",
       "      <td>0.727049</td>\n",
       "      <td>1100</td>\n",
       "      <td>6</td>\n",
       "    </tr>\n",
       "    <tr>\n",
       "      <th>31</th>\n",
       "      <td>13.482239</td>\n",
       "      <td>462</td>\n",
       "      <td>27.262172</td>\n",
       "      <td>18.946083</td>\n",
       "      <td>3.287361</td>\n",
       "      <td>0.726217</td>\n",
       "      <td>1000</td>\n",
       "      <td>6</td>\n",
       "    </tr>\n",
       "    <tr>\n",
       "      <th>25</th>\n",
       "      <td>13.508248</td>\n",
       "      <td>463</td>\n",
       "      <td>27.303024</td>\n",
       "      <td>18.976687</td>\n",
       "      <td>3.300612</td>\n",
       "      <td>0.725292</td>\n",
       "      <td>900</td>\n",
       "      <td>6</td>\n",
       "    </tr>\n",
       "    <tr>\n",
       "      <th>19</th>\n",
       "      <td>13.496189</td>\n",
       "      <td>465</td>\n",
       "      <td>27.332634</td>\n",
       "      <td>18.992233</td>\n",
       "      <td>3.345579</td>\n",
       "      <td>0.724919</td>\n",
       "      <td>800</td>\n",
       "      <td>6</td>\n",
       "    </tr>\n",
       "    <tr>\n",
       "      <th>13</th>\n",
       "      <td>13.495303</td>\n",
       "      <td>465</td>\n",
       "      <td>27.345735</td>\n",
       "      <td>19.009154</td>\n",
       "      <td>3.277850</td>\n",
       "      <td>0.724351</td>\n",
       "      <td>700</td>\n",
       "      <td>6</td>\n",
       "    </tr>\n",
       "    <tr>\n",
       "      <th>7</th>\n",
       "      <td>13.461536</td>\n",
       "      <td>466</td>\n",
       "      <td>27.394730</td>\n",
       "      <td>19.031502</td>\n",
       "      <td>3.331097</td>\n",
       "      <td>0.723774</td>\n",
       "      <td>600</td>\n",
       "      <td>6</td>\n",
       "    </tr>\n",
       "    <tr>\n",
       "      <th>1</th>\n",
       "      <td>13.525943</td>\n",
       "      <td>468</td>\n",
       "      <td>27.454243</td>\n",
       "      <td>19.098036</td>\n",
       "      <td>3.377264</td>\n",
       "      <td>0.722550</td>\n",
       "      <td>500</td>\n",
       "      <td>6</td>\n",
       "    </tr>\n",
       "    <tr>\n",
       "      <th>36</th>\n",
       "      <td>13.701616</td>\n",
       "      <td>469</td>\n",
       "      <td>27.727358</td>\n",
       "      <td>19.477162</td>\n",
       "      <td>3.432097</td>\n",
       "      <td>0.713756</td>\n",
       "      <td>1100</td>\n",
       "      <td>4</td>\n",
       "    </tr>\n",
       "    <tr>\n",
       "      <th>24</th>\n",
       "      <td>13.776523</td>\n",
       "      <td>469</td>\n",
       "      <td>27.756053</td>\n",
       "      <td>19.521267</td>\n",
       "      <td>3.479917</td>\n",
       "      <td>0.713324</td>\n",
       "      <td>900</td>\n",
       "      <td>4</td>\n",
       "    </tr>\n",
       "    <tr>\n",
       "      <th>30</th>\n",
       "      <td>13.744390</td>\n",
       "      <td>469</td>\n",
       "      <td>27.756233</td>\n",
       "      <td>19.505297</td>\n",
       "      <td>3.406344</td>\n",
       "      <td>0.712911</td>\n",
       "      <td>1000</td>\n",
       "      <td>4</td>\n",
       "    </tr>\n",
       "    <tr>\n",
       "      <th>18</th>\n",
       "      <td>13.780025</td>\n",
       "      <td>470</td>\n",
       "      <td>27.804232</td>\n",
       "      <td>19.559548</td>\n",
       "      <td>3.511091</td>\n",
       "      <td>0.712236</td>\n",
       "      <td>800</td>\n",
       "      <td>4</td>\n",
       "    </tr>\n",
       "    <tr>\n",
       "      <th>12</th>\n",
       "      <td>13.847462</td>\n",
       "      <td>470</td>\n",
       "      <td>27.858538</td>\n",
       "      <td>19.599348</td>\n",
       "      <td>3.523213</td>\n",
       "      <td>0.710899</td>\n",
       "      <td>700</td>\n",
       "      <td>4</td>\n",
       "    </tr>\n",
       "    <tr>\n",
       "      <th>6</th>\n",
       "      <td>13.842764</td>\n",
       "      <td>471</td>\n",
       "      <td>27.859563</td>\n",
       "      <td>19.603944</td>\n",
       "      <td>3.627682</td>\n",
       "      <td>0.711737</td>\n",
       "      <td>600</td>\n",
       "      <td>4</td>\n",
       "    </tr>\n",
       "    <tr>\n",
       "      <th>0</th>\n",
       "      <td>13.905345</td>\n",
       "      <td>472</td>\n",
       "      <td>27.946432</td>\n",
       "      <td>19.637701</td>\n",
       "      <td>3.666047</td>\n",
       "      <td>0.709569</td>\n",
       "      <td>500</td>\n",
       "      <td>4</td>\n",
       "    </tr>\n",
       "  </tbody>\n",
       "</table>\n",
       "</div>"
      ],
      "text/plain": [
       "         crps  count       rmse        mae      bias      corr  n_estimator  \\\n",
       "41  13.112044    465  26.195570  18.389143  2.557965  0.750437         1100   \n",
       "35  13.147471    465  26.276481  18.426206  2.578699  0.748572         1000   \n",
       "29  13.158772    466  26.331609  18.480324  2.641233  0.747443          900   \n",
       "39  13.168241    458  26.344224  18.464018  2.598883  0.746472         1100   \n",
       "33  13.189537    458  26.373749  18.490690  2.602618  0.745804         1000   \n",
       "23  13.170047    466  26.398462  18.535942  2.678638  0.745948          800   \n",
       "21  13.182804    461  26.418200  18.533462  2.567523  0.744575          800   \n",
       "27  13.253145    457  26.419564  18.516333  2.592532  0.744601          900   \n",
       "17  13.209801    466  26.457832  18.559086  2.721503  0.744805          700   \n",
       "15  13.173501    464  26.500201  18.589906  2.596564  0.742723          700   \n",
       "9   13.207856    464  26.583122  18.658841  2.675238  0.741017          600   \n",
       "40  13.214594    462  26.628387  18.729899  2.550173  0.739668         1100   \n",
       "11  13.239615    468  26.670835  18.671833  2.889488  0.740474          600   \n",
       "34  13.242377    462  26.681595  18.774120  2.523376  0.738324         1000   \n",
       "5   13.290473    467  26.761717  18.720776  2.965302  0.738726          500   \n",
       "3   13.328099    464  26.772235  18.774527  2.711112  0.736561          500   \n",
       "28  13.264845    463  26.789537  18.814290  2.590395  0.735745          900   \n",
       "32  13.391757    461  26.871143  18.809838  2.924421  0.733967         1000   \n",
       "38  13.428912    460  26.883767  18.802908  2.950958  0.733655         1100   \n",
       "22  13.311488    464  26.884413  18.870933  2.664711  0.733807          800   \n",
       "26  13.409029    462  26.910918  18.855735  2.942812  0.733054          900   \n",
       "16  13.333974    464  26.931550  18.922648  2.655267  0.732678          700   \n",
       "20  13.440783    463  26.991979  18.910126  2.981060  0.731115          800   \n",
       "10  13.368955    466  26.994342  18.981971  2.703822  0.731361          600   \n",
       "14  13.440247    463  27.031085  18.930413  2.994990  0.730087          700   \n",
       "4   13.418337    467  27.091628  19.031871  2.779578  0.729212          500   \n",
       "8   13.427883    462  27.120764  18.948975  3.062111  0.728099          600   \n",
       "2   13.455343    465  27.171548  18.992467  3.074915  0.726990          500   \n",
       "37  13.477612    461  27.229100  18.916702  3.294832  0.727049         1100   \n",
       "31  13.482239    462  27.262172  18.946083  3.287361  0.726217         1000   \n",
       "25  13.508248    463  27.303024  18.976687  3.300612  0.725292          900   \n",
       "19  13.496189    465  27.332634  18.992233  3.345579  0.724919          800   \n",
       "13  13.495303    465  27.345735  19.009154  3.277850  0.724351          700   \n",
       "7   13.461536    466  27.394730  19.031502  3.331097  0.723774          600   \n",
       "1   13.525943    468  27.454243  19.098036  3.377264  0.722550          500   \n",
       "36  13.701616    469  27.727358  19.477162  3.432097  0.713756         1100   \n",
       "24  13.776523    469  27.756053  19.521267  3.479917  0.713324          900   \n",
       "30  13.744390    469  27.756233  19.505297  3.406344  0.712911         1000   \n",
       "18  13.780025    470  27.804232  19.559548  3.511091  0.712236          800   \n",
       "12  13.847462    470  27.858538  19.599348  3.523213  0.710899          700   \n",
       "6   13.842764    471  27.859563  19.603944  3.627682  0.711737          600   \n",
       "0   13.905345    472  27.946432  19.637701  3.666047  0.709569          500   \n",
       "\n",
       "    max_depth  \n",
       "41         14  \n",
       "35         14  \n",
       "29         14  \n",
       "39         10  \n",
       "33         10  \n",
       "23         14  \n",
       "21         10  \n",
       "27         10  \n",
       "17         14  \n",
       "15         10  \n",
       "9          10  \n",
       "40         12  \n",
       "11         14  \n",
       "34         12  \n",
       "5          14  \n",
       "3          10  \n",
       "28         12  \n",
       "32          8  \n",
       "38          8  \n",
       "22         12  \n",
       "26          8  \n",
       "16         12  \n",
       "20          8  \n",
       "10         12  \n",
       "14          8  \n",
       "4          12  \n",
       "8           8  \n",
       "2           8  \n",
       "37          6  \n",
       "31          6  \n",
       "25          6  \n",
       "19          6  \n",
       "13          6  \n",
       "7           6  \n",
       "1           6  \n",
       "36          4  \n",
       "24          4  \n",
       "30          4  \n",
       "18          4  \n",
       "12          4  \n",
       "6           4  \n",
       "0           4  "
      ]
     },
     "execution_count": 53,
     "metadata": {},
     "output_type": "execute_result"
    }
   ],
   "source": [
    "pd.DataFrame(alls).sort_values(\"rmse\")"
   ]
  },
  {
   "cell_type": "code",
   "execution_count": 55,
   "metadata": {},
   "outputs": [
    {
     "data": {
      "application/vnd.jupyter.widget-view+json": {
       "model_id": "a265c0d0bf0b4245bba6b4354aa58119",
       "version_major": 2,
       "version_minor": 0
      },
      "text/plain": [
       "HBox(children=(HTML(value=''), FloatProgress(value=0.0, max=3.0), HTML(value='')))"
      ]
     },
     "metadata": {},
     "output_type": "display_data"
    },
    {
     "data": {
      "application/vnd.jupyter.widget-view+json": {
       "model_id": "03031dd0f6564c8cb41249cda7e29c58",
       "version_major": 2,
       "version_minor": 0
      },
      "text/plain": [
       "HBox(children=(HTML(value=''), FloatProgress(value=0.0, max=3.0), HTML(value='')))"
      ]
     },
     "metadata": {},
     "output_type": "display_data"
    },
    {
     "name": "stdout",
     "output_type": "stream",
     "text": [
      "training !\n"
     ]
    },
    {
     "data": {
      "application/vnd.jupyter.widget-view+json": {
       "model_id": "6c03dba4b9af406783df24eecf819d1b",
       "version_major": 2,
       "version_minor": 0
      },
      "text/plain": [
       "HBox(children=(HTML(value=''), FloatProgress(value=0.0, max=5.0), HTML(value='')))"
      ]
     },
     "metadata": {},
     "output_type": "display_data"
    },
    {
     "name": "stdout",
     "output_type": "stream",
     "text": [
      "Quantile: 0.022750131948179195\n",
      "[LightGBM] [Warning] Unknown parameter: loss\n",
      "[LightGBM] [Warning] Accuracy may be bad since you didn't explicitly set num_leaves OR 2^max_depth > num_leaves. (num_leaves=31).\n",
      "Quantile: 0.15865525393145707\n",
      "Quantile: 0.5\n",
      "Quantile: 0.8413447460685429\n",
      "Quantile: 0.9772498680518208\n",
      "\n",
      "Done\n",
      "predicting\n"
     ]
    },
    {
     "data": {
      "application/vnd.jupyter.widget-view+json": {
       "model_id": "2672e0d9d7f14d118f638ec2120c5e24",
       "version_major": 2,
       "version_minor": 0
      },
      "text/plain": [
       "HBox(children=(HTML(value=''), FloatProgress(value=0.0, max=5.0), HTML(value='')))"
      ]
     },
     "metadata": {},
     "output_type": "display_data"
    },
    {
     "name": "stdout",
     "output_type": "stream",
     "text": [
      "\n",
      "training !\n"
     ]
    },
    {
     "data": {
      "application/vnd.jupyter.widget-view+json": {
       "model_id": "5e750220c8194dd6aceb366bd444c75a",
       "version_major": 2,
       "version_minor": 0
      },
      "text/plain": [
       "HBox(children=(HTML(value=''), FloatProgress(value=0.0, max=5.0), HTML(value='')))"
      ]
     },
     "metadata": {},
     "output_type": "display_data"
    },
    {
     "name": "stdout",
     "output_type": "stream",
     "text": [
      "Quantile: 0.022750131948179195\n",
      "[LightGBM] [Warning] Unknown parameter: loss\n",
      "[LightGBM] [Warning] Accuracy may be bad since you didn't explicitly set num_leaves OR 2^max_depth > num_leaves. (num_leaves=31).\n",
      "Quantile: 0.15865525393145707\n",
      "Quantile: 0.5\n",
      "Quantile: 0.8413447460685429\n",
      "Quantile: 0.9772498680518208\n",
      "\n",
      "Done\n",
      "predicting\n"
     ]
    },
    {
     "data": {
      "application/vnd.jupyter.widget-view+json": {
       "model_id": "2a7be2a08bc24ac287a86c18fcb822a2",
       "version_major": 2,
       "version_minor": 0
      },
      "text/plain": [
       "HBox(children=(HTML(value=''), FloatProgress(value=0.0, max=5.0), HTML(value='')))"
      ]
     },
     "metadata": {},
     "output_type": "display_data"
    },
    {
     "name": "stdout",
     "output_type": "stream",
     "text": [
      "\n",
      "training !\n"
     ]
    },
    {
     "data": {
      "application/vnd.jupyter.widget-view+json": {
       "model_id": "6b006b52e0b646c084412899678f2570",
       "version_major": 2,
       "version_minor": 0
      },
      "text/plain": [
       "HBox(children=(HTML(value=''), FloatProgress(value=0.0, max=5.0), HTML(value='')))"
      ]
     },
     "metadata": {},
     "output_type": "display_data"
    },
    {
     "name": "stdout",
     "output_type": "stream",
     "text": [
      "Quantile: 0.022750131948179195\n",
      "[LightGBM] [Warning] Unknown parameter: loss\n",
      "[LightGBM] [Warning] Accuracy may be bad since you didn't explicitly set num_leaves OR 2^max_depth > num_leaves. (num_leaves=31).\n",
      "Quantile: 0.15865525393145707\n",
      "Quantile: 0.5\n",
      "Quantile: 0.8413447460685429\n",
      "Quantile: 0.9772498680518208\n",
      "\n",
      "Done\n",
      "predicting\n"
     ]
    },
    {
     "data": {
      "application/vnd.jupyter.widget-view+json": {
       "model_id": "b8911e5c7d1c484a8c1f008311b9c7ae",
       "version_major": 2,
       "version_minor": 0
      },
      "text/plain": [
       "HBox(children=(HTML(value=''), FloatProgress(value=0.0, max=5.0), HTML(value='')))"
      ]
     },
     "metadata": {},
     "output_type": "display_data"
    },
    {
     "name": "stdout",
     "output_type": "stream",
     "text": [
      "\n",
      "\n"
     ]
    },
    {
     "data": {
      "application/vnd.jupyter.widget-view+json": {
       "model_id": "78fddf4276f84d5c8e5ac5125a03ffa0",
       "version_major": 2,
       "version_minor": 0
      },
      "text/plain": [
       "HBox(children=(HTML(value=''), FloatProgress(value=0.0, max=3.0), HTML(value='')))"
      ]
     },
     "metadata": {},
     "output_type": "display_data"
    },
    {
     "name": "stdout",
     "output_type": "stream",
     "text": [
      "training !\n"
     ]
    },
    {
     "data": {
      "application/vnd.jupyter.widget-view+json": {
       "model_id": "3bf92906ebe145b79493506dd40ae885",
       "version_major": 2,
       "version_minor": 0
      },
      "text/plain": [
       "HBox(children=(HTML(value=''), FloatProgress(value=0.0, max=5.0), HTML(value='')))"
      ]
     },
     "metadata": {},
     "output_type": "display_data"
    },
    {
     "name": "stdout",
     "output_type": "stream",
     "text": [
      "Quantile: 0.022750131948179195\n",
      "[LightGBM] [Warning] Unknown parameter: loss\n",
      "[LightGBM] [Warning] Accuracy may be bad since you didn't explicitly set num_leaves OR 2^max_depth > num_leaves. (num_leaves=31).\n",
      "Quantile: 0.15865525393145707\n",
      "Quantile: 0.5\n",
      "Quantile: 0.8413447460685429\n",
      "Quantile: 0.9772498680518208\n",
      "\n",
      "Done\n",
      "predicting\n"
     ]
    },
    {
     "data": {
      "application/vnd.jupyter.widget-view+json": {
       "model_id": "c0032a063ef845ea934a582096f01a47",
       "version_major": 2,
       "version_minor": 0
      },
      "text/plain": [
       "HBox(children=(HTML(value=''), FloatProgress(value=0.0, max=5.0), HTML(value='')))"
      ]
     },
     "metadata": {},
     "output_type": "display_data"
    },
    {
     "name": "stdout",
     "output_type": "stream",
     "text": [
      "\n",
      "training !\n"
     ]
    },
    {
     "data": {
      "application/vnd.jupyter.widget-view+json": {
       "model_id": "fa976794c46d4c2cbaf6e41c4d80d451",
       "version_major": 2,
       "version_minor": 0
      },
      "text/plain": [
       "HBox(children=(HTML(value=''), FloatProgress(value=0.0, max=5.0), HTML(value='')))"
      ]
     },
     "metadata": {},
     "output_type": "display_data"
    },
    {
     "name": "stdout",
     "output_type": "stream",
     "text": [
      "Quantile: 0.022750131948179195\n",
      "[LightGBM] [Warning] Unknown parameter: loss\n",
      "[LightGBM] [Warning] Accuracy may be bad since you didn't explicitly set num_leaves OR 2^max_depth > num_leaves. (num_leaves=31).\n",
      "Quantile: 0.15865525393145707\n",
      "Quantile: 0.5\n",
      "Quantile: 0.8413447460685429\n",
      "Quantile: 0.9772498680518208\n",
      "\n",
      "Done\n",
      "predicting\n"
     ]
    },
    {
     "data": {
      "application/vnd.jupyter.widget-view+json": {
       "model_id": "d8ca0145406a4898bbfd4391aae21590",
       "version_major": 2,
       "version_minor": 0
      },
      "text/plain": [
       "HBox(children=(HTML(value=''), FloatProgress(value=0.0, max=5.0), HTML(value='')))"
      ]
     },
     "metadata": {},
     "output_type": "display_data"
    },
    {
     "name": "stdout",
     "output_type": "stream",
     "text": [
      "\n",
      "training !\n"
     ]
    },
    {
     "data": {
      "application/vnd.jupyter.widget-view+json": {
       "model_id": "e4b79886b5404b4187041d1665c429d1",
       "version_major": 2,
       "version_minor": 0
      },
      "text/plain": [
       "HBox(children=(HTML(value=''), FloatProgress(value=0.0, max=5.0), HTML(value='')))"
      ]
     },
     "metadata": {},
     "output_type": "display_data"
    },
    {
     "name": "stdout",
     "output_type": "stream",
     "text": [
      "Quantile: 0.022750131948179195\n",
      "[LightGBM] [Warning] Unknown parameter: loss\n",
      "[LightGBM] [Warning] Accuracy may be bad since you didn't explicitly set num_leaves OR 2^max_depth > num_leaves. (num_leaves=31).\n",
      "Quantile: 0.15865525393145707\n",
      "Quantile: 0.5\n",
      "Quantile: 0.8413447460685429\n",
      "Quantile: 0.9772498680518208\n",
      "\n",
      "Done\n",
      "predicting\n"
     ]
    },
    {
     "data": {
      "application/vnd.jupyter.widget-view+json": {
       "model_id": "9b06f6e0bd4148e48fb9cadbe13b442d",
       "version_major": 2,
       "version_minor": 0
      },
      "text/plain": [
       "HBox(children=(HTML(value=''), FloatProgress(value=0.0, max=5.0), HTML(value='')))"
      ]
     },
     "metadata": {},
     "output_type": "display_data"
    },
    {
     "name": "stdout",
     "output_type": "stream",
     "text": [
      "\n",
      "\n"
     ]
    },
    {
     "data": {
      "application/vnd.jupyter.widget-view+json": {
       "model_id": "7667c1019cd240d88127651d691c274f",
       "version_major": 2,
       "version_minor": 0
      },
      "text/plain": [
       "HBox(children=(HTML(value=''), FloatProgress(value=0.0, max=3.0), HTML(value='')))"
      ]
     },
     "metadata": {},
     "output_type": "display_data"
    },
    {
     "name": "stdout",
     "output_type": "stream",
     "text": [
      "training !\n"
     ]
    },
    {
     "data": {
      "application/vnd.jupyter.widget-view+json": {
       "model_id": "b5e241ab04be46a581a410c1076a9938",
       "version_major": 2,
       "version_minor": 0
      },
      "text/plain": [
       "HBox(children=(HTML(value=''), FloatProgress(value=0.0, max=5.0), HTML(value='')))"
      ]
     },
     "metadata": {},
     "output_type": "display_data"
    },
    {
     "name": "stdout",
     "output_type": "stream",
     "text": [
      "Quantile: 0.022750131948179195\n",
      "[LightGBM] [Warning] Unknown parameter: loss\n",
      "[LightGBM] [Warning] Accuracy may be bad since you didn't explicitly set num_leaves OR 2^max_depth > num_leaves. (num_leaves=31).\n",
      "Quantile: 0.15865525393145707\n",
      "Quantile: 0.5\n",
      "Quantile: 0.8413447460685429\n",
      "Quantile: 0.9772498680518208\n",
      "\n",
      "Done\n",
      "predicting\n"
     ]
    },
    {
     "data": {
      "application/vnd.jupyter.widget-view+json": {
       "model_id": "90aab3d9880240f29ae0799acdefba84",
       "version_major": 2,
       "version_minor": 0
      },
      "text/plain": [
       "HBox(children=(HTML(value=''), FloatProgress(value=0.0, max=5.0), HTML(value='')))"
      ]
     },
     "metadata": {},
     "output_type": "display_data"
    },
    {
     "name": "stdout",
     "output_type": "stream",
     "text": [
      "\n",
      "training !\n"
     ]
    },
    {
     "data": {
      "application/vnd.jupyter.widget-view+json": {
       "model_id": "0e15e0a87f2543928b65f9ff77c463ba",
       "version_major": 2,
       "version_minor": 0
      },
      "text/plain": [
       "HBox(children=(HTML(value=''), FloatProgress(value=0.0, max=5.0), HTML(value='')))"
      ]
     },
     "metadata": {},
     "output_type": "display_data"
    },
    {
     "name": "stdout",
     "output_type": "stream",
     "text": [
      "Quantile: 0.022750131948179195\n",
      "[LightGBM] [Warning] Unknown parameter: loss\n",
      "[LightGBM] [Warning] Accuracy may be bad since you didn't explicitly set num_leaves OR 2^max_depth > num_leaves. (num_leaves=31).\n",
      "Quantile: 0.15865525393145707\n",
      "Quantile: 0.5\n",
      "Quantile: 0.8413447460685429\n",
      "Quantile: 0.9772498680518208\n",
      "\n",
      "Done\n",
      "predicting\n"
     ]
    },
    {
     "data": {
      "application/vnd.jupyter.widget-view+json": {
       "model_id": "b7c8df88305e4bf693db1b01db6813be",
       "version_major": 2,
       "version_minor": 0
      },
      "text/plain": [
       "HBox(children=(HTML(value=''), FloatProgress(value=0.0, max=5.0), HTML(value='')))"
      ]
     },
     "metadata": {},
     "output_type": "display_data"
    },
    {
     "name": "stdout",
     "output_type": "stream",
     "text": [
      "\n",
      "training !\n"
     ]
    },
    {
     "data": {
      "application/vnd.jupyter.widget-view+json": {
       "model_id": "68c6c54b12db441cabc06c6cf9a29b6f",
       "version_major": 2,
       "version_minor": 0
      },
      "text/plain": [
       "HBox(children=(HTML(value=''), FloatProgress(value=0.0, max=5.0), HTML(value='')))"
      ]
     },
     "metadata": {},
     "output_type": "display_data"
    },
    {
     "name": "stdout",
     "output_type": "stream",
     "text": [
      "Quantile: 0.022750131948179195\n",
      "[LightGBM] [Warning] Unknown parameter: loss\n",
      "[LightGBM] [Warning] Accuracy may be bad since you didn't explicitly set num_leaves OR 2^max_depth > num_leaves. (num_leaves=31).\n",
      "Quantile: 0.15865525393145707\n",
      "Quantile: 0.5\n",
      "Quantile: 0.8413447460685429\n",
      "Quantile: 0.9772498680518208\n",
      "\n",
      "Done\n",
      "predicting\n"
     ]
    },
    {
     "data": {
      "application/vnd.jupyter.widget-view+json": {
       "model_id": "d736a3bee7df4b8d8fe02ae08559a84e",
       "version_major": 2,
       "version_minor": 0
      },
      "text/plain": [
       "HBox(children=(HTML(value=''), FloatProgress(value=0.0, max=5.0), HTML(value='')))"
      ]
     },
     "metadata": {},
     "output_type": "display_data"
    },
    {
     "name": "stdout",
     "output_type": "stream",
     "text": [
      "\n",
      "\n",
      "\n"
     ]
    },
    {
     "data": {
      "text/html": [
       "<div>\n",
       "<style scoped>\n",
       "    .dataframe tbody tr th:only-of-type {\n",
       "        vertical-align: middle;\n",
       "    }\n",
       "\n",
       "    .dataframe tbody tr th {\n",
       "        vertical-align: top;\n",
       "    }\n",
       "\n",
       "    .dataframe thead th {\n",
       "        text-align: right;\n",
       "    }\n",
       "</style>\n",
       "<table border=\"1\" class=\"dataframe\">\n",
       "  <thead>\n",
       "    <tr style=\"text-align: right;\">\n",
       "      <th></th>\n",
       "      <th>crps</th>\n",
       "      <th>count</th>\n",
       "      <th>rmse</th>\n",
       "      <th>mae</th>\n",
       "      <th>bias</th>\n",
       "      <th>corr</th>\n",
       "      <th>n_estimator</th>\n",
       "      <th>max_depth</th>\n",
       "    </tr>\n",
       "  </thead>\n",
       "  <tbody>\n",
       "    <tr>\n",
       "      <th>6</th>\n",
       "      <td>13.078775</td>\n",
       "      <td>462</td>\n",
       "      <td>26.113654</td>\n",
       "      <td>18.287802</td>\n",
       "      <td>2.574570</td>\n",
       "      <td>0.752331</td>\n",
       "      <td>1900</td>\n",
       "      <td>16</td>\n",
       "    </tr>\n",
       "    <tr>\n",
       "      <th>3</th>\n",
       "      <td>13.109792</td>\n",
       "      <td>462</td>\n",
       "      <td>26.143519</td>\n",
       "      <td>18.306575</td>\n",
       "      <td>2.575460</td>\n",
       "      <td>0.751590</td>\n",
       "      <td>1700</td>\n",
       "      <td>16</td>\n",
       "    </tr>\n",
       "    <tr>\n",
       "      <th>0</th>\n",
       "      <td>13.130781</td>\n",
       "      <td>463</td>\n",
       "      <td>26.231025</td>\n",
       "      <td>18.368446</td>\n",
       "      <td>2.586203</td>\n",
       "      <td>0.749561</td>\n",
       "      <td>1500</td>\n",
       "      <td>16</td>\n",
       "    </tr>\n",
       "    <tr>\n",
       "      <th>7</th>\n",
       "      <td>13.227243</td>\n",
       "      <td>458</td>\n",
       "      <td>26.258953</td>\n",
       "      <td>18.517340</td>\n",
       "      <td>2.703388</td>\n",
       "      <td>0.749923</td>\n",
       "      <td>1900</td>\n",
       "      <td>18</td>\n",
       "    </tr>\n",
       "    <tr>\n",
       "      <th>4</th>\n",
       "      <td>13.195215</td>\n",
       "      <td>460</td>\n",
       "      <td>26.317637</td>\n",
       "      <td>18.547053</td>\n",
       "      <td>2.709977</td>\n",
       "      <td>0.748563</td>\n",
       "      <td>1700</td>\n",
       "      <td>18</td>\n",
       "    </tr>\n",
       "    <tr>\n",
       "      <th>1</th>\n",
       "      <td>13.216615</td>\n",
       "      <td>460</td>\n",
       "      <td>26.415884</td>\n",
       "      <td>18.627242</td>\n",
       "      <td>2.755423</td>\n",
       "      <td>0.746428</td>\n",
       "      <td>1500</td>\n",
       "      <td>18</td>\n",
       "    </tr>\n",
       "    <tr>\n",
       "      <th>8</th>\n",
       "      <td>13.192756</td>\n",
       "      <td>461</td>\n",
       "      <td>26.429982</td>\n",
       "      <td>18.522709</td>\n",
       "      <td>2.545831</td>\n",
       "      <td>0.745003</td>\n",
       "      <td>1900</td>\n",
       "      <td>20</td>\n",
       "    </tr>\n",
       "    <tr>\n",
       "      <th>5</th>\n",
       "      <td>13.237440</td>\n",
       "      <td>461</td>\n",
       "      <td>26.467214</td>\n",
       "      <td>18.555937</td>\n",
       "      <td>2.593564</td>\n",
       "      <td>0.744335</td>\n",
       "      <td>1700</td>\n",
       "      <td>20</td>\n",
       "    </tr>\n",
       "    <tr>\n",
       "      <th>2</th>\n",
       "      <td>13.248307</td>\n",
       "      <td>461</td>\n",
       "      <td>26.518313</td>\n",
       "      <td>18.595631</td>\n",
       "      <td>2.621523</td>\n",
       "      <td>0.743264</td>\n",
       "      <td>1500</td>\n",
       "      <td>20</td>\n",
       "    </tr>\n",
       "  </tbody>\n",
       "</table>\n",
       "</div>"
      ],
      "text/plain": [
       "        crps  count       rmse        mae      bias      corr  n_estimator  \\\n",
       "6  13.078775    462  26.113654  18.287802  2.574570  0.752331         1900   \n",
       "3  13.109792    462  26.143519  18.306575  2.575460  0.751590         1700   \n",
       "0  13.130781    463  26.231025  18.368446  2.586203  0.749561         1500   \n",
       "7  13.227243    458  26.258953  18.517340  2.703388  0.749923         1900   \n",
       "4  13.195215    460  26.317637  18.547053  2.709977  0.748563         1700   \n",
       "1  13.216615    460  26.415884  18.627242  2.755423  0.746428         1500   \n",
       "8  13.192756    461  26.429982  18.522709  2.545831  0.745003         1900   \n",
       "5  13.237440    461  26.467214  18.555937  2.593564  0.744335         1700   \n",
       "2  13.248307    461  26.518313  18.595631  2.621523  0.743264         1500   \n",
       "\n",
       "   max_depth  \n",
       "6         16  \n",
       "3         16  \n",
       "0         16  \n",
       "7         18  \n",
       "4         18  \n",
       "1         18  \n",
       "8         20  \n",
       "5         20  \n",
       "2         20  "
      ]
     },
     "execution_count": 55,
     "metadata": {},
     "output_type": "execute_result"
    }
   ],
   "source": [
    "alls=[]\n",
    "\n",
    "for n_estimator in tqdm([1500,1700,1900]):\n",
    "    for max_depth in tqdm([16,18,20]):\n",
    "        qreg = TotalLGBQuantile(n_estimators=n_estimator,max_depth=max_depth)\n",
    "        qreg.fit(X_train_std,y_train)\n",
    "        preds = qreg.predict(X_test_std)\n",
    "        results=evaluate((np.exp(preds)-1),(np.exp(y_test)-1).values)\n",
    "        del results[\"all\"]\n",
    "        del results[\"target\"]\n",
    "        results[\"n_estimator\"]=n_estimator\n",
    "        results[\"max_depth\"]=max_depth\n",
    "        alls.append(results)\n",
    "pd.DataFrame(alls).sort_values(\"rmse\")"
   ]
  },
  {
   "cell_type": "code",
   "execution_count": null,
   "metadata": {},
   "outputs": [],
   "source": []
  }
 ],
 "metadata": {
  "kernelspec": {
   "display_name": "Python 3",
   "language": "python",
   "name": "python3"
  },
  "language_info": {
   "codemirror_mode": {
    "name": "ipython",
    "version": 3
   },
   "file_extension": ".py",
   "mimetype": "text/x-python",
   "name": "python",
   "nbconvert_exporter": "python",
   "pygments_lexer": "ipython3",
   "version": "3.8.5"
  }
 },
 "nbformat": 4,
 "nbformat_minor": 4
}
