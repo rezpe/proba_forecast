{
 "cells": [
  {
   "cell_type": "code",
   "execution_count": 1,
   "metadata": {},
   "outputs": [],
   "source": [
    "import numpy as np\n",
    "import pandas as pd\n",
    "from tqdm import tqdm\n",
    "\n",
    "## Medida del CRPS\n",
    "def heavyside(prediction,actual):\n",
    "    return prediction >= actual\n",
    "\n",
    "def cdf_dif(prediction,actual):\n",
    "    quantiles = np.arange(1,100)/100.0\n",
    "    t=pd.Series(prediction)\n",
    "    dif=t-t.shift(1)\n",
    "    dif=dif.dropna()\n",
    "    fs = sum(dif*((quantiles-heavyside(prediction,actual))[1:]**2))\n",
    "    # If the actual is outside the range of the prediction, \n",
    "    # we need to account for that areas outside the range \n",
    "    if actual > prediction[-1]:\n",
    "        fs += (actual-prediction[-1]) * 1\n",
    "    if actual < prediction[0]:\n",
    "        fs += (prediction[0]-actual) * 1\n",
    "    return fs\n",
    "\n",
    "def CRPS(predictions, actuals):\n",
    "    difs_mean = [cdf_dif(predictions[i],actuals[i]) for i in range(len(actuals))]\n",
    "    return np.mean(difs_mean)\n",
    "\n",
    "def evaluate(predictions,target):\n",
    "\n",
    "    res={}\n",
    "    \n",
    "    # Calculate the CRPS\n",
    "    res[\"crps\"]=CRPS(predictions,target)\n",
    "    \n",
    "    # Bonus useful Feature\n",
    "    count = 0\n",
    "    for i in range(len(target)):\n",
    "        if (target[i]>predictions[i][0]) and (target[i]<predictions[i][-1]):\n",
    "            count+=1\n",
    "    res[\"count\"]=count\n",
    "    \n",
    "    ## Calculate as well measures for the quantile 50\n",
    "    total_df = pd.DataFrame(predictions)\n",
    "    quantiles = np.arange(1,100)/100.0 \n",
    "    total_df.columns=np.array(quantiles).astype(str)\n",
    "    #RMSE       \n",
    "    res[\"rmse\"]=np.sqrt(np.mean((target-total_df[\"0.5\"])**2))\n",
    "    #MAE    \n",
    "    res[\"mae\"]=np.mean(np.abs(target-total_df[\"0.5\"] ) )\n",
    "    #Bias \n",
    "    res[\"bias\"]=np.mean(target-total_df[\"0.5\"])\n",
    "    #Corr\n",
    "    res[\"corr\"]=np.corrcoef(target,total_df[\"0.5\"])[0][1]\n",
    "\n",
    "    res[\"all\"]=predictions\n",
    "    res[\"target\"]=target\n",
    "    \n",
    "    return res"
   ]
  },
  {
   "cell_type": "code",
   "execution_count": 8,
   "metadata": {},
   "outputs": [],
   "source": [
    "import numpy as np\n",
    "import math\n",
    "import pandas as pd\n",
    "from tqdm import  tqdm\n",
    "from sklearn.model_selection import KFold\n",
    "from numpy.fft import fft\n",
    "import datetime\n",
    "import json\n",
    "import numpy as np\n",
    "from scipy import stats\n",
    "\n",
    "def prepare_data_from_horizon(df, horizon=12):\n",
    "    \n",
    "    data=df.copy()\n",
    "\n",
    "    sel = np.concatenate([[1,2,3,4],\n",
    "                         [12],\n",
    "                         24*np.arange(1,9),\n",
    "                         12+24*np.arange(1,9)])  \n",
    "    sel=np.concatenate([sel,sel-1,sel+1])  \n",
    "    \n",
    "    ## lagged NO2 values\n",
    "    for i in sel:\n",
    "        if (i>=horizon):\n",
    "            data[\"NO2 - \"+str(i)] = data[\"NO2\"].shift(i)\n",
    "\n",
    "    ## lagged O3 values\n",
    "    for i in 24*np.arange(1,4):\n",
    "        if (i>=horizon):\n",
    "            data[\"O3 - \"+str(i)] = data[\"O3\"].shift(i)\n",
    "\n",
    "    ## Remove empty values\n",
    "    data=data.dropna()\n",
    "\n",
    "    X=data[list(set(data.columns)-set(['DATE',\"NO2\",\"O3\"]))]\n",
    "    y=data[\"NO2\"]\n",
    "  \n",
    "    return X, y\n",
    "\n",
    "#\"data/dataEscAgui.csv\"\n",
    "def get_data(path):\n",
    "\n",
    "    df = pd.read_csv(path,sep=\";\")\n",
    "\n",
    "    # Prepare data\n",
    "    data = df[[\"DATE\",\"SPA.NO2\",\"SPA.O3\",\"MACC.NO2\"]].copy()\n",
    "    data[\"DATE\"]=pd.to_datetime(data[\"DATE\"],format=\"%Y-%m-%d %H:%M:%S\")\n",
    "    data = data.sort_values(\"DATE\")\n",
    "    data.columns = [\"DATE\",\"NO2\",\"O3\",\"CAMS\"]\n",
    "\n",
    "    ## Remove everything from 2020\n",
    "    data=data[data[\"DATE\"].astype(str)<\"2020\"]\n",
    "\n",
    "    ## Fourier Columns\n",
    "    freqs = [2922,1461,209,1465,4]\n",
    "    l = 35064\n",
    "    n = np.arange(len(data))\n",
    "    fcols = []\n",
    "    for f in freqs:\n",
    "        data[\"c\"+str(f)]=np.cos(n*2*np.pi*f/l)\n",
    "        fcols.append(\"c\"+str(f))\n",
    "        data[\"s\"+str(f)]=np.cos(n*2*np.pi*f/l)\n",
    "        fcols.append(\"s\"+str(f))\n",
    "\n",
    "    data[\"NO2\"]=np.log1p(data[\"NO2\"])\n",
    "    data[\"O3\"]=np.log1p(data[\"O3\"])\n",
    "    data[\"CAMS\"]=np.log1p(data[\"CAMS\"])\n",
    "\n",
    "    ## Calendar Variables \n",
    "    ## Calendar Variables do not bring better results and therefore\n",
    "    ## removed\n",
    "    \n",
    "    return data"
   ]
  },
  {
   "cell_type": "code",
   "execution_count": 9,
   "metadata": {},
   "outputs": [],
   "source": [
    "import lightgbm as lgb\n",
    "import numpy as np\n",
    "import math\n",
    "import pandas as pd\n",
    "from tqdm import tqdm\n",
    "from scipy import stats\n",
    "\n",
    "class TotalLGBQuantile():\n",
    "    \n",
    "    def __init__(self,n_estimators,max_depth):\n",
    "        self.n_estimators=n_estimators\n",
    "        self.max_depth=max_depth\n",
    "        self.quantiles=[0.022750131948179195,0.15865525393145707,0.5,0.8413447460685429,0.9772498680518208]\n",
    "        self.estimators = []\n",
    "        \n",
    "    def fit(self,X_train,y_train):\n",
    "        print(\"training !\")\n",
    "        for q in tqdm(self.quantiles):\n",
    "            print(f\"Quantile: {q}\")\n",
    "            reg = lgb.LGBMRegressor(n_estimators=self.n_estimators,\n",
    "                                    objective= 'quantile',\n",
    "                                    loss=\"quantile\",\n",
    "                                    alpha=q,\n",
    "                                    random_state=2020,\n",
    "                                   max_depth=self.max_depth)\n",
    "                                \n",
    "            reg.fit(X_train, y_train)\n",
    "            self.estimators.append(reg)\n",
    "        print(\"Done\")\n",
    "        \n",
    "    def predict(self,X):\n",
    "        predictions_gbr = []\n",
    "        print(\"predicting\")\n",
    "        for reg in tqdm(self.estimators):\n",
    "            predictions_gbr.append(reg.predict(X))\n",
    "         \n",
    "        total_pred={}\n",
    "        for i in range(len(predictions_gbr)):\n",
    "            total_pred[i]=predictions_gbr[i]\n",
    "            \n",
    "        total_df=pd.DataFrame(total_pred)\n",
    "\n",
    "        def process_row(row):\n",
    "            v = row.values\n",
    "            dif_mean = np.abs(v-v[2])\n",
    "            mu = v[2]\n",
    "            s = np.mean([dif_mean[0]/2,dif_mean[1],dif_mean[3],dif_mean[4]/2])\n",
    "            mi_norm = stats.norm(mu,s)\n",
    "            quant=[]\n",
    "            for quantile in np.arange(1,100)/100.0 :\n",
    "                quant.append(mi_norm.ppf(quantile))\n",
    "            return pd.Series(quant)\n",
    " \n",
    "        total_df = total_df.apply(process_row,axis=1)\n",
    "        \n",
    "        return total_df.values\n"
   ]
  },
  {
   "cell_type": "code",
   "execution_count": 10,
   "metadata": {},
   "outputs": [],
   "source": [
    "import numpy as np\n",
    "import math\n",
    "import pandas as pd\n",
    "from tqdm import tqdm\n",
    "from scipy import stats\n",
    "\n",
    "from keras.models import Sequential\n",
    "from keras.layers import Dense, LeakyReLU\n",
    "from keras.callbacks import EarlyStopping\n",
    "import keras.backend as K \n",
    "\n",
    "from sklearn.model_selection import train_test_split\n",
    "\n",
    "def tilted_loss(q,y,f):\n",
    "    e = (y-f)\n",
    "    return K.mean(K.maximum(q*e, (q-1)*e), axis=-1)\n",
    "\n",
    "class MLPQuantile():\n",
    "    \n",
    "    def __init__(self):\n",
    "\n",
    "        self.estimators = []\n",
    "        \n",
    "    def fit(self,X_train,y_train):\n",
    "        \n",
    "        def MLPmodel():\n",
    "            model = Sequential()\n",
    "            model.add(Dense(len(X_train[0]), input_dim=len(X_train[0]), activation=LeakyReLU(alpha=0.3)))\n",
    "            model.add(Dense(int(len(X_train[0])/2), activation=LeakyReLU(alpha=0.3)))\n",
    "            model.add(Dense(int(len(X_train[0])/2), activation=LeakyReLU(alpha=0.3)))\n",
    "            model.add(Dense(1, activation='linear'))\n",
    "            return model\n",
    "        \n",
    "        print(\"training !\")\n",
    "\n",
    "        X_ttrain, X_val, y_ttrain, y_val = train_test_split(X_train,y_train,test_size=.05,random_state=2020)\n",
    "\n",
    "        for q in [0.022750131948179195,0.15865525393145707,0.5,0.8413447460685429,0.9772498680518208]:\n",
    "            print(f\"Quantile: {q}\")\n",
    "            model = MLPmodel()\n",
    "            model.compile(loss=lambda y,f: tilted_loss(q,y,f), optimizer='adadelta')\n",
    "            es = EarlyStopping(monitor='val_loss', mode='min', verbose=1,patience=50)\n",
    "            history = model.fit(X_ttrain, y_ttrain, \n",
    "                                epochs=1000, batch_size=500,  \n",
    "                                verbose=1,callbacks=[es],\n",
    "                                validation_data=(X_val,y_val))\n",
    "            self.estimators.append(model)\n",
    "        print(\"Done\")\n",
    "        \n",
    "    def predict(self,X):\n",
    "        predictions_gbr = []\n",
    "        print(\"predicting\")\n",
    "        for reg in tqdm(self.estimators):\n",
    "            predictions_gbr.append(reg.predict(X))\n",
    "         \n",
    "        total_pred={}\n",
    "        for i in range(len(predictions_gbr)):\n",
    "            total_pred[i]=predictions_gbr[i][:,0]\n",
    "            \n",
    "        total_df=pd.DataFrame(total_pred)\n",
    "\n",
    "        def process_row(row):\n",
    "            v = row.values\n",
    "            dif_mean = np.abs(v-v[2])\n",
    "            mu = v[2]\n",
    "            s = np.mean([dif_mean[0]/2,dif_mean[1],dif_mean[3],dif_mean[4]/2])\n",
    "            mi_norm = stats.norm(mu,s)\n",
    "            quant=[]\n",
    "            for quantile in np.arange(1,100)/100.0 :\n",
    "                quant.append(mi_norm.ppf(quantile))\n",
    "            return pd.Series(quant)\n",
    " \n",
    "        total_df = total_df.apply(process_row,axis=1)\n",
    "        \n",
    "        return total_df.values\n"
   ]
  },
  {
   "cell_type": "code",
   "execution_count": 11,
   "metadata": {},
   "outputs": [],
   "source": [
    "from datetime import datetime, timedelta\n",
    "from sklearn.linear_model import LinearRegression\n",
    "from sklearn.preprocessing import RobustScaler\n",
    "from sklearn.model_selection import KFold"
   ]
  },
  {
   "cell_type": "code",
   "execution_count": 12,
   "metadata": {},
   "outputs": [],
   "source": [
    "horizon = 13\n",
    "\n",
    "df = get_data(\"../2018_2019_data/28079008.csv\")\n",
    "X, y = prepare_data_from_horizon(df,horizon)\n",
    "\n",
    "kf = KFold(5,shuffle=True)\n",
    "train_index, test_index = list(kf.split(X))[1]\n",
    "\n",
    "train_index = X.index.values[train_index]\n",
    "test_index = X.index.values[test_index] \n",
    "        \n",
    "# Filter the test index when prediction time is 10:00\n",
    "ten_index = df[(df[\"DATE\"]-timedelta(hours=horizon)).dt.hour==10].index\n",
    "test_index_10 = test_index[pd.Series(test_index).isin(ten_index)]\n",
    "        \n",
    "# We retrieve the indexes that are related to the test indexes according to our AR model\n",
    "sel = np.concatenate([[1,2,3,4],\n",
    "                            [12],\n",
    "                            24*np.arange(1,9),\n",
    "                            12+24*np.arange(1,9)])  \n",
    "sel=np.concatenate([sel,sel-1,sel+1]) \n",
    "        \n",
    "all_index_related_test = set([])\n",
    "for i in sel:\n",
    "    all_index_related_test |= set(test_index_10+i)\n",
    "        \n",
    "train_index_CV = train_index[pd.Series(train_index).isin(list(all_index_related_test))]\n",
    "        \n",
    "X_train = X.loc[train_index_CV]\n",
    "y_train = y.loc[train_index_CV]\n",
    "        \n",
    "X_test = X.loc[test_index_10]\n",
    "y_test = y.loc[test_index_10]\n",
    "        \n",
    "scaler = RobustScaler()\n",
    "# Fit the scaler on the training features and transform these in one go\n",
    "X_train_std = scaler.fit_transform(X_train)\n",
    "# Scale the test set\n",
    "X_test_std = scaler.transform(X_test)\n",
    "        \n",
    "lin = LinearRegression()\n",
    "lin.fit(X_train_std,y_train)\n",
    "\n",
    "dif_train = y_train-lin.predict(X_train_std)\n",
    "dif_test = y_test-lin.predict(X_test_std)"
   ]
  },
  {
   "cell_type": "code",
   "execution_count": 13,
   "metadata": {},
   "outputs": [],
   "source": [
    "from tqdm.notebook import tqdm"
   ]
  },
  {
   "cell_type": "code",
   "execution_count": 14,
   "metadata": {},
   "outputs": [
    {
     "data": {
      "application/vnd.jupyter.widget-view+json": {
       "model_id": "041da6a5aef24878ab6c892569ac5b7d",
       "version_major": 2,
       "version_minor": 0
      },
      "text/plain": [
       "HBox(children=(HTML(value=''), FloatProgress(value=0.0, max=7.0), HTML(value='')))"
      ]
     },
     "metadata": {},
     "output_type": "display_data"
    },
    {
     "data": {
      "application/vnd.jupyter.widget-view+json": {
       "model_id": "9622edde58664910bad45b26665f00f1",
       "version_major": 2,
       "version_minor": 0
      },
      "text/plain": [
       "HBox(children=(HTML(value=''), FloatProgress(value=0.0, max=6.0), HTML(value='')))"
      ]
     },
     "metadata": {},
     "output_type": "display_data"
    },
    {
     "name": "stdout",
     "output_type": "stream",
     "text": [
      "training !\n"
     ]
    },
    {
     "data": {
      "application/vnd.jupyter.widget-view+json": {
       "model_id": "d0cb51ab850b42489987a10301577402",
       "version_major": 2,
       "version_minor": 0
      },
      "text/plain": [
       "HBox(children=(HTML(value=''), FloatProgress(value=0.0, max=5.0), HTML(value='')))"
      ]
     },
     "metadata": {},
     "output_type": "display_data"
    },
    {
     "name": "stdout",
     "output_type": "stream",
     "text": [
      "Quantile: 0.022750131948179195\n",
      "[LightGBM] [Warning] Unknown parameter: loss\n",
      "Quantile: 0.15865525393145707\n",
      "Quantile: 0.5\n",
      "Quantile: 0.8413447460685429\n",
      "Quantile: 0.9772498680518208\n",
      "\n",
      "Done\n",
      "predicting\n"
     ]
    },
    {
     "data": {
      "application/vnd.jupyter.widget-view+json": {
       "model_id": "c056429ffa7c458c89be000be9151c5c",
       "version_major": 2,
       "version_minor": 0
      },
      "text/plain": [
       "HBox(children=(HTML(value=''), FloatProgress(value=0.0, max=5.0), HTML(value='')))"
      ]
     },
     "metadata": {},
     "output_type": "display_data"
    },
    {
     "name": "stdout",
     "output_type": "stream",
     "text": [
      "\n",
      "training !\n"
     ]
    },
    {
     "data": {
      "application/vnd.jupyter.widget-view+json": {
       "model_id": "0c11e3073310479fa2a6324afe5042dc",
       "version_major": 2,
       "version_minor": 0
      },
      "text/plain": [
       "HBox(children=(HTML(value=''), FloatProgress(value=0.0, max=5.0), HTML(value='')))"
      ]
     },
     "metadata": {},
     "output_type": "display_data"
    },
    {
     "name": "stdout",
     "output_type": "stream",
     "text": [
      "Quantile: 0.022750131948179195\n",
      "[LightGBM] [Warning] Unknown parameter: loss\n",
      "[LightGBM] [Warning] Accuracy may be bad since you didn't explicitly set num_leaves OR 2^max_depth > num_leaves. (num_leaves=31).\n",
      "Quantile: 0.15865525393145707\n",
      "Quantile: 0.5\n",
      "Quantile: 0.8413447460685429\n",
      "Quantile: 0.9772498680518208\n",
      "\n",
      "Done\n",
      "predicting\n"
     ]
    },
    {
     "data": {
      "application/vnd.jupyter.widget-view+json": {
       "model_id": "21043e9873fc4121805dbb4285570cce",
       "version_major": 2,
       "version_minor": 0
      },
      "text/plain": [
       "HBox(children=(HTML(value=''), FloatProgress(value=0.0, max=5.0), HTML(value='')))"
      ]
     },
     "metadata": {},
     "output_type": "display_data"
    },
    {
     "name": "stdout",
     "output_type": "stream",
     "text": [
      "\n",
      "training !\n"
     ]
    },
    {
     "data": {
      "application/vnd.jupyter.widget-view+json": {
       "model_id": "f6eb925a61dd4ef99c6f689da77956d8",
       "version_major": 2,
       "version_minor": 0
      },
      "text/plain": [
       "HBox(children=(HTML(value=''), FloatProgress(value=0.0, max=5.0), HTML(value='')))"
      ]
     },
     "metadata": {},
     "output_type": "display_data"
    },
    {
     "name": "stdout",
     "output_type": "stream",
     "text": [
      "Quantile: 0.022750131948179195\n",
      "[LightGBM] [Warning] Unknown parameter: loss\n",
      "[LightGBM] [Warning] Accuracy may be bad since you didn't explicitly set num_leaves OR 2^max_depth > num_leaves. (num_leaves=31).\n",
      "Quantile: 0.15865525393145707\n",
      "Quantile: 0.5\n",
      "Quantile: 0.8413447460685429\n",
      "Quantile: 0.9772498680518208\n",
      "\n",
      "Done\n",
      "predicting\n"
     ]
    },
    {
     "data": {
      "application/vnd.jupyter.widget-view+json": {
       "model_id": "c52904f210b844958667bb4b242916fd",
       "version_major": 2,
       "version_minor": 0
      },
      "text/plain": [
       "HBox(children=(HTML(value=''), FloatProgress(value=0.0, max=5.0), HTML(value='')))"
      ]
     },
     "metadata": {},
     "output_type": "display_data"
    },
    {
     "name": "stdout",
     "output_type": "stream",
     "text": [
      "\n",
      "training !\n"
     ]
    },
    {
     "data": {
      "application/vnd.jupyter.widget-view+json": {
       "model_id": "8d4248d719884dbab8aa267720059f0d",
       "version_major": 2,
       "version_minor": 0
      },
      "text/plain": [
       "HBox(children=(HTML(value=''), FloatProgress(value=0.0, max=5.0), HTML(value='')))"
      ]
     },
     "metadata": {},
     "output_type": "display_data"
    },
    {
     "name": "stdout",
     "output_type": "stream",
     "text": [
      "Quantile: 0.022750131948179195\n",
      "[LightGBM] [Warning] Unknown parameter: loss\n",
      "[LightGBM] [Warning] Accuracy may be bad since you didn't explicitly set num_leaves OR 2^max_depth > num_leaves. (num_leaves=31).\n",
      "Quantile: 0.15865525393145707\n",
      "Quantile: 0.5\n",
      "Quantile: 0.8413447460685429\n",
      "Quantile: 0.9772498680518208\n",
      "\n",
      "Done\n",
      "predicting\n"
     ]
    },
    {
     "data": {
      "application/vnd.jupyter.widget-view+json": {
       "model_id": "913a5712c48040bbbbcd07a20313cc36",
       "version_major": 2,
       "version_minor": 0
      },
      "text/plain": [
       "HBox(children=(HTML(value=''), FloatProgress(value=0.0, max=5.0), HTML(value='')))"
      ]
     },
     "metadata": {},
     "output_type": "display_data"
    },
    {
     "name": "stdout",
     "output_type": "stream",
     "text": [
      "\n",
      "training !\n"
     ]
    },
    {
     "data": {
      "application/vnd.jupyter.widget-view+json": {
       "model_id": "da08757355f84ab6a2b6321456225538",
       "version_major": 2,
       "version_minor": 0
      },
      "text/plain": [
       "HBox(children=(HTML(value=''), FloatProgress(value=0.0, max=5.0), HTML(value='')))"
      ]
     },
     "metadata": {},
     "output_type": "display_data"
    },
    {
     "name": "stdout",
     "output_type": "stream",
     "text": [
      "Quantile: 0.022750131948179195\n",
      "[LightGBM] [Warning] Unknown parameter: loss\n",
      "[LightGBM] [Warning] Accuracy may be bad since you didn't explicitly set num_leaves OR 2^max_depth > num_leaves. (num_leaves=31).\n",
      "Quantile: 0.15865525393145707\n",
      "Quantile: 0.5\n",
      "Quantile: 0.8413447460685429\n",
      "Quantile: 0.9772498680518208\n",
      "\n",
      "Done\n",
      "predicting\n"
     ]
    },
    {
     "data": {
      "application/vnd.jupyter.widget-view+json": {
       "model_id": "4bd2995cb0a345219e8c6db88892bd4f",
       "version_major": 2,
       "version_minor": 0
      },
      "text/plain": [
       "HBox(children=(HTML(value=''), FloatProgress(value=0.0, max=5.0), HTML(value='')))"
      ]
     },
     "metadata": {},
     "output_type": "display_data"
    },
    {
     "name": "stdout",
     "output_type": "stream",
     "text": [
      "\n",
      "training !\n"
     ]
    },
    {
     "data": {
      "application/vnd.jupyter.widget-view+json": {
       "model_id": "2feebe892abf48e5ae43233a7ac2d62f",
       "version_major": 2,
       "version_minor": 0
      },
      "text/plain": [
       "HBox(children=(HTML(value=''), FloatProgress(value=0.0, max=5.0), HTML(value='')))"
      ]
     },
     "metadata": {},
     "output_type": "display_data"
    },
    {
     "name": "stdout",
     "output_type": "stream",
     "text": [
      "Quantile: 0.022750131948179195\n",
      "[LightGBM] [Warning] Unknown parameter: loss\n",
      "[LightGBM] [Warning] Accuracy may be bad since you didn't explicitly set num_leaves OR 2^max_depth > num_leaves. (num_leaves=31).\n",
      "Quantile: 0.15865525393145707\n",
      "Quantile: 0.5\n",
      "Quantile: 0.8413447460685429\n",
      "Quantile: 0.9772498680518208\n",
      "\n",
      "Done\n",
      "predicting\n"
     ]
    },
    {
     "data": {
      "application/vnd.jupyter.widget-view+json": {
       "model_id": "a33043ff12b24178afc0a23089aebb53",
       "version_major": 2,
       "version_minor": 0
      },
      "text/plain": [
       "HBox(children=(HTML(value=''), FloatProgress(value=0.0, max=5.0), HTML(value='')))"
      ]
     },
     "metadata": {},
     "output_type": "display_data"
    },
    {
     "name": "stdout",
     "output_type": "stream",
     "text": [
      "\n",
      "\n"
     ]
    },
    {
     "data": {
      "application/vnd.jupyter.widget-view+json": {
       "model_id": "8a29a6d285824f36875a94d2b5c1ed3b",
       "version_major": 2,
       "version_minor": 0
      },
      "text/plain": [
       "HBox(children=(HTML(value=''), FloatProgress(value=0.0, max=6.0), HTML(value='')))"
      ]
     },
     "metadata": {},
     "output_type": "display_data"
    },
    {
     "name": "stdout",
     "output_type": "stream",
     "text": [
      "training !\n"
     ]
    },
    {
     "data": {
      "application/vnd.jupyter.widget-view+json": {
       "model_id": "4e4bdd680f3c47c9b14e49178aa693f6",
       "version_major": 2,
       "version_minor": 0
      },
      "text/plain": [
       "HBox(children=(HTML(value=''), FloatProgress(value=0.0, max=5.0), HTML(value='')))"
      ]
     },
     "metadata": {},
     "output_type": "display_data"
    },
    {
     "name": "stdout",
     "output_type": "stream",
     "text": [
      "Quantile: 0.022750131948179195\n",
      "[LightGBM] [Warning] Unknown parameter: loss\n",
      "Quantile: 0.15865525393145707\n",
      "Quantile: 0.5\n",
      "Quantile: 0.8413447460685429\n",
      "Quantile: 0.9772498680518208\n",
      "\n",
      "Done\n",
      "predicting\n"
     ]
    },
    {
     "data": {
      "application/vnd.jupyter.widget-view+json": {
       "model_id": "27b5ec336c864b909023e98a24a07611",
       "version_major": 2,
       "version_minor": 0
      },
      "text/plain": [
       "HBox(children=(HTML(value=''), FloatProgress(value=0.0, max=5.0), HTML(value='')))"
      ]
     },
     "metadata": {},
     "output_type": "display_data"
    },
    {
     "name": "stdout",
     "output_type": "stream",
     "text": [
      "\n",
      "training !\n"
     ]
    },
    {
     "data": {
      "application/vnd.jupyter.widget-view+json": {
       "model_id": "b6c50b22153d410eabfd9b1eedbd6128",
       "version_major": 2,
       "version_minor": 0
      },
      "text/plain": [
       "HBox(children=(HTML(value=''), FloatProgress(value=0.0, max=5.0), HTML(value='')))"
      ]
     },
     "metadata": {},
     "output_type": "display_data"
    },
    {
     "name": "stdout",
     "output_type": "stream",
     "text": [
      "Quantile: 0.022750131948179195\n",
      "[LightGBM] [Warning] Unknown parameter: loss\n",
      "[LightGBM] [Warning] Accuracy may be bad since you didn't explicitly set num_leaves OR 2^max_depth > num_leaves. (num_leaves=31).\n",
      "Quantile: 0.15865525393145707\n",
      "Quantile: 0.5\n",
      "Quantile: 0.8413447460685429\n",
      "Quantile: 0.9772498680518208\n",
      "\n",
      "Done\n",
      "predicting\n"
     ]
    },
    {
     "data": {
      "application/vnd.jupyter.widget-view+json": {
       "model_id": "7b52d895204b4a138a870db3bfe3449e",
       "version_major": 2,
       "version_minor": 0
      },
      "text/plain": [
       "HBox(children=(HTML(value=''), FloatProgress(value=0.0, max=5.0), HTML(value='')))"
      ]
     },
     "metadata": {},
     "output_type": "display_data"
    },
    {
     "name": "stdout",
     "output_type": "stream",
     "text": [
      "\n",
      "training !\n"
     ]
    },
    {
     "data": {
      "application/vnd.jupyter.widget-view+json": {
       "model_id": "3ad9169bf7be458f8ca57d380f986bde",
       "version_major": 2,
       "version_minor": 0
      },
      "text/plain": [
       "HBox(children=(HTML(value=''), FloatProgress(value=0.0, max=5.0), HTML(value='')))"
      ]
     },
     "metadata": {},
     "output_type": "display_data"
    },
    {
     "name": "stdout",
     "output_type": "stream",
     "text": [
      "Quantile: 0.022750131948179195\n",
      "[LightGBM] [Warning] Unknown parameter: loss\n",
      "[LightGBM] [Warning] Accuracy may be bad since you didn't explicitly set num_leaves OR 2^max_depth > num_leaves. (num_leaves=31).\n",
      "Quantile: 0.15865525393145707\n",
      "Quantile: 0.5\n",
      "Quantile: 0.8413447460685429\n",
      "Quantile: 0.9772498680518208\n",
      "\n",
      "Done\n",
      "predicting\n"
     ]
    },
    {
     "data": {
      "application/vnd.jupyter.widget-view+json": {
       "model_id": "886e233406e1446c8cd45c8f516711e2",
       "version_major": 2,
       "version_minor": 0
      },
      "text/plain": [
       "HBox(children=(HTML(value=''), FloatProgress(value=0.0, max=5.0), HTML(value='')))"
      ]
     },
     "metadata": {},
     "output_type": "display_data"
    },
    {
     "name": "stdout",
     "output_type": "stream",
     "text": [
      "\n",
      "training !\n"
     ]
    },
    {
     "data": {
      "application/vnd.jupyter.widget-view+json": {
       "model_id": "b0898951acf34c5eac0fea32d064d32f",
       "version_major": 2,
       "version_minor": 0
      },
      "text/plain": [
       "HBox(children=(HTML(value=''), FloatProgress(value=0.0, max=5.0), HTML(value='')))"
      ]
     },
     "metadata": {},
     "output_type": "display_data"
    },
    {
     "name": "stdout",
     "output_type": "stream",
     "text": [
      "Quantile: 0.022750131948179195\n",
      "[LightGBM] [Warning] Unknown parameter: loss\n",
      "[LightGBM] [Warning] Accuracy may be bad since you didn't explicitly set num_leaves OR 2^max_depth > num_leaves. (num_leaves=31).\n",
      "Quantile: 0.15865525393145707\n",
      "Quantile: 0.5\n",
      "Quantile: 0.8413447460685429\n",
      "Quantile: 0.9772498680518208\n",
      "\n",
      "Done\n",
      "predicting\n"
     ]
    },
    {
     "data": {
      "application/vnd.jupyter.widget-view+json": {
       "model_id": "5b9bb4cfe00c407785b1333f23d7e782",
       "version_major": 2,
       "version_minor": 0
      },
      "text/plain": [
       "HBox(children=(HTML(value=''), FloatProgress(value=0.0, max=5.0), HTML(value='')))"
      ]
     },
     "metadata": {},
     "output_type": "display_data"
    },
    {
     "name": "stdout",
     "output_type": "stream",
     "text": [
      "\n",
      "training !\n"
     ]
    },
    {
     "data": {
      "application/vnd.jupyter.widget-view+json": {
       "model_id": "3e2155bf1aaa413093e2656302cef3eb",
       "version_major": 2,
       "version_minor": 0
      },
      "text/plain": [
       "HBox(children=(HTML(value=''), FloatProgress(value=0.0, max=5.0), HTML(value='')))"
      ]
     },
     "metadata": {},
     "output_type": "display_data"
    },
    {
     "name": "stdout",
     "output_type": "stream",
     "text": [
      "Quantile: 0.022750131948179195\n",
      "[LightGBM] [Warning] Unknown parameter: loss\n",
      "[LightGBM] [Warning] Accuracy may be bad since you didn't explicitly set num_leaves OR 2^max_depth > num_leaves. (num_leaves=31).\n",
      "Quantile: 0.15865525393145707\n",
      "Quantile: 0.5\n",
      "Quantile: 0.8413447460685429\n",
      "Quantile: 0.9772498680518208\n",
      "\n",
      "Done\n",
      "predicting\n"
     ]
    },
    {
     "data": {
      "application/vnd.jupyter.widget-view+json": {
       "model_id": "c89b637c61974c32ba8c668ace046cc0",
       "version_major": 2,
       "version_minor": 0
      },
      "text/plain": [
       "HBox(children=(HTML(value=''), FloatProgress(value=0.0, max=5.0), HTML(value='')))"
      ]
     },
     "metadata": {},
     "output_type": "display_data"
    },
    {
     "name": "stdout",
     "output_type": "stream",
     "text": [
      "\n",
      "training !\n"
     ]
    },
    {
     "data": {
      "application/vnd.jupyter.widget-view+json": {
       "model_id": "43c2624cba7842188f890617438f9460",
       "version_major": 2,
       "version_minor": 0
      },
      "text/plain": [
       "HBox(children=(HTML(value=''), FloatProgress(value=0.0, max=5.0), HTML(value='')))"
      ]
     },
     "metadata": {},
     "output_type": "display_data"
    },
    {
     "name": "stdout",
     "output_type": "stream",
     "text": [
      "Quantile: 0.022750131948179195\n",
      "[LightGBM] [Warning] Unknown parameter: loss\n",
      "[LightGBM] [Warning] Accuracy may be bad since you didn't explicitly set num_leaves OR 2^max_depth > num_leaves. (num_leaves=31).\n",
      "Quantile: 0.15865525393145707\n",
      "Quantile: 0.5\n",
      "Quantile: 0.8413447460685429\n",
      "Quantile: 0.9772498680518208\n",
      "\n",
      "Done\n",
      "predicting\n"
     ]
    },
    {
     "data": {
      "application/vnd.jupyter.widget-view+json": {
       "model_id": "cdc45be976a44e09950fb83ec7cb3ae1",
       "version_major": 2,
       "version_minor": 0
      },
      "text/plain": [
       "HBox(children=(HTML(value=''), FloatProgress(value=0.0, max=5.0), HTML(value='')))"
      ]
     },
     "metadata": {},
     "output_type": "display_data"
    },
    {
     "name": "stdout",
     "output_type": "stream",
     "text": [
      "\n",
      "\n"
     ]
    },
    {
     "data": {
      "application/vnd.jupyter.widget-view+json": {
       "model_id": "16872e0ebab64696880a6e6c8cabf997",
       "version_major": 2,
       "version_minor": 0
      },
      "text/plain": [
       "HBox(children=(HTML(value=''), FloatProgress(value=0.0, max=6.0), HTML(value='')))"
      ]
     },
     "metadata": {},
     "output_type": "display_data"
    },
    {
     "name": "stdout",
     "output_type": "stream",
     "text": [
      "training !\n"
     ]
    },
    {
     "data": {
      "application/vnd.jupyter.widget-view+json": {
       "model_id": "9913ce61f6074a278223194cc189c79e",
       "version_major": 2,
       "version_minor": 0
      },
      "text/plain": [
       "HBox(children=(HTML(value=''), FloatProgress(value=0.0, max=5.0), HTML(value='')))"
      ]
     },
     "metadata": {},
     "output_type": "display_data"
    },
    {
     "name": "stdout",
     "output_type": "stream",
     "text": [
      "Quantile: 0.022750131948179195\n",
      "[LightGBM] [Warning] Unknown parameter: loss\n",
      "Quantile: 0.15865525393145707\n",
      "Quantile: 0.5\n",
      "Quantile: 0.8413447460685429\n",
      "Quantile: 0.9772498680518208\n",
      "\n",
      "Done\n",
      "predicting\n"
     ]
    },
    {
     "data": {
      "application/vnd.jupyter.widget-view+json": {
       "model_id": "0bd196b65d934b838a30e61653766728",
       "version_major": 2,
       "version_minor": 0
      },
      "text/plain": [
       "HBox(children=(HTML(value=''), FloatProgress(value=0.0, max=5.0), HTML(value='')))"
      ]
     },
     "metadata": {},
     "output_type": "display_data"
    },
    {
     "name": "stdout",
     "output_type": "stream",
     "text": [
      "\n",
      "training !\n"
     ]
    },
    {
     "data": {
      "application/vnd.jupyter.widget-view+json": {
       "model_id": "8d1d8403809c47158319992dd6fb6344",
       "version_major": 2,
       "version_minor": 0
      },
      "text/plain": [
       "HBox(children=(HTML(value=''), FloatProgress(value=0.0, max=5.0), HTML(value='')))"
      ]
     },
     "metadata": {},
     "output_type": "display_data"
    },
    {
     "name": "stdout",
     "output_type": "stream",
     "text": [
      "Quantile: 0.022750131948179195\n",
      "[LightGBM] [Warning] Unknown parameter: loss\n",
      "[LightGBM] [Warning] Accuracy may be bad since you didn't explicitly set num_leaves OR 2^max_depth > num_leaves. (num_leaves=31).\n",
      "Quantile: 0.15865525393145707\n",
      "Quantile: 0.5\n",
      "Quantile: 0.8413447460685429\n",
      "Quantile: 0.9772498680518208\n",
      "\n",
      "Done\n",
      "predicting\n"
     ]
    },
    {
     "data": {
      "application/vnd.jupyter.widget-view+json": {
       "model_id": "ff96cae7ac9c482786eca8e49ef79e91",
       "version_major": 2,
       "version_minor": 0
      },
      "text/plain": [
       "HBox(children=(HTML(value=''), FloatProgress(value=0.0, max=5.0), HTML(value='')))"
      ]
     },
     "metadata": {},
     "output_type": "display_data"
    },
    {
     "name": "stdout",
     "output_type": "stream",
     "text": [
      "\n",
      "training !\n"
     ]
    },
    {
     "data": {
      "application/vnd.jupyter.widget-view+json": {
       "model_id": "ed7e67daa64f49a0aa012bce9a130452",
       "version_major": 2,
       "version_minor": 0
      },
      "text/plain": [
       "HBox(children=(HTML(value=''), FloatProgress(value=0.0, max=5.0), HTML(value='')))"
      ]
     },
     "metadata": {},
     "output_type": "display_data"
    },
    {
     "name": "stdout",
     "output_type": "stream",
     "text": [
      "Quantile: 0.022750131948179195\n",
      "[LightGBM] [Warning] Unknown parameter: loss\n",
      "[LightGBM] [Warning] Accuracy may be bad since you didn't explicitly set num_leaves OR 2^max_depth > num_leaves. (num_leaves=31).\n",
      "Quantile: 0.15865525393145707\n",
      "Quantile: 0.5\n",
      "Quantile: 0.8413447460685429\n",
      "Quantile: 0.9772498680518208\n",
      "\n",
      "Done\n",
      "predicting\n"
     ]
    },
    {
     "data": {
      "application/vnd.jupyter.widget-view+json": {
       "model_id": "dec0d9f5e924433db77a96fc6a245542",
       "version_major": 2,
       "version_minor": 0
      },
      "text/plain": [
       "HBox(children=(HTML(value=''), FloatProgress(value=0.0, max=5.0), HTML(value='')))"
      ]
     },
     "metadata": {},
     "output_type": "display_data"
    },
    {
     "name": "stdout",
     "output_type": "stream",
     "text": [
      "\n",
      "training !\n"
     ]
    },
    {
     "data": {
      "application/vnd.jupyter.widget-view+json": {
       "model_id": "992949c5df4246b49e253c6c948be7b2",
       "version_major": 2,
       "version_minor": 0
      },
      "text/plain": [
       "HBox(children=(HTML(value=''), FloatProgress(value=0.0, max=5.0), HTML(value='')))"
      ]
     },
     "metadata": {},
     "output_type": "display_data"
    },
    {
     "name": "stdout",
     "output_type": "stream",
     "text": [
      "Quantile: 0.022750131948179195\n",
      "[LightGBM] [Warning] Unknown parameter: loss\n",
      "[LightGBM] [Warning] Accuracy may be bad since you didn't explicitly set num_leaves OR 2^max_depth > num_leaves. (num_leaves=31).\n",
      "Quantile: 0.15865525393145707\n",
      "Quantile: 0.5\n",
      "Quantile: 0.8413447460685429\n",
      "Quantile: 0.9772498680518208\n",
      "\n",
      "Done\n",
      "predicting\n"
     ]
    },
    {
     "data": {
      "application/vnd.jupyter.widget-view+json": {
       "model_id": "6a24c6567e7b4b70bc9707ac85285518",
       "version_major": 2,
       "version_minor": 0
      },
      "text/plain": [
       "HBox(children=(HTML(value=''), FloatProgress(value=0.0, max=5.0), HTML(value='')))"
      ]
     },
     "metadata": {},
     "output_type": "display_data"
    },
    {
     "name": "stdout",
     "output_type": "stream",
     "text": [
      "\n",
      "training !\n"
     ]
    },
    {
     "data": {
      "application/vnd.jupyter.widget-view+json": {
       "model_id": "0bf584bd06ea4e31adcfe0370ecd9cc3",
       "version_major": 2,
       "version_minor": 0
      },
      "text/plain": [
       "HBox(children=(HTML(value=''), FloatProgress(value=0.0, max=5.0), HTML(value='')))"
      ]
     },
     "metadata": {},
     "output_type": "display_data"
    },
    {
     "name": "stdout",
     "output_type": "stream",
     "text": [
      "Quantile: 0.022750131948179195\n",
      "[LightGBM] [Warning] Unknown parameter: loss\n",
      "[LightGBM] [Warning] Accuracy may be bad since you didn't explicitly set num_leaves OR 2^max_depth > num_leaves. (num_leaves=31).\n",
      "Quantile: 0.15865525393145707\n",
      "Quantile: 0.5\n",
      "Quantile: 0.8413447460685429\n",
      "Quantile: 0.9772498680518208\n",
      "\n",
      "Done\n",
      "predicting\n"
     ]
    },
    {
     "data": {
      "application/vnd.jupyter.widget-view+json": {
       "model_id": "8882cb31b09046bb85dd25e9d33aa0d1",
       "version_major": 2,
       "version_minor": 0
      },
      "text/plain": [
       "HBox(children=(HTML(value=''), FloatProgress(value=0.0, max=5.0), HTML(value='')))"
      ]
     },
     "metadata": {},
     "output_type": "display_data"
    },
    {
     "name": "stdout",
     "output_type": "stream",
     "text": [
      "\n",
      "training !\n"
     ]
    },
    {
     "data": {
      "application/vnd.jupyter.widget-view+json": {
       "model_id": "48832747a501416ea79409efa86556ec",
       "version_major": 2,
       "version_minor": 0
      },
      "text/plain": [
       "HBox(children=(HTML(value=''), FloatProgress(value=0.0, max=5.0), HTML(value='')))"
      ]
     },
     "metadata": {},
     "output_type": "display_data"
    },
    {
     "name": "stdout",
     "output_type": "stream",
     "text": [
      "Quantile: 0.022750131948179195\n",
      "[LightGBM] [Warning] Unknown parameter: loss\n",
      "[LightGBM] [Warning] Accuracy may be bad since you didn't explicitly set num_leaves OR 2^max_depth > num_leaves. (num_leaves=31).\n",
      "Quantile: 0.15865525393145707\n",
      "Quantile: 0.5\n",
      "Quantile: 0.8413447460685429\n",
      "Quantile: 0.9772498680518208\n",
      "\n",
      "Done\n",
      "predicting\n"
     ]
    },
    {
     "data": {
      "application/vnd.jupyter.widget-view+json": {
       "model_id": "e88b1fecb59c4a51bd91645b952d514b",
       "version_major": 2,
       "version_minor": 0
      },
      "text/plain": [
       "HBox(children=(HTML(value=''), FloatProgress(value=0.0, max=5.0), HTML(value='')))"
      ]
     },
     "metadata": {},
     "output_type": "display_data"
    },
    {
     "name": "stdout",
     "output_type": "stream",
     "text": [
      "\n",
      "\n"
     ]
    },
    {
     "data": {
      "application/vnd.jupyter.widget-view+json": {
       "model_id": "4fa6e6487eae45279d3463d2e5160670",
       "version_major": 2,
       "version_minor": 0
      },
      "text/plain": [
       "HBox(children=(HTML(value=''), FloatProgress(value=0.0, max=6.0), HTML(value='')))"
      ]
     },
     "metadata": {},
     "output_type": "display_data"
    },
    {
     "name": "stdout",
     "output_type": "stream",
     "text": [
      "training !\n"
     ]
    },
    {
     "data": {
      "application/vnd.jupyter.widget-view+json": {
       "model_id": "a9ccc15c85ad4fbda7f4587ae8d48958",
       "version_major": 2,
       "version_minor": 0
      },
      "text/plain": [
       "HBox(children=(HTML(value=''), FloatProgress(value=0.0, max=5.0), HTML(value='')))"
      ]
     },
     "metadata": {},
     "output_type": "display_data"
    },
    {
     "name": "stdout",
     "output_type": "stream",
     "text": [
      "Quantile: 0.022750131948179195\n",
      "[LightGBM] [Warning] Unknown parameter: loss\n",
      "Quantile: 0.15865525393145707\n",
      "Quantile: 0.5\n",
      "Quantile: 0.8413447460685429\n",
      "Quantile: 0.9772498680518208\n",
      "\n",
      "Done\n",
      "predicting\n"
     ]
    },
    {
     "data": {
      "application/vnd.jupyter.widget-view+json": {
       "model_id": "748e77f1bdc9401d901e25efe3a697b2",
       "version_major": 2,
       "version_minor": 0
      },
      "text/plain": [
       "HBox(children=(HTML(value=''), FloatProgress(value=0.0, max=5.0), HTML(value='')))"
      ]
     },
     "metadata": {},
     "output_type": "display_data"
    },
    {
     "name": "stdout",
     "output_type": "stream",
     "text": [
      "\n",
      "training !\n"
     ]
    },
    {
     "data": {
      "application/vnd.jupyter.widget-view+json": {
       "model_id": "6d36922a64d848708e6838af7f7092f3",
       "version_major": 2,
       "version_minor": 0
      },
      "text/plain": [
       "HBox(children=(HTML(value=''), FloatProgress(value=0.0, max=5.0), HTML(value='')))"
      ]
     },
     "metadata": {},
     "output_type": "display_data"
    },
    {
     "name": "stdout",
     "output_type": "stream",
     "text": [
      "Quantile: 0.022750131948179195\n",
      "[LightGBM] [Warning] Unknown parameter: loss\n",
      "[LightGBM] [Warning] Accuracy may be bad since you didn't explicitly set num_leaves OR 2^max_depth > num_leaves. (num_leaves=31).\n",
      "Quantile: 0.15865525393145707\n",
      "Quantile: 0.5\n",
      "Quantile: 0.8413447460685429\n",
      "Quantile: 0.9772498680518208\n",
      "\n",
      "Done\n",
      "predicting\n"
     ]
    },
    {
     "data": {
      "application/vnd.jupyter.widget-view+json": {
       "model_id": "8a81465b6fc84080a34aa2e0a09b7d42",
       "version_major": 2,
       "version_minor": 0
      },
      "text/plain": [
       "HBox(children=(HTML(value=''), FloatProgress(value=0.0, max=5.0), HTML(value='')))"
      ]
     },
     "metadata": {},
     "output_type": "display_data"
    },
    {
     "name": "stdout",
     "output_type": "stream",
     "text": [
      "\n",
      "training !\n"
     ]
    },
    {
     "data": {
      "application/vnd.jupyter.widget-view+json": {
       "model_id": "bce0204e31614369a270e4e749d42709",
       "version_major": 2,
       "version_minor": 0
      },
      "text/plain": [
       "HBox(children=(HTML(value=''), FloatProgress(value=0.0, max=5.0), HTML(value='')))"
      ]
     },
     "metadata": {},
     "output_type": "display_data"
    },
    {
     "name": "stdout",
     "output_type": "stream",
     "text": [
      "Quantile: 0.022750131948179195\n",
      "[LightGBM] [Warning] Unknown parameter: loss\n",
      "[LightGBM] [Warning] Accuracy may be bad since you didn't explicitly set num_leaves OR 2^max_depth > num_leaves. (num_leaves=31).\n",
      "Quantile: 0.15865525393145707\n",
      "Quantile: 0.5\n",
      "Quantile: 0.8413447460685429\n",
      "Quantile: 0.9772498680518208\n",
      "\n",
      "Done\n",
      "predicting\n"
     ]
    },
    {
     "data": {
      "application/vnd.jupyter.widget-view+json": {
       "model_id": "a81b7438c12b477eb1b796f74059d8e2",
       "version_major": 2,
       "version_minor": 0
      },
      "text/plain": [
       "HBox(children=(HTML(value=''), FloatProgress(value=0.0, max=5.0), HTML(value='')))"
      ]
     },
     "metadata": {},
     "output_type": "display_data"
    },
    {
     "name": "stdout",
     "output_type": "stream",
     "text": [
      "\n",
      "training !\n"
     ]
    },
    {
     "data": {
      "application/vnd.jupyter.widget-view+json": {
       "model_id": "2446f757fa7843f79aa8d699c11010ad",
       "version_major": 2,
       "version_minor": 0
      },
      "text/plain": [
       "HBox(children=(HTML(value=''), FloatProgress(value=0.0, max=5.0), HTML(value='')))"
      ]
     },
     "metadata": {},
     "output_type": "display_data"
    },
    {
     "name": "stdout",
     "output_type": "stream",
     "text": [
      "Quantile: 0.022750131948179195\n",
      "[LightGBM] [Warning] Unknown parameter: loss\n",
      "[LightGBM] [Warning] Accuracy may be bad since you didn't explicitly set num_leaves OR 2^max_depth > num_leaves. (num_leaves=31).\n",
      "Quantile: 0.15865525393145707\n",
      "Quantile: 0.5\n",
      "Quantile: 0.8413447460685429\n",
      "Quantile: 0.9772498680518208\n",
      "\n",
      "Done\n",
      "predicting\n"
     ]
    },
    {
     "data": {
      "application/vnd.jupyter.widget-view+json": {
       "model_id": "4cbdb9c47ca94e959b8e4e3e4083d527",
       "version_major": 2,
       "version_minor": 0
      },
      "text/plain": [
       "HBox(children=(HTML(value=''), FloatProgress(value=0.0, max=5.0), HTML(value='')))"
      ]
     },
     "metadata": {},
     "output_type": "display_data"
    },
    {
     "name": "stdout",
     "output_type": "stream",
     "text": [
      "\n",
      "training !\n"
     ]
    },
    {
     "data": {
      "application/vnd.jupyter.widget-view+json": {
       "model_id": "a233b492352b4a49a7784b6f3b67b04a",
       "version_major": 2,
       "version_minor": 0
      },
      "text/plain": [
       "HBox(children=(HTML(value=''), FloatProgress(value=0.0, max=5.0), HTML(value='')))"
      ]
     },
     "metadata": {},
     "output_type": "display_data"
    },
    {
     "name": "stdout",
     "output_type": "stream",
     "text": [
      "Quantile: 0.022750131948179195\n",
      "[LightGBM] [Warning] Unknown parameter: loss\n",
      "[LightGBM] [Warning] Accuracy may be bad since you didn't explicitly set num_leaves OR 2^max_depth > num_leaves. (num_leaves=31).\n",
      "Quantile: 0.15865525393145707\n",
      "Quantile: 0.5\n",
      "Quantile: 0.8413447460685429\n",
      "Quantile: 0.9772498680518208\n",
      "\n",
      "Done\n",
      "predicting\n"
     ]
    },
    {
     "data": {
      "application/vnd.jupyter.widget-view+json": {
       "model_id": "7bd14c1eeac14c94ae157782ebc11c23",
       "version_major": 2,
       "version_minor": 0
      },
      "text/plain": [
       "HBox(children=(HTML(value=''), FloatProgress(value=0.0, max=5.0), HTML(value='')))"
      ]
     },
     "metadata": {},
     "output_type": "display_data"
    },
    {
     "name": "stdout",
     "output_type": "stream",
     "text": [
      "\n",
      "training !\n"
     ]
    },
    {
     "data": {
      "application/vnd.jupyter.widget-view+json": {
       "model_id": "755b36dd2c9d43798c36bc66f20c7cab",
       "version_major": 2,
       "version_minor": 0
      },
      "text/plain": [
       "HBox(children=(HTML(value=''), FloatProgress(value=0.0, max=5.0), HTML(value='')))"
      ]
     },
     "metadata": {},
     "output_type": "display_data"
    },
    {
     "name": "stdout",
     "output_type": "stream",
     "text": [
      "Quantile: 0.022750131948179195\n",
      "[LightGBM] [Warning] Unknown parameter: loss\n",
      "[LightGBM] [Warning] Accuracy may be bad since you didn't explicitly set num_leaves OR 2^max_depth > num_leaves. (num_leaves=31).\n",
      "Quantile: 0.15865525393145707\n",
      "Quantile: 0.5\n",
      "Quantile: 0.8413447460685429\n",
      "Quantile: 0.9772498680518208\n",
      "\n",
      "Done\n",
      "predicting\n"
     ]
    },
    {
     "data": {
      "application/vnd.jupyter.widget-view+json": {
       "model_id": "91073115a5b1493aa384834d54e72412",
       "version_major": 2,
       "version_minor": 0
      },
      "text/plain": [
       "HBox(children=(HTML(value=''), FloatProgress(value=0.0, max=5.0), HTML(value='')))"
      ]
     },
     "metadata": {},
     "output_type": "display_data"
    },
    {
     "name": "stdout",
     "output_type": "stream",
     "text": [
      "\n",
      "\n"
     ]
    },
    {
     "data": {
      "application/vnd.jupyter.widget-view+json": {
       "model_id": "5e55e58a12394f9eaeaa0ed2cc821dad",
       "version_major": 2,
       "version_minor": 0
      },
      "text/plain": [
       "HBox(children=(HTML(value=''), FloatProgress(value=0.0, max=6.0), HTML(value='')))"
      ]
     },
     "metadata": {},
     "output_type": "display_data"
    },
    {
     "name": "stdout",
     "output_type": "stream",
     "text": [
      "training !\n"
     ]
    },
    {
     "data": {
      "application/vnd.jupyter.widget-view+json": {
       "model_id": "e717889b2ff24d6fa1beb6414a6d6323",
       "version_major": 2,
       "version_minor": 0
      },
      "text/plain": [
       "HBox(children=(HTML(value=''), FloatProgress(value=0.0, max=5.0), HTML(value='')))"
      ]
     },
     "metadata": {},
     "output_type": "display_data"
    },
    {
     "name": "stdout",
     "output_type": "stream",
     "text": [
      "Quantile: 0.022750131948179195\n",
      "[LightGBM] [Warning] Unknown parameter: loss\n",
      "Quantile: 0.15865525393145707\n",
      "Quantile: 0.5\n",
      "Quantile: 0.8413447460685429\n",
      "Quantile: 0.9772498680518208\n",
      "\n",
      "Done\n",
      "predicting\n"
     ]
    },
    {
     "data": {
      "application/vnd.jupyter.widget-view+json": {
       "model_id": "ce7f735f36f844b3a1681fac3e05af08",
       "version_major": 2,
       "version_minor": 0
      },
      "text/plain": [
       "HBox(children=(HTML(value=''), FloatProgress(value=0.0, max=5.0), HTML(value='')))"
      ]
     },
     "metadata": {},
     "output_type": "display_data"
    },
    {
     "name": "stdout",
     "output_type": "stream",
     "text": [
      "\n",
      "training !\n"
     ]
    },
    {
     "data": {
      "application/vnd.jupyter.widget-view+json": {
       "model_id": "babfa5b026f143159d2d4566a8b3a71b",
       "version_major": 2,
       "version_minor": 0
      },
      "text/plain": [
       "HBox(children=(HTML(value=''), FloatProgress(value=0.0, max=5.0), HTML(value='')))"
      ]
     },
     "metadata": {},
     "output_type": "display_data"
    },
    {
     "name": "stdout",
     "output_type": "stream",
     "text": [
      "Quantile: 0.022750131948179195\n",
      "[LightGBM] [Warning] Unknown parameter: loss\n",
      "[LightGBM] [Warning] Accuracy may be bad since you didn't explicitly set num_leaves OR 2^max_depth > num_leaves. (num_leaves=31).\n",
      "Quantile: 0.15865525393145707\n",
      "Quantile: 0.5\n",
      "Quantile: 0.8413447460685429\n",
      "Quantile: 0.9772498680518208\n",
      "\n",
      "Done\n",
      "predicting\n"
     ]
    },
    {
     "data": {
      "application/vnd.jupyter.widget-view+json": {
       "model_id": "79b7fbd0c8f1482087e31d436666e44c",
       "version_major": 2,
       "version_minor": 0
      },
      "text/plain": [
       "HBox(children=(HTML(value=''), FloatProgress(value=0.0, max=5.0), HTML(value='')))"
      ]
     },
     "metadata": {},
     "output_type": "display_data"
    },
    {
     "name": "stdout",
     "output_type": "stream",
     "text": [
      "\n",
      "training !\n"
     ]
    },
    {
     "data": {
      "application/vnd.jupyter.widget-view+json": {
       "model_id": "4a2b8a16b5364c9e8b27bb0aca976eb8",
       "version_major": 2,
       "version_minor": 0
      },
      "text/plain": [
       "HBox(children=(HTML(value=''), FloatProgress(value=0.0, max=5.0), HTML(value='')))"
      ]
     },
     "metadata": {},
     "output_type": "display_data"
    },
    {
     "name": "stdout",
     "output_type": "stream",
     "text": [
      "Quantile: 0.022750131948179195\n",
      "[LightGBM] [Warning] Unknown parameter: loss\n",
      "[LightGBM] [Warning] Accuracy may be bad since you didn't explicitly set num_leaves OR 2^max_depth > num_leaves. (num_leaves=31).\n",
      "Quantile: 0.15865525393145707\n",
      "Quantile: 0.5\n",
      "Quantile: 0.8413447460685429\n",
      "Quantile: 0.9772498680518208\n",
      "\n",
      "Done\n",
      "predicting\n"
     ]
    },
    {
     "data": {
      "application/vnd.jupyter.widget-view+json": {
       "model_id": "0bf10287430647c4aa2863e6858135ee",
       "version_major": 2,
       "version_minor": 0
      },
      "text/plain": [
       "HBox(children=(HTML(value=''), FloatProgress(value=0.0, max=5.0), HTML(value='')))"
      ]
     },
     "metadata": {},
     "output_type": "display_data"
    },
    {
     "name": "stdout",
     "output_type": "stream",
     "text": [
      "\n",
      "training !\n"
     ]
    },
    {
     "data": {
      "application/vnd.jupyter.widget-view+json": {
       "model_id": "9a7bf7ebc34d4421bb2b81f60d79b9b9",
       "version_major": 2,
       "version_minor": 0
      },
      "text/plain": [
       "HBox(children=(HTML(value=''), FloatProgress(value=0.0, max=5.0), HTML(value='')))"
      ]
     },
     "metadata": {},
     "output_type": "display_data"
    },
    {
     "name": "stdout",
     "output_type": "stream",
     "text": [
      "Quantile: 0.022750131948179195\n",
      "[LightGBM] [Warning] Unknown parameter: loss\n",
      "[LightGBM] [Warning] Accuracy may be bad since you didn't explicitly set num_leaves OR 2^max_depth > num_leaves. (num_leaves=31).\n",
      "Quantile: 0.15865525393145707\n",
      "Quantile: 0.5\n",
      "Quantile: 0.8413447460685429\n",
      "Quantile: 0.9772498680518208\n",
      "\n",
      "Done\n",
      "predicting\n"
     ]
    },
    {
     "data": {
      "application/vnd.jupyter.widget-view+json": {
       "model_id": "d57eb6cb3b89494b900571657981bcac",
       "version_major": 2,
       "version_minor": 0
      },
      "text/plain": [
       "HBox(children=(HTML(value=''), FloatProgress(value=0.0, max=5.0), HTML(value='')))"
      ]
     },
     "metadata": {},
     "output_type": "display_data"
    },
    {
     "name": "stdout",
     "output_type": "stream",
     "text": [
      "\n",
      "training !\n"
     ]
    },
    {
     "data": {
      "application/vnd.jupyter.widget-view+json": {
       "model_id": "730e7da237684997899645fc05af421c",
       "version_major": 2,
       "version_minor": 0
      },
      "text/plain": [
       "HBox(children=(HTML(value=''), FloatProgress(value=0.0, max=5.0), HTML(value='')))"
      ]
     },
     "metadata": {},
     "output_type": "display_data"
    },
    {
     "name": "stdout",
     "output_type": "stream",
     "text": [
      "Quantile: 0.022750131948179195\n",
      "[LightGBM] [Warning] Unknown parameter: loss\n",
      "[LightGBM] [Warning] Accuracy may be bad since you didn't explicitly set num_leaves OR 2^max_depth > num_leaves. (num_leaves=31).\n",
      "Quantile: 0.15865525393145707\n",
      "Quantile: 0.5\n",
      "Quantile: 0.8413447460685429\n",
      "Quantile: 0.9772498680518208\n",
      "\n",
      "Done\n",
      "predicting\n"
     ]
    },
    {
     "data": {
      "application/vnd.jupyter.widget-view+json": {
       "model_id": "61ab9172ebe74da4b00533e368fe117f",
       "version_major": 2,
       "version_minor": 0
      },
      "text/plain": [
       "HBox(children=(HTML(value=''), FloatProgress(value=0.0, max=5.0), HTML(value='')))"
      ]
     },
     "metadata": {},
     "output_type": "display_data"
    },
    {
     "name": "stdout",
     "output_type": "stream",
     "text": [
      "\n",
      "training !\n"
     ]
    },
    {
     "data": {
      "application/vnd.jupyter.widget-view+json": {
       "model_id": "9f61176f29f64fb7b3630735b06305a0",
       "version_major": 2,
       "version_minor": 0
      },
      "text/plain": [
       "HBox(children=(HTML(value=''), FloatProgress(value=0.0, max=5.0), HTML(value='')))"
      ]
     },
     "metadata": {},
     "output_type": "display_data"
    },
    {
     "name": "stdout",
     "output_type": "stream",
     "text": [
      "Quantile: 0.022750131948179195\n",
      "[LightGBM] [Warning] Unknown parameter: loss\n",
      "[LightGBM] [Warning] Accuracy may be bad since you didn't explicitly set num_leaves OR 2^max_depth > num_leaves. (num_leaves=31).\n",
      "Quantile: 0.15865525393145707\n",
      "Quantile: 0.5\n",
      "Quantile: 0.8413447460685429\n",
      "Quantile: 0.9772498680518208\n",
      "\n",
      "Done\n",
      "predicting\n"
     ]
    },
    {
     "data": {
      "application/vnd.jupyter.widget-view+json": {
       "model_id": "d9ab6b04cd6244c1b9ec566db94dbe38",
       "version_major": 2,
       "version_minor": 0
      },
      "text/plain": [
       "HBox(children=(HTML(value=''), FloatProgress(value=0.0, max=5.0), HTML(value='')))"
      ]
     },
     "metadata": {},
     "output_type": "display_data"
    },
    {
     "name": "stdout",
     "output_type": "stream",
     "text": [
      "\n",
      "\n"
     ]
    },
    {
     "data": {
      "application/vnd.jupyter.widget-view+json": {
       "model_id": "4b3b7bae96774d17a20f4dd4b205f61a",
       "version_major": 2,
       "version_minor": 0
      },
      "text/plain": [
       "HBox(children=(HTML(value=''), FloatProgress(value=0.0, max=6.0), HTML(value='')))"
      ]
     },
     "metadata": {},
     "output_type": "display_data"
    },
    {
     "name": "stdout",
     "output_type": "stream",
     "text": [
      "training !\n"
     ]
    },
    {
     "data": {
      "application/vnd.jupyter.widget-view+json": {
       "model_id": "cd38cf3e8b57499ba8ff355c8f504dd7",
       "version_major": 2,
       "version_minor": 0
      },
      "text/plain": [
       "HBox(children=(HTML(value=''), FloatProgress(value=0.0, max=5.0), HTML(value='')))"
      ]
     },
     "metadata": {},
     "output_type": "display_data"
    },
    {
     "name": "stdout",
     "output_type": "stream",
     "text": [
      "Quantile: 0.022750131948179195\n",
      "[LightGBM] [Warning] Unknown parameter: loss\n",
      "Quantile: 0.15865525393145707\n",
      "Quantile: 0.5\n",
      "Quantile: 0.8413447460685429\n",
      "Quantile: 0.9772498680518208\n",
      "\n",
      "Done\n",
      "predicting\n"
     ]
    },
    {
     "data": {
      "application/vnd.jupyter.widget-view+json": {
       "model_id": "eb8e790b22e640d9aaed389acb71bd8a",
       "version_major": 2,
       "version_minor": 0
      },
      "text/plain": [
       "HBox(children=(HTML(value=''), FloatProgress(value=0.0, max=5.0), HTML(value='')))"
      ]
     },
     "metadata": {},
     "output_type": "display_data"
    },
    {
     "name": "stdout",
     "output_type": "stream",
     "text": [
      "\n",
      "training !\n"
     ]
    },
    {
     "data": {
      "application/vnd.jupyter.widget-view+json": {
       "model_id": "ccc53435d7aa48b08b971d53899ad982",
       "version_major": 2,
       "version_minor": 0
      },
      "text/plain": [
       "HBox(children=(HTML(value=''), FloatProgress(value=0.0, max=5.0), HTML(value='')))"
      ]
     },
     "metadata": {},
     "output_type": "display_data"
    },
    {
     "name": "stdout",
     "output_type": "stream",
     "text": [
      "Quantile: 0.022750131948179195\n",
      "[LightGBM] [Warning] Unknown parameter: loss\n",
      "[LightGBM] [Warning] Accuracy may be bad since you didn't explicitly set num_leaves OR 2^max_depth > num_leaves. (num_leaves=31).\n",
      "Quantile: 0.15865525393145707\n",
      "Quantile: 0.5\n",
      "Quantile: 0.8413447460685429\n",
      "Quantile: 0.9772498680518208\n",
      "\n",
      "Done\n",
      "predicting\n"
     ]
    },
    {
     "data": {
      "application/vnd.jupyter.widget-view+json": {
       "model_id": "205a2c429a384fd9b474065da3d29a87",
       "version_major": 2,
       "version_minor": 0
      },
      "text/plain": [
       "HBox(children=(HTML(value=''), FloatProgress(value=0.0, max=5.0), HTML(value='')))"
      ]
     },
     "metadata": {},
     "output_type": "display_data"
    },
    {
     "name": "stdout",
     "output_type": "stream",
     "text": [
      "\n",
      "training !\n"
     ]
    },
    {
     "data": {
      "application/vnd.jupyter.widget-view+json": {
       "model_id": "d5f60b9c2852464fbc59a0b9301d2811",
       "version_major": 2,
       "version_minor": 0
      },
      "text/plain": [
       "HBox(children=(HTML(value=''), FloatProgress(value=0.0, max=5.0), HTML(value='')))"
      ]
     },
     "metadata": {},
     "output_type": "display_data"
    },
    {
     "name": "stdout",
     "output_type": "stream",
     "text": [
      "Quantile: 0.022750131948179195\n",
      "[LightGBM] [Warning] Unknown parameter: loss\n",
      "[LightGBM] [Warning] Accuracy may be bad since you didn't explicitly set num_leaves OR 2^max_depth > num_leaves. (num_leaves=31).\n",
      "Quantile: 0.15865525393145707\n",
      "Quantile: 0.5\n",
      "Quantile: 0.8413447460685429\n",
      "Quantile: 0.9772498680518208\n",
      "\n",
      "Done\n",
      "predicting\n"
     ]
    },
    {
     "data": {
      "application/vnd.jupyter.widget-view+json": {
       "model_id": "ad0835f70dc74a72a15dd81a9e45856d",
       "version_major": 2,
       "version_minor": 0
      },
      "text/plain": [
       "HBox(children=(HTML(value=''), FloatProgress(value=0.0, max=5.0), HTML(value='')))"
      ]
     },
     "metadata": {},
     "output_type": "display_data"
    },
    {
     "name": "stdout",
     "output_type": "stream",
     "text": [
      "\n",
      "training !\n"
     ]
    },
    {
     "data": {
      "application/vnd.jupyter.widget-view+json": {
       "model_id": "9c8779738a0c4bc4bb8c4cc29f803b51",
       "version_major": 2,
       "version_minor": 0
      },
      "text/plain": [
       "HBox(children=(HTML(value=''), FloatProgress(value=0.0, max=5.0), HTML(value='')))"
      ]
     },
     "metadata": {},
     "output_type": "display_data"
    },
    {
     "name": "stdout",
     "output_type": "stream",
     "text": [
      "Quantile: 0.022750131948179195\n",
      "[LightGBM] [Warning] Unknown parameter: loss\n",
      "[LightGBM] [Warning] Accuracy may be bad since you didn't explicitly set num_leaves OR 2^max_depth > num_leaves. (num_leaves=31).\n",
      "Quantile: 0.15865525393145707\n",
      "Quantile: 0.5\n",
      "Quantile: 0.8413447460685429\n",
      "Quantile: 0.9772498680518208\n",
      "\n",
      "Done\n",
      "predicting\n"
     ]
    },
    {
     "data": {
      "application/vnd.jupyter.widget-view+json": {
       "model_id": "e765270b025b4b598f305357009d35dc",
       "version_major": 2,
       "version_minor": 0
      },
      "text/plain": [
       "HBox(children=(HTML(value=''), FloatProgress(value=0.0, max=5.0), HTML(value='')))"
      ]
     },
     "metadata": {},
     "output_type": "display_data"
    },
    {
     "name": "stdout",
     "output_type": "stream",
     "text": [
      "\n",
      "training !\n"
     ]
    },
    {
     "data": {
      "application/vnd.jupyter.widget-view+json": {
       "model_id": "abf3600327164118b1b43a9a0c4fc588",
       "version_major": 2,
       "version_minor": 0
      },
      "text/plain": [
       "HBox(children=(HTML(value=''), FloatProgress(value=0.0, max=5.0), HTML(value='')))"
      ]
     },
     "metadata": {},
     "output_type": "display_data"
    },
    {
     "name": "stdout",
     "output_type": "stream",
     "text": [
      "Quantile: 0.022750131948179195\n",
      "[LightGBM] [Warning] Unknown parameter: loss\n",
      "[LightGBM] [Warning] Accuracy may be bad since you didn't explicitly set num_leaves OR 2^max_depth > num_leaves. (num_leaves=31).\n",
      "Quantile: 0.15865525393145707\n",
      "Quantile: 0.5\n",
      "Quantile: 0.8413447460685429\n",
      "Quantile: 0.9772498680518208\n",
      "\n",
      "Done\n",
      "predicting\n"
     ]
    },
    {
     "data": {
      "application/vnd.jupyter.widget-view+json": {
       "model_id": "e03cf1b4cde0467797429773743f3785",
       "version_major": 2,
       "version_minor": 0
      },
      "text/plain": [
       "HBox(children=(HTML(value=''), FloatProgress(value=0.0, max=5.0), HTML(value='')))"
      ]
     },
     "metadata": {},
     "output_type": "display_data"
    },
    {
     "name": "stdout",
     "output_type": "stream",
     "text": [
      "\n",
      "training !\n"
     ]
    },
    {
     "data": {
      "application/vnd.jupyter.widget-view+json": {
       "model_id": "bbe23e196baa49fc8bcc2416fe9a47ee",
       "version_major": 2,
       "version_minor": 0
      },
      "text/plain": [
       "HBox(children=(HTML(value=''), FloatProgress(value=0.0, max=5.0), HTML(value='')))"
      ]
     },
     "metadata": {},
     "output_type": "display_data"
    },
    {
     "name": "stdout",
     "output_type": "stream",
     "text": [
      "Quantile: 0.022750131948179195\n",
      "[LightGBM] [Warning] Unknown parameter: loss\n",
      "[LightGBM] [Warning] Accuracy may be bad since you didn't explicitly set num_leaves OR 2^max_depth > num_leaves. (num_leaves=31).\n",
      "Quantile: 0.15865525393145707\n",
      "Quantile: 0.5\n",
      "Quantile: 0.8413447460685429\n",
      "Quantile: 0.9772498680518208\n",
      "\n",
      "Done\n",
      "predicting\n"
     ]
    },
    {
     "data": {
      "application/vnd.jupyter.widget-view+json": {
       "model_id": "5203cc95fe744e5a9a47f7f8cbfcc057",
       "version_major": 2,
       "version_minor": 0
      },
      "text/plain": [
       "HBox(children=(HTML(value=''), FloatProgress(value=0.0, max=5.0), HTML(value='')))"
      ]
     },
     "metadata": {},
     "output_type": "display_data"
    },
    {
     "name": "stdout",
     "output_type": "stream",
     "text": [
      "\n",
      "\n"
     ]
    },
    {
     "data": {
      "application/vnd.jupyter.widget-view+json": {
       "model_id": "55f94972d7ad4a99a6784f1da1fcc72c",
       "version_major": 2,
       "version_minor": 0
      },
      "text/plain": [
       "HBox(children=(HTML(value=''), FloatProgress(value=0.0, max=6.0), HTML(value='')))"
      ]
     },
     "metadata": {},
     "output_type": "display_data"
    },
    {
     "name": "stdout",
     "output_type": "stream",
     "text": [
      "training !\n"
     ]
    },
    {
     "data": {
      "application/vnd.jupyter.widget-view+json": {
       "model_id": "c12a69c5e6a543839777ae472e697316",
       "version_major": 2,
       "version_minor": 0
      },
      "text/plain": [
       "HBox(children=(HTML(value=''), FloatProgress(value=0.0, max=5.0), HTML(value='')))"
      ]
     },
     "metadata": {},
     "output_type": "display_data"
    },
    {
     "name": "stdout",
     "output_type": "stream",
     "text": [
      "Quantile: 0.022750131948179195\n",
      "[LightGBM] [Warning] Unknown parameter: loss\n",
      "Quantile: 0.15865525393145707\n",
      "Quantile: 0.5\n",
      "Quantile: 0.8413447460685429\n",
      "Quantile: 0.9772498680518208\n",
      "\n",
      "Done\n",
      "predicting\n"
     ]
    },
    {
     "data": {
      "application/vnd.jupyter.widget-view+json": {
       "model_id": "753c54f13cc54770b56241797abc2af6",
       "version_major": 2,
       "version_minor": 0
      },
      "text/plain": [
       "HBox(children=(HTML(value=''), FloatProgress(value=0.0, max=5.0), HTML(value='')))"
      ]
     },
     "metadata": {},
     "output_type": "display_data"
    },
    {
     "name": "stdout",
     "output_type": "stream",
     "text": [
      "\n",
      "training !\n"
     ]
    },
    {
     "data": {
      "application/vnd.jupyter.widget-view+json": {
       "model_id": "82c8c48fb555406ba033b5670ff65cc5",
       "version_major": 2,
       "version_minor": 0
      },
      "text/plain": [
       "HBox(children=(HTML(value=''), FloatProgress(value=0.0, max=5.0), HTML(value='')))"
      ]
     },
     "metadata": {},
     "output_type": "display_data"
    },
    {
     "name": "stdout",
     "output_type": "stream",
     "text": [
      "Quantile: 0.022750131948179195\n",
      "[LightGBM] [Warning] Unknown parameter: loss\n",
      "[LightGBM] [Warning] Accuracy may be bad since you didn't explicitly set num_leaves OR 2^max_depth > num_leaves. (num_leaves=31).\n",
      "Quantile: 0.15865525393145707\n",
      "Quantile: 0.5\n",
      "Quantile: 0.8413447460685429\n",
      "Quantile: 0.9772498680518208\n",
      "\n",
      "Done\n",
      "predicting\n"
     ]
    },
    {
     "data": {
      "application/vnd.jupyter.widget-view+json": {
       "model_id": "bfe355facc984f69aa3a4c3b10e8ed5b",
       "version_major": 2,
       "version_minor": 0
      },
      "text/plain": [
       "HBox(children=(HTML(value=''), FloatProgress(value=0.0, max=5.0), HTML(value='')))"
      ]
     },
     "metadata": {},
     "output_type": "display_data"
    },
    {
     "name": "stdout",
     "output_type": "stream",
     "text": [
      "\n",
      "training !\n"
     ]
    },
    {
     "data": {
      "application/vnd.jupyter.widget-view+json": {
       "model_id": "8248a3c33be747d68c36d82c791bbd3a",
       "version_major": 2,
       "version_minor": 0
      },
      "text/plain": [
       "HBox(children=(HTML(value=''), FloatProgress(value=0.0, max=5.0), HTML(value='')))"
      ]
     },
     "metadata": {},
     "output_type": "display_data"
    },
    {
     "name": "stdout",
     "output_type": "stream",
     "text": [
      "Quantile: 0.022750131948179195\n",
      "[LightGBM] [Warning] Unknown parameter: loss\n",
      "[LightGBM] [Warning] Accuracy may be bad since you didn't explicitly set num_leaves OR 2^max_depth > num_leaves. (num_leaves=31).\n",
      "Quantile: 0.15865525393145707\n",
      "Quantile: 0.5\n",
      "Quantile: 0.8413447460685429\n",
      "Quantile: 0.9772498680518208\n",
      "\n",
      "Done\n",
      "predicting\n"
     ]
    },
    {
     "data": {
      "application/vnd.jupyter.widget-view+json": {
       "model_id": "f7c1d1fc2300446d9e03201118f4d8d4",
       "version_major": 2,
       "version_minor": 0
      },
      "text/plain": [
       "HBox(children=(HTML(value=''), FloatProgress(value=0.0, max=5.0), HTML(value='')))"
      ]
     },
     "metadata": {},
     "output_type": "display_data"
    },
    {
     "name": "stdout",
     "output_type": "stream",
     "text": [
      "\n",
      "training !\n"
     ]
    },
    {
     "data": {
      "application/vnd.jupyter.widget-view+json": {
       "model_id": "0361d659778f4bc89bb19992c23e4157",
       "version_major": 2,
       "version_minor": 0
      },
      "text/plain": [
       "HBox(children=(HTML(value=''), FloatProgress(value=0.0, max=5.0), HTML(value='')))"
      ]
     },
     "metadata": {},
     "output_type": "display_data"
    },
    {
     "name": "stdout",
     "output_type": "stream",
     "text": [
      "Quantile: 0.022750131948179195\n",
      "[LightGBM] [Warning] Unknown parameter: loss\n",
      "[LightGBM] [Warning] Accuracy may be bad since you didn't explicitly set num_leaves OR 2^max_depth > num_leaves. (num_leaves=31).\n",
      "Quantile: 0.15865525393145707\n",
      "Quantile: 0.5\n",
      "Quantile: 0.8413447460685429\n",
      "Quantile: 0.9772498680518208\n",
      "\n",
      "Done\n",
      "predicting\n"
     ]
    },
    {
     "data": {
      "application/vnd.jupyter.widget-view+json": {
       "model_id": "dbbb720cd8444395aef9152b4fe2a985",
       "version_major": 2,
       "version_minor": 0
      },
      "text/plain": [
       "HBox(children=(HTML(value=''), FloatProgress(value=0.0, max=5.0), HTML(value='')))"
      ]
     },
     "metadata": {},
     "output_type": "display_data"
    },
    {
     "name": "stdout",
     "output_type": "stream",
     "text": [
      "\n",
      "training !\n"
     ]
    },
    {
     "data": {
      "application/vnd.jupyter.widget-view+json": {
       "model_id": "39a2c166517a48958f876c042bf58cf4",
       "version_major": 2,
       "version_minor": 0
      },
      "text/plain": [
       "HBox(children=(HTML(value=''), FloatProgress(value=0.0, max=5.0), HTML(value='')))"
      ]
     },
     "metadata": {},
     "output_type": "display_data"
    },
    {
     "name": "stdout",
     "output_type": "stream",
     "text": [
      "Quantile: 0.022750131948179195\n",
      "[LightGBM] [Warning] Unknown parameter: loss\n",
      "[LightGBM] [Warning] Accuracy may be bad since you didn't explicitly set num_leaves OR 2^max_depth > num_leaves. (num_leaves=31).\n",
      "Quantile: 0.15865525393145707\n",
      "Quantile: 0.5\n",
      "Quantile: 0.8413447460685429\n",
      "Quantile: 0.9772498680518208\n",
      "\n",
      "Done\n",
      "predicting\n"
     ]
    },
    {
     "data": {
      "application/vnd.jupyter.widget-view+json": {
       "model_id": "d6ad6498f85a4be6994b73638134ce81",
       "version_major": 2,
       "version_minor": 0
      },
      "text/plain": [
       "HBox(children=(HTML(value=''), FloatProgress(value=0.0, max=5.0), HTML(value='')))"
      ]
     },
     "metadata": {},
     "output_type": "display_data"
    },
    {
     "name": "stdout",
     "output_type": "stream",
     "text": [
      "\n",
      "training !\n"
     ]
    },
    {
     "data": {
      "application/vnd.jupyter.widget-view+json": {
       "model_id": "8046f67d9ab345c9af820b12fee8451e",
       "version_major": 2,
       "version_minor": 0
      },
      "text/plain": [
       "HBox(children=(HTML(value=''), FloatProgress(value=0.0, max=5.0), HTML(value='')))"
      ]
     },
     "metadata": {},
     "output_type": "display_data"
    },
    {
     "name": "stdout",
     "output_type": "stream",
     "text": [
      "Quantile: 0.022750131948179195\n",
      "[LightGBM] [Warning] Unknown parameter: loss\n",
      "[LightGBM] [Warning] Accuracy may be bad since you didn't explicitly set num_leaves OR 2^max_depth > num_leaves. (num_leaves=31).\n",
      "Quantile: 0.15865525393145707\n",
      "Quantile: 0.5\n",
      "Quantile: 0.8413447460685429\n",
      "Quantile: 0.9772498680518208\n",
      "\n",
      "Done\n",
      "predicting\n"
     ]
    },
    {
     "data": {
      "application/vnd.jupyter.widget-view+json": {
       "model_id": "afdc7d5a27d74ddb96dfcaabf1069489",
       "version_major": 2,
       "version_minor": 0
      },
      "text/plain": [
       "HBox(children=(HTML(value=''), FloatProgress(value=0.0, max=5.0), HTML(value='')))"
      ]
     },
     "metadata": {},
     "output_type": "display_data"
    },
    {
     "name": "stdout",
     "output_type": "stream",
     "text": [
      "\n",
      "\n",
      "\n"
     ]
    }
   ],
   "source": [
    "alls=[]\n",
    "\n",
    "for n_estimator in tqdm([500,600,700,800,900,1000,1100]):\n",
    "    for max_depth in tqdm([4,6,8,10,12,14]):\n",
    "        qreg = TotalLGBQuantile(n_estimators=n_estimator,max_depth=max_depth)\n",
    "        \n",
    "        qreg.fit(X_train,dif_train)\n",
    "        pred_difs = qreg.predict(X_test)\n",
    "        a=pd.DataFrame(pred_difs)\n",
    "        for col in a.columns:\n",
    "            a[col] += lin.predict(X_test_std) \n",
    "        \n",
    "        results=evaluate((np.exp(a)-1).values,(np.exp(y_test)-1).values)\n",
    "        del results[\"all\"]\n",
    "        del results[\"target\"]\n",
    "        results[\"n_estimator\"]=n_estimator\n",
    "        results[\"max_depth\"]=max_depth\n",
    "        alls.append(results)"
   ]
  },
  {
   "cell_type": "code",
   "execution_count": 15,
   "metadata": {},
   "outputs": [
    {
     "data": {
      "text/html": [
       "<div>\n",
       "<style scoped>\n",
       "    .dataframe tbody tr th:only-of-type {\n",
       "        vertical-align: middle;\n",
       "    }\n",
       "\n",
       "    .dataframe tbody tr th {\n",
       "        vertical-align: top;\n",
       "    }\n",
       "\n",
       "    .dataframe thead th {\n",
       "        text-align: right;\n",
       "    }\n",
       "</style>\n",
       "<table border=\"1\" class=\"dataframe\">\n",
       "  <thead>\n",
       "    <tr style=\"text-align: right;\">\n",
       "      <th></th>\n",
       "      <th>crps</th>\n",
       "      <th>count</th>\n",
       "      <th>rmse</th>\n",
       "      <th>mae</th>\n",
       "      <th>bias</th>\n",
       "      <th>corr</th>\n",
       "      <th>n_estimator</th>\n",
       "      <th>max_depth</th>\n",
       "    </tr>\n",
       "  </thead>\n",
       "  <tbody>\n",
       "    <tr>\n",
       "      <th>41</th>\n",
       "      <td>12.455742</td>\n",
       "      <td>448</td>\n",
       "      <td>25.665815</td>\n",
       "      <td>17.689652</td>\n",
       "      <td>4.248721</td>\n",
       "      <td>0.754538</td>\n",
       "      <td>1100</td>\n",
       "      <td>14</td>\n",
       "    </tr>\n",
       "    <tr>\n",
       "      <th>35</th>\n",
       "      <td>12.484751</td>\n",
       "      <td>447</td>\n",
       "      <td>25.712491</td>\n",
       "      <td>17.754079</td>\n",
       "      <td>4.239778</td>\n",
       "      <td>0.753420</td>\n",
       "      <td>1000</td>\n",
       "      <td>14</td>\n",
       "    </tr>\n",
       "    <tr>\n",
       "      <th>29</th>\n",
       "      <td>12.518565</td>\n",
       "      <td>445</td>\n",
       "      <td>25.760079</td>\n",
       "      <td>17.825588</td>\n",
       "      <td>4.243110</td>\n",
       "      <td>0.752379</td>\n",
       "      <td>900</td>\n",
       "      <td>14</td>\n",
       "    </tr>\n",
       "    <tr>\n",
       "      <th>23</th>\n",
       "      <td>12.539876</td>\n",
       "      <td>445</td>\n",
       "      <td>25.810412</td>\n",
       "      <td>17.877162</td>\n",
       "      <td>4.221367</td>\n",
       "      <td>0.751113</td>\n",
       "      <td>800</td>\n",
       "      <td>14</td>\n",
       "    </tr>\n",
       "    <tr>\n",
       "      <th>38</th>\n",
       "      <td>12.581603</td>\n",
       "      <td>448</td>\n",
       "      <td>25.816871</td>\n",
       "      <td>17.992562</td>\n",
       "      <td>4.511925</td>\n",
       "      <td>0.752299</td>\n",
       "      <td>1100</td>\n",
       "      <td>8</td>\n",
       "    </tr>\n",
       "    <tr>\n",
       "      <th>17</th>\n",
       "      <td>12.584544</td>\n",
       "      <td>447</td>\n",
       "      <td>25.884611</td>\n",
       "      <td>17.953229</td>\n",
       "      <td>4.229881</td>\n",
       "      <td>0.749359</td>\n",
       "      <td>700</td>\n",
       "      <td>14</td>\n",
       "    </tr>\n",
       "    <tr>\n",
       "      <th>32</th>\n",
       "      <td>12.645785</td>\n",
       "      <td>449</td>\n",
       "      <td>25.885992</td>\n",
       "      <td>18.058085</td>\n",
       "      <td>4.498206</td>\n",
       "      <td>0.750611</td>\n",
       "      <td>1000</td>\n",
       "      <td>8</td>\n",
       "    </tr>\n",
       "    <tr>\n",
       "      <th>11</th>\n",
       "      <td>12.604742</td>\n",
       "      <td>447</td>\n",
       "      <td>25.893047</td>\n",
       "      <td>17.947053</td>\n",
       "      <td>4.249623</td>\n",
       "      <td>0.749344</td>\n",
       "      <td>600</td>\n",
       "      <td>14</td>\n",
       "    </tr>\n",
       "    <tr>\n",
       "      <th>39</th>\n",
       "      <td>12.648288</td>\n",
       "      <td>446</td>\n",
       "      <td>25.938679</td>\n",
       "      <td>18.149995</td>\n",
       "      <td>4.536384</td>\n",
       "      <td>0.749023</td>\n",
       "      <td>1100</td>\n",
       "      <td>10</td>\n",
       "    </tr>\n",
       "    <tr>\n",
       "      <th>26</th>\n",
       "      <td>12.663594</td>\n",
       "      <td>449</td>\n",
       "      <td>25.968626</td>\n",
       "      <td>18.084489</td>\n",
       "      <td>4.548332</td>\n",
       "      <td>0.748897</td>\n",
       "      <td>900</td>\n",
       "      <td>8</td>\n",
       "    </tr>\n",
       "    <tr>\n",
       "      <th>33</th>\n",
       "      <td>12.699486</td>\n",
       "      <td>447</td>\n",
       "      <td>25.976216</td>\n",
       "      <td>18.168531</td>\n",
       "      <td>4.524131</td>\n",
       "      <td>0.748060</td>\n",
       "      <td>1000</td>\n",
       "      <td>10</td>\n",
       "    </tr>\n",
       "    <tr>\n",
       "      <th>5</th>\n",
       "      <td>12.638102</td>\n",
       "      <td>448</td>\n",
       "      <td>25.978906</td>\n",
       "      <td>18.044092</td>\n",
       "      <td>4.290459</td>\n",
       "      <td>0.747540</td>\n",
       "      <td>500</td>\n",
       "      <td>14</td>\n",
       "    </tr>\n",
       "    <tr>\n",
       "      <th>40</th>\n",
       "      <td>12.582405</td>\n",
       "      <td>449</td>\n",
       "      <td>26.015739</td>\n",
       "      <td>17.963815</td>\n",
       "      <td>4.286479</td>\n",
       "      <td>0.746377</td>\n",
       "      <td>1100</td>\n",
       "      <td>12</td>\n",
       "    </tr>\n",
       "    <tr>\n",
       "      <th>27</th>\n",
       "      <td>12.706261</td>\n",
       "      <td>447</td>\n",
       "      <td>26.033815</td>\n",
       "      <td>18.232472</td>\n",
       "      <td>4.569723</td>\n",
       "      <td>0.746863</td>\n",
       "      <td>900</td>\n",
       "      <td>10</td>\n",
       "    </tr>\n",
       "    <tr>\n",
       "      <th>20</th>\n",
       "      <td>12.702001</td>\n",
       "      <td>448</td>\n",
       "      <td>26.049872</td>\n",
       "      <td>18.129496</td>\n",
       "      <td>4.576923</td>\n",
       "      <td>0.747066</td>\n",
       "      <td>800</td>\n",
       "      <td>8</td>\n",
       "    </tr>\n",
       "    <tr>\n",
       "      <th>21</th>\n",
       "      <td>12.779124</td>\n",
       "      <td>447</td>\n",
       "      <td>26.084527</td>\n",
       "      <td>18.260589</td>\n",
       "      <td>4.544541</td>\n",
       "      <td>0.745513</td>\n",
       "      <td>800</td>\n",
       "      <td>10</td>\n",
       "    </tr>\n",
       "    <tr>\n",
       "      <th>34</th>\n",
       "      <td>12.638907</td>\n",
       "      <td>449</td>\n",
       "      <td>26.094560</td>\n",
       "      <td>18.030686</td>\n",
       "      <td>4.304694</td>\n",
       "      <td>0.744513</td>\n",
       "      <td>1000</td>\n",
       "      <td>12</td>\n",
       "    </tr>\n",
       "    <tr>\n",
       "      <th>28</th>\n",
       "      <td>12.645294</td>\n",
       "      <td>449</td>\n",
       "      <td>26.116897</td>\n",
       "      <td>18.057289</td>\n",
       "      <td>4.289067</td>\n",
       "      <td>0.743911</td>\n",
       "      <td>900</td>\n",
       "      <td>12</td>\n",
       "    </tr>\n",
       "    <tr>\n",
       "      <th>22</th>\n",
       "      <td>12.694170</td>\n",
       "      <td>449</td>\n",
       "      <td>26.144065</td>\n",
       "      <td>18.098581</td>\n",
       "      <td>4.277676</td>\n",
       "      <td>0.743251</td>\n",
       "      <td>800</td>\n",
       "      <td>12</td>\n",
       "    </tr>\n",
       "    <tr>\n",
       "      <th>14</th>\n",
       "      <td>12.762130</td>\n",
       "      <td>448</td>\n",
       "      <td>26.149993</td>\n",
       "      <td>18.196377</td>\n",
       "      <td>4.650075</td>\n",
       "      <td>0.744998</td>\n",
       "      <td>700</td>\n",
       "      <td>8</td>\n",
       "    </tr>\n",
       "    <tr>\n",
       "      <th>16</th>\n",
       "      <td>12.784603</td>\n",
       "      <td>448</td>\n",
       "      <td>26.188691</td>\n",
       "      <td>18.141592</td>\n",
       "      <td>4.276377</td>\n",
       "      <td>0.742209</td>\n",
       "      <td>700</td>\n",
       "      <td>12</td>\n",
       "    </tr>\n",
       "    <tr>\n",
       "      <th>15</th>\n",
       "      <td>12.835280</td>\n",
       "      <td>448</td>\n",
       "      <td>26.211595</td>\n",
       "      <td>18.352340</td>\n",
       "      <td>4.604756</td>\n",
       "      <td>0.742683</td>\n",
       "      <td>700</td>\n",
       "      <td>10</td>\n",
       "    </tr>\n",
       "    <tr>\n",
       "      <th>10</th>\n",
       "      <td>12.789538</td>\n",
       "      <td>449</td>\n",
       "      <td>26.271080</td>\n",
       "      <td>18.213524</td>\n",
       "      <td>4.259761</td>\n",
       "      <td>0.740118</td>\n",
       "      <td>600</td>\n",
       "      <td>12</td>\n",
       "    </tr>\n",
       "    <tr>\n",
       "      <th>8</th>\n",
       "      <td>12.835277</td>\n",
       "      <td>449</td>\n",
       "      <td>26.312204</td>\n",
       "      <td>18.298595</td>\n",
       "      <td>4.649701</td>\n",
       "      <td>0.741095</td>\n",
       "      <td>600</td>\n",
       "      <td>8</td>\n",
       "    </tr>\n",
       "    <tr>\n",
       "      <th>9</th>\n",
       "      <td>12.902407</td>\n",
       "      <td>448</td>\n",
       "      <td>26.327708</td>\n",
       "      <td>18.417205</td>\n",
       "      <td>4.734485</td>\n",
       "      <td>0.740596</td>\n",
       "      <td>600</td>\n",
       "      <td>10</td>\n",
       "    </tr>\n",
       "    <tr>\n",
       "      <th>3</th>\n",
       "      <td>12.946529</td>\n",
       "      <td>448</td>\n",
       "      <td>26.457749</td>\n",
       "      <td>18.507929</td>\n",
       "      <td>4.830517</td>\n",
       "      <td>0.737867</td>\n",
       "      <td>500</td>\n",
       "      <td>10</td>\n",
       "    </tr>\n",
       "    <tr>\n",
       "      <th>4</th>\n",
       "      <td>12.930584</td>\n",
       "      <td>449</td>\n",
       "      <td>26.484147</td>\n",
       "      <td>18.337731</td>\n",
       "      <td>4.312180</td>\n",
       "      <td>0.735052</td>\n",
       "      <td>500</td>\n",
       "      <td>12</td>\n",
       "    </tr>\n",
       "    <tr>\n",
       "      <th>2</th>\n",
       "      <td>12.886522</td>\n",
       "      <td>449</td>\n",
       "      <td>26.504350</td>\n",
       "      <td>18.449646</td>\n",
       "      <td>4.726500</td>\n",
       "      <td>0.736692</td>\n",
       "      <td>500</td>\n",
       "      <td>8</td>\n",
       "    </tr>\n",
       "    <tr>\n",
       "      <th>37</th>\n",
       "      <td>12.961177</td>\n",
       "      <td>448</td>\n",
       "      <td>26.528481</td>\n",
       "      <td>18.331954</td>\n",
       "      <td>4.693757</td>\n",
       "      <td>0.735612</td>\n",
       "      <td>1100</td>\n",
       "      <td>6</td>\n",
       "    </tr>\n",
       "    <tr>\n",
       "      <th>31</th>\n",
       "      <td>12.986341</td>\n",
       "      <td>448</td>\n",
       "      <td>26.577716</td>\n",
       "      <td>18.370674</td>\n",
       "      <td>4.693229</td>\n",
       "      <td>0.734358</td>\n",
       "      <td>1000</td>\n",
       "      <td>6</td>\n",
       "    </tr>\n",
       "    <tr>\n",
       "      <th>25</th>\n",
       "      <td>13.022977</td>\n",
       "      <td>448</td>\n",
       "      <td>26.617401</td>\n",
       "      <td>18.392144</td>\n",
       "      <td>4.697117</td>\n",
       "      <td>0.733399</td>\n",
       "      <td>900</td>\n",
       "      <td>6</td>\n",
       "    </tr>\n",
       "    <tr>\n",
       "      <th>19</th>\n",
       "      <td>13.061466</td>\n",
       "      <td>449</td>\n",
       "      <td>26.661797</td>\n",
       "      <td>18.437224</td>\n",
       "      <td>4.702225</td>\n",
       "      <td>0.732325</td>\n",
       "      <td>800</td>\n",
       "      <td>6</td>\n",
       "    </tr>\n",
       "    <tr>\n",
       "      <th>13</th>\n",
       "      <td>13.103837</td>\n",
       "      <td>451</td>\n",
       "      <td>26.763070</td>\n",
       "      <td>18.525291</td>\n",
       "      <td>4.709870</td>\n",
       "      <td>0.729765</td>\n",
       "      <td>700</td>\n",
       "      <td>6</td>\n",
       "    </tr>\n",
       "    <tr>\n",
       "      <th>7</th>\n",
       "      <td>13.123654</td>\n",
       "      <td>451</td>\n",
       "      <td>26.859829</td>\n",
       "      <td>18.606148</td>\n",
       "      <td>4.733434</td>\n",
       "      <td>0.727449</td>\n",
       "      <td>600</td>\n",
       "      <td>6</td>\n",
       "    </tr>\n",
       "    <tr>\n",
       "      <th>1</th>\n",
       "      <td>13.175910</td>\n",
       "      <td>451</td>\n",
       "      <td>27.003432</td>\n",
       "      <td>18.680105</td>\n",
       "      <td>4.874700</td>\n",
       "      <td>0.724716</td>\n",
       "      <td>500</td>\n",
       "      <td>6</td>\n",
       "    </tr>\n",
       "    <tr>\n",
       "      <th>36</th>\n",
       "      <td>13.230337</td>\n",
       "      <td>454</td>\n",
       "      <td>27.267203</td>\n",
       "      <td>18.966791</td>\n",
       "      <td>4.968710</td>\n",
       "      <td>0.718512</td>\n",
       "      <td>1100</td>\n",
       "      <td>4</td>\n",
       "    </tr>\n",
       "    <tr>\n",
       "      <th>30</th>\n",
       "      <td>13.284935</td>\n",
       "      <td>454</td>\n",
       "      <td>27.308866</td>\n",
       "      <td>18.981030</td>\n",
       "      <td>4.990104</td>\n",
       "      <td>0.717602</td>\n",
       "      <td>1000</td>\n",
       "      <td>4</td>\n",
       "    </tr>\n",
       "    <tr>\n",
       "      <th>18</th>\n",
       "      <td>13.279448</td>\n",
       "      <td>454</td>\n",
       "      <td>27.337129</td>\n",
       "      <td>19.020457</td>\n",
       "      <td>4.961620</td>\n",
       "      <td>0.716880</td>\n",
       "      <td>800</td>\n",
       "      <td>4</td>\n",
       "    </tr>\n",
       "    <tr>\n",
       "      <th>6</th>\n",
       "      <td>13.325839</td>\n",
       "      <td>454</td>\n",
       "      <td>27.338739</td>\n",
       "      <td>19.032201</td>\n",
       "      <td>4.914917</td>\n",
       "      <td>0.716569</td>\n",
       "      <td>600</td>\n",
       "      <td>4</td>\n",
       "    </tr>\n",
       "    <tr>\n",
       "      <th>24</th>\n",
       "      <td>13.273836</td>\n",
       "      <td>454</td>\n",
       "      <td>27.355004</td>\n",
       "      <td>19.015434</td>\n",
       "      <td>4.987270</td>\n",
       "      <td>0.716420</td>\n",
       "      <td>900</td>\n",
       "      <td>4</td>\n",
       "    </tr>\n",
       "    <tr>\n",
       "      <th>12</th>\n",
       "      <td>13.319231</td>\n",
       "      <td>454</td>\n",
       "      <td>27.378580</td>\n",
       "      <td>19.055570</td>\n",
       "      <td>4.991216</td>\n",
       "      <td>0.715826</td>\n",
       "      <td>700</td>\n",
       "      <td>4</td>\n",
       "    </tr>\n",
       "    <tr>\n",
       "      <th>0</th>\n",
       "      <td>13.357133</td>\n",
       "      <td>454</td>\n",
       "      <td>27.417644</td>\n",
       "      <td>19.074614</td>\n",
       "      <td>4.896561</td>\n",
       "      <td>0.714432</td>\n",
       "      <td>500</td>\n",
       "      <td>4</td>\n",
       "    </tr>\n",
       "  </tbody>\n",
       "</table>\n",
       "</div>"
      ],
      "text/plain": [
       "         crps  count       rmse        mae      bias      corr  n_estimator  \\\n",
       "41  12.455742    448  25.665815  17.689652  4.248721  0.754538         1100   \n",
       "35  12.484751    447  25.712491  17.754079  4.239778  0.753420         1000   \n",
       "29  12.518565    445  25.760079  17.825588  4.243110  0.752379          900   \n",
       "23  12.539876    445  25.810412  17.877162  4.221367  0.751113          800   \n",
       "38  12.581603    448  25.816871  17.992562  4.511925  0.752299         1100   \n",
       "17  12.584544    447  25.884611  17.953229  4.229881  0.749359          700   \n",
       "32  12.645785    449  25.885992  18.058085  4.498206  0.750611         1000   \n",
       "11  12.604742    447  25.893047  17.947053  4.249623  0.749344          600   \n",
       "39  12.648288    446  25.938679  18.149995  4.536384  0.749023         1100   \n",
       "26  12.663594    449  25.968626  18.084489  4.548332  0.748897          900   \n",
       "33  12.699486    447  25.976216  18.168531  4.524131  0.748060         1000   \n",
       "5   12.638102    448  25.978906  18.044092  4.290459  0.747540          500   \n",
       "40  12.582405    449  26.015739  17.963815  4.286479  0.746377         1100   \n",
       "27  12.706261    447  26.033815  18.232472  4.569723  0.746863          900   \n",
       "20  12.702001    448  26.049872  18.129496  4.576923  0.747066          800   \n",
       "21  12.779124    447  26.084527  18.260589  4.544541  0.745513          800   \n",
       "34  12.638907    449  26.094560  18.030686  4.304694  0.744513         1000   \n",
       "28  12.645294    449  26.116897  18.057289  4.289067  0.743911          900   \n",
       "22  12.694170    449  26.144065  18.098581  4.277676  0.743251          800   \n",
       "14  12.762130    448  26.149993  18.196377  4.650075  0.744998          700   \n",
       "16  12.784603    448  26.188691  18.141592  4.276377  0.742209          700   \n",
       "15  12.835280    448  26.211595  18.352340  4.604756  0.742683          700   \n",
       "10  12.789538    449  26.271080  18.213524  4.259761  0.740118          600   \n",
       "8   12.835277    449  26.312204  18.298595  4.649701  0.741095          600   \n",
       "9   12.902407    448  26.327708  18.417205  4.734485  0.740596          600   \n",
       "3   12.946529    448  26.457749  18.507929  4.830517  0.737867          500   \n",
       "4   12.930584    449  26.484147  18.337731  4.312180  0.735052          500   \n",
       "2   12.886522    449  26.504350  18.449646  4.726500  0.736692          500   \n",
       "37  12.961177    448  26.528481  18.331954  4.693757  0.735612         1100   \n",
       "31  12.986341    448  26.577716  18.370674  4.693229  0.734358         1000   \n",
       "25  13.022977    448  26.617401  18.392144  4.697117  0.733399          900   \n",
       "19  13.061466    449  26.661797  18.437224  4.702225  0.732325          800   \n",
       "13  13.103837    451  26.763070  18.525291  4.709870  0.729765          700   \n",
       "7   13.123654    451  26.859829  18.606148  4.733434  0.727449          600   \n",
       "1   13.175910    451  27.003432  18.680105  4.874700  0.724716          500   \n",
       "36  13.230337    454  27.267203  18.966791  4.968710  0.718512         1100   \n",
       "30  13.284935    454  27.308866  18.981030  4.990104  0.717602         1000   \n",
       "18  13.279448    454  27.337129  19.020457  4.961620  0.716880          800   \n",
       "6   13.325839    454  27.338739  19.032201  4.914917  0.716569          600   \n",
       "24  13.273836    454  27.355004  19.015434  4.987270  0.716420          900   \n",
       "12  13.319231    454  27.378580  19.055570  4.991216  0.715826          700   \n",
       "0   13.357133    454  27.417644  19.074614  4.896561  0.714432          500   \n",
       "\n",
       "    max_depth  \n",
       "41         14  \n",
       "35         14  \n",
       "29         14  \n",
       "23         14  \n",
       "38          8  \n",
       "17         14  \n",
       "32          8  \n",
       "11         14  \n",
       "39         10  \n",
       "26          8  \n",
       "33         10  \n",
       "5          14  \n",
       "40         12  \n",
       "27         10  \n",
       "20          8  \n",
       "21         10  \n",
       "34         12  \n",
       "28         12  \n",
       "22         12  \n",
       "14          8  \n",
       "16         12  \n",
       "15         10  \n",
       "10         12  \n",
       "8           8  \n",
       "9          10  \n",
       "3          10  \n",
       "4          12  \n",
       "2           8  \n",
       "37          6  \n",
       "31          6  \n",
       "25          6  \n",
       "19          6  \n",
       "13          6  \n",
       "7           6  \n",
       "1           6  \n",
       "36          4  \n",
       "30          4  \n",
       "18          4  \n",
       "6           4  \n",
       "24          4  \n",
       "12          4  \n",
       "0           4  "
      ]
     },
     "execution_count": 15,
     "metadata": {},
     "output_type": "execute_result"
    }
   ],
   "source": [
    "pd.DataFrame(alls).sort_values(\"rmse\")"
   ]
  },
  {
   "cell_type": "code",
   "execution_count": 17,
   "metadata": {},
   "outputs": [
    {
     "data": {
      "application/vnd.jupyter.widget-view+json": {
       "model_id": "ef50eb5dd5014990975dcb3efd08d50d",
       "version_major": 2,
       "version_minor": 0
      },
      "text/plain": [
       "HBox(children=(HTML(value=''), FloatProgress(value=0.0, max=3.0), HTML(value='')))"
      ]
     },
     "metadata": {},
     "output_type": "display_data"
    },
    {
     "data": {
      "application/vnd.jupyter.widget-view+json": {
       "model_id": "31967d8d1454429f89261117469d9a78",
       "version_major": 2,
       "version_minor": 0
      },
      "text/plain": [
       "HBox(children=(HTML(value=''), FloatProgress(value=0.0, max=3.0), HTML(value='')))"
      ]
     },
     "metadata": {},
     "output_type": "display_data"
    },
    {
     "name": "stdout",
     "output_type": "stream",
     "text": [
      "training !\n"
     ]
    },
    {
     "data": {
      "application/vnd.jupyter.widget-view+json": {
       "model_id": "3e7c3d5a019f4a4484c145f305140a3c",
       "version_major": 2,
       "version_minor": 0
      },
      "text/plain": [
       "HBox(children=(HTML(value=''), FloatProgress(value=0.0, max=5.0), HTML(value='')))"
      ]
     },
     "metadata": {},
     "output_type": "display_data"
    },
    {
     "name": "stdout",
     "output_type": "stream",
     "text": [
      "Quantile: 0.022750131948179195\n",
      "[LightGBM] [Warning] Unknown parameter: loss\n",
      "[LightGBM] [Warning] Accuracy may be bad since you didn't explicitly set num_leaves OR 2^max_depth > num_leaves. (num_leaves=31).\n",
      "Quantile: 0.15865525393145707\n",
      "Quantile: 0.5\n",
      "Quantile: 0.8413447460685429\n",
      "Quantile: 0.9772498680518208\n",
      "\n",
      "Done\n",
      "predicting\n"
     ]
    },
    {
     "data": {
      "application/vnd.jupyter.widget-view+json": {
       "model_id": "015c73f2fb9641f5b01135fb5a252a84",
       "version_major": 2,
       "version_minor": 0
      },
      "text/plain": [
       "HBox(children=(HTML(value=''), FloatProgress(value=0.0, max=5.0), HTML(value='')))"
      ]
     },
     "metadata": {},
     "output_type": "display_data"
    },
    {
     "name": "stdout",
     "output_type": "stream",
     "text": [
      "\n",
      "training !\n"
     ]
    },
    {
     "data": {
      "application/vnd.jupyter.widget-view+json": {
       "model_id": "dd494824766c416aa2b5a0e1cd54d6ee",
       "version_major": 2,
       "version_minor": 0
      },
      "text/plain": [
       "HBox(children=(HTML(value=''), FloatProgress(value=0.0, max=5.0), HTML(value='')))"
      ]
     },
     "metadata": {},
     "output_type": "display_data"
    },
    {
     "name": "stdout",
     "output_type": "stream",
     "text": [
      "Quantile: 0.022750131948179195\n",
      "[LightGBM] [Warning] Unknown parameter: loss\n",
      "[LightGBM] [Warning] Accuracy may be bad since you didn't explicitly set num_leaves OR 2^max_depth > num_leaves. (num_leaves=31).\n",
      "Quantile: 0.15865525393145707\n",
      "Quantile: 0.5\n",
      "Quantile: 0.8413447460685429\n",
      "Quantile: 0.9772498680518208\n",
      "\n",
      "Done\n",
      "predicting\n"
     ]
    },
    {
     "data": {
      "application/vnd.jupyter.widget-view+json": {
       "model_id": "e6a6589618c64039a81d705e58298941",
       "version_major": 2,
       "version_minor": 0
      },
      "text/plain": [
       "HBox(children=(HTML(value=''), FloatProgress(value=0.0, max=5.0), HTML(value='')))"
      ]
     },
     "metadata": {},
     "output_type": "display_data"
    },
    {
     "name": "stdout",
     "output_type": "stream",
     "text": [
      "\n",
      "training !\n"
     ]
    },
    {
     "data": {
      "application/vnd.jupyter.widget-view+json": {
       "model_id": "1bfeffbc2dfd4c3f908672488f45c7de",
       "version_major": 2,
       "version_minor": 0
      },
      "text/plain": [
       "HBox(children=(HTML(value=''), FloatProgress(value=0.0, max=5.0), HTML(value='')))"
      ]
     },
     "metadata": {},
     "output_type": "display_data"
    },
    {
     "name": "stdout",
     "output_type": "stream",
     "text": [
      "Quantile: 0.022750131948179195\n",
      "[LightGBM] [Warning] Unknown parameter: loss\n",
      "[LightGBM] [Warning] Accuracy may be bad since you didn't explicitly set num_leaves OR 2^max_depth > num_leaves. (num_leaves=31).\n",
      "Quantile: 0.15865525393145707\n",
      "Quantile: 0.5\n",
      "Quantile: 0.8413447460685429\n",
      "Quantile: 0.9772498680518208\n",
      "\n",
      "Done\n",
      "predicting\n"
     ]
    },
    {
     "data": {
      "application/vnd.jupyter.widget-view+json": {
       "model_id": "1f48b87c47d14703b07373bb78136276",
       "version_major": 2,
       "version_minor": 0
      },
      "text/plain": [
       "HBox(children=(HTML(value=''), FloatProgress(value=0.0, max=5.0), HTML(value='')))"
      ]
     },
     "metadata": {},
     "output_type": "display_data"
    },
    {
     "name": "stdout",
     "output_type": "stream",
     "text": [
      "\n",
      "\n"
     ]
    },
    {
     "data": {
      "application/vnd.jupyter.widget-view+json": {
       "model_id": "f7f48c5699ca4b2bb821790ac614f549",
       "version_major": 2,
       "version_minor": 0
      },
      "text/plain": [
       "HBox(children=(HTML(value=''), FloatProgress(value=0.0, max=3.0), HTML(value='')))"
      ]
     },
     "metadata": {},
     "output_type": "display_data"
    },
    {
     "name": "stdout",
     "output_type": "stream",
     "text": [
      "training !\n"
     ]
    },
    {
     "data": {
      "application/vnd.jupyter.widget-view+json": {
       "model_id": "070752d6d3fb47eeb201bd87ad5dccb0",
       "version_major": 2,
       "version_minor": 0
      },
      "text/plain": [
       "HBox(children=(HTML(value=''), FloatProgress(value=0.0, max=5.0), HTML(value='')))"
      ]
     },
     "metadata": {},
     "output_type": "display_data"
    },
    {
     "name": "stdout",
     "output_type": "stream",
     "text": [
      "Quantile: 0.022750131948179195\n",
      "[LightGBM] [Warning] Unknown parameter: loss\n",
      "[LightGBM] [Warning] Accuracy may be bad since you didn't explicitly set num_leaves OR 2^max_depth > num_leaves. (num_leaves=31).\n",
      "Quantile: 0.15865525393145707\n",
      "Quantile: 0.5\n",
      "Quantile: 0.8413447460685429\n",
      "Quantile: 0.9772498680518208\n",
      "\n",
      "Done\n",
      "predicting\n"
     ]
    },
    {
     "data": {
      "application/vnd.jupyter.widget-view+json": {
       "model_id": "889907893c53408784c6b7e61ddbc0c4",
       "version_major": 2,
       "version_minor": 0
      },
      "text/plain": [
       "HBox(children=(HTML(value=''), FloatProgress(value=0.0, max=5.0), HTML(value='')))"
      ]
     },
     "metadata": {},
     "output_type": "display_data"
    },
    {
     "name": "stdout",
     "output_type": "stream",
     "text": [
      "\n",
      "training !\n"
     ]
    },
    {
     "data": {
      "application/vnd.jupyter.widget-view+json": {
       "model_id": "3042d2dd47cf48fdbdcfd3a30c3084eb",
       "version_major": 2,
       "version_minor": 0
      },
      "text/plain": [
       "HBox(children=(HTML(value=''), FloatProgress(value=0.0, max=5.0), HTML(value='')))"
      ]
     },
     "metadata": {},
     "output_type": "display_data"
    },
    {
     "name": "stdout",
     "output_type": "stream",
     "text": [
      "Quantile: 0.022750131948179195\n",
      "[LightGBM] [Warning] Unknown parameter: loss\n",
      "[LightGBM] [Warning] Accuracy may be bad since you didn't explicitly set num_leaves OR 2^max_depth > num_leaves. (num_leaves=31).\n",
      "Quantile: 0.15865525393145707\n",
      "Quantile: 0.5\n",
      "Quantile: 0.8413447460685429\n",
      "Quantile: 0.9772498680518208\n",
      "\n",
      "Done\n",
      "predicting\n"
     ]
    },
    {
     "data": {
      "application/vnd.jupyter.widget-view+json": {
       "model_id": "092e819b8f1640338831338cf0bef8d9",
       "version_major": 2,
       "version_minor": 0
      },
      "text/plain": [
       "HBox(children=(HTML(value=''), FloatProgress(value=0.0, max=5.0), HTML(value='')))"
      ]
     },
     "metadata": {},
     "output_type": "display_data"
    },
    {
     "name": "stdout",
     "output_type": "stream",
     "text": [
      "\n",
      "training !\n"
     ]
    },
    {
     "data": {
      "application/vnd.jupyter.widget-view+json": {
       "model_id": "9f60894cbd8a47e1a7344d12c78da41f",
       "version_major": 2,
       "version_minor": 0
      },
      "text/plain": [
       "HBox(children=(HTML(value=''), FloatProgress(value=0.0, max=5.0), HTML(value='')))"
      ]
     },
     "metadata": {},
     "output_type": "display_data"
    },
    {
     "name": "stdout",
     "output_type": "stream",
     "text": [
      "Quantile: 0.022750131948179195\n",
      "[LightGBM] [Warning] Unknown parameter: loss\n",
      "[LightGBM] [Warning] Accuracy may be bad since you didn't explicitly set num_leaves OR 2^max_depth > num_leaves. (num_leaves=31).\n",
      "Quantile: 0.15865525393145707\n",
      "Quantile: 0.5\n",
      "Quantile: 0.8413447460685429\n",
      "Quantile: 0.9772498680518208\n",
      "\n",
      "Done\n",
      "predicting\n"
     ]
    },
    {
     "data": {
      "application/vnd.jupyter.widget-view+json": {
       "model_id": "1250e3f05d2c4540a48febfb5f2c237c",
       "version_major": 2,
       "version_minor": 0
      },
      "text/plain": [
       "HBox(children=(HTML(value=''), FloatProgress(value=0.0, max=5.0), HTML(value='')))"
      ]
     },
     "metadata": {},
     "output_type": "display_data"
    },
    {
     "name": "stdout",
     "output_type": "stream",
     "text": [
      "\n",
      "\n"
     ]
    },
    {
     "data": {
      "application/vnd.jupyter.widget-view+json": {
       "model_id": "6eb8939d435f4dccb2278b591cfdc9f8",
       "version_major": 2,
       "version_minor": 0
      },
      "text/plain": [
       "HBox(children=(HTML(value=''), FloatProgress(value=0.0, max=3.0), HTML(value='')))"
      ]
     },
     "metadata": {},
     "output_type": "display_data"
    },
    {
     "name": "stdout",
     "output_type": "stream",
     "text": [
      "training !\n"
     ]
    },
    {
     "data": {
      "application/vnd.jupyter.widget-view+json": {
       "model_id": "fb40eb2ace3340a8929731e41243b3e4",
       "version_major": 2,
       "version_minor": 0
      },
      "text/plain": [
       "HBox(children=(HTML(value=''), FloatProgress(value=0.0, max=5.0), HTML(value='')))"
      ]
     },
     "metadata": {},
     "output_type": "display_data"
    },
    {
     "name": "stdout",
     "output_type": "stream",
     "text": [
      "Quantile: 0.022750131948179195\n",
      "[LightGBM] [Warning] Unknown parameter: loss\n",
      "[LightGBM] [Warning] Accuracy may be bad since you didn't explicitly set num_leaves OR 2^max_depth > num_leaves. (num_leaves=31).\n",
      "Quantile: 0.15865525393145707\n",
      "Quantile: 0.5\n",
      "Quantile: 0.8413447460685429\n",
      "Quantile: 0.9772498680518208\n",
      "\n",
      "Done\n",
      "predicting\n"
     ]
    },
    {
     "data": {
      "application/vnd.jupyter.widget-view+json": {
       "model_id": "8e211ea0a8f843dbbadfdb7fa36df85c",
       "version_major": 2,
       "version_minor": 0
      },
      "text/plain": [
       "HBox(children=(HTML(value=''), FloatProgress(value=0.0, max=5.0), HTML(value='')))"
      ]
     },
     "metadata": {},
     "output_type": "display_data"
    },
    {
     "name": "stdout",
     "output_type": "stream",
     "text": [
      "\n",
      "training !\n"
     ]
    },
    {
     "data": {
      "application/vnd.jupyter.widget-view+json": {
       "model_id": "8469cb5cf0d24ce7bd6b7aa0e074c178",
       "version_major": 2,
       "version_minor": 0
      },
      "text/plain": [
       "HBox(children=(HTML(value=''), FloatProgress(value=0.0, max=5.0), HTML(value='')))"
      ]
     },
     "metadata": {},
     "output_type": "display_data"
    },
    {
     "name": "stdout",
     "output_type": "stream",
     "text": [
      "Quantile: 0.022750131948179195\n",
      "[LightGBM] [Warning] Unknown parameter: loss\n",
      "[LightGBM] [Warning] Accuracy may be bad since you didn't explicitly set num_leaves OR 2^max_depth > num_leaves. (num_leaves=31).\n",
      "Quantile: 0.15865525393145707\n",
      "Quantile: 0.5\n",
      "Quantile: 0.8413447460685429\n",
      "Quantile: 0.9772498680518208\n",
      "\n",
      "Done\n",
      "predicting\n"
     ]
    },
    {
     "data": {
      "application/vnd.jupyter.widget-view+json": {
       "model_id": "b62132b84e14425f8198578567213666",
       "version_major": 2,
       "version_minor": 0
      },
      "text/plain": [
       "HBox(children=(HTML(value=''), FloatProgress(value=0.0, max=5.0), HTML(value='')))"
      ]
     },
     "metadata": {},
     "output_type": "display_data"
    },
    {
     "name": "stdout",
     "output_type": "stream",
     "text": [
      "\n",
      "training !\n"
     ]
    },
    {
     "data": {
      "application/vnd.jupyter.widget-view+json": {
       "model_id": "6d3f7859799a42529317a18e73ec9004",
       "version_major": 2,
       "version_minor": 0
      },
      "text/plain": [
       "HBox(children=(HTML(value=''), FloatProgress(value=0.0, max=5.0), HTML(value='')))"
      ]
     },
     "metadata": {},
     "output_type": "display_data"
    },
    {
     "name": "stdout",
     "output_type": "stream",
     "text": [
      "Quantile: 0.022750131948179195\n",
      "[LightGBM] [Warning] Unknown parameter: loss\n",
      "[LightGBM] [Warning] Accuracy may be bad since you didn't explicitly set num_leaves OR 2^max_depth > num_leaves. (num_leaves=31).\n",
      "Quantile: 0.15865525393145707\n",
      "Quantile: 0.5\n",
      "Quantile: 0.8413447460685429\n",
      "Quantile: 0.9772498680518208\n",
      "\n",
      "Done\n",
      "predicting\n"
     ]
    },
    {
     "data": {
      "application/vnd.jupyter.widget-view+json": {
       "model_id": "4f7d677fe3bc4c68abb3cdf955c32c65",
       "version_major": 2,
       "version_minor": 0
      },
      "text/plain": [
       "HBox(children=(HTML(value=''), FloatProgress(value=0.0, max=5.0), HTML(value='')))"
      ]
     },
     "metadata": {},
     "output_type": "display_data"
    },
    {
     "name": "stdout",
     "output_type": "stream",
     "text": [
      "\n",
      "\n",
      "\n"
     ]
    },
    {
     "data": {
      "text/html": [
       "<div>\n",
       "<style scoped>\n",
       "    .dataframe tbody tr th:only-of-type {\n",
       "        vertical-align: middle;\n",
       "    }\n",
       "\n",
       "    .dataframe tbody tr th {\n",
       "        vertical-align: top;\n",
       "    }\n",
       "\n",
       "    .dataframe thead th {\n",
       "        text-align: right;\n",
       "    }\n",
       "</style>\n",
       "<table border=\"1\" class=\"dataframe\">\n",
       "  <thead>\n",
       "    <tr style=\"text-align: right;\">\n",
       "      <th></th>\n",
       "      <th>crps</th>\n",
       "      <th>count</th>\n",
       "      <th>rmse</th>\n",
       "      <th>mae</th>\n",
       "      <th>bias</th>\n",
       "      <th>corr</th>\n",
       "      <th>n_estimator</th>\n",
       "      <th>max_depth</th>\n",
       "    </tr>\n",
       "  </thead>\n",
       "  <tbody>\n",
       "    <tr>\n",
       "      <th>8</th>\n",
       "      <td>12.256893</td>\n",
       "      <td>444</td>\n",
       "      <td>25.056755</td>\n",
       "      <td>17.461906</td>\n",
       "      <td>4.341796</td>\n",
       "      <td>0.769973</td>\n",
       "      <td>1900</td>\n",
       "      <td>20</td>\n",
       "    </tr>\n",
       "    <tr>\n",
       "      <th>5</th>\n",
       "      <td>12.257105</td>\n",
       "      <td>444</td>\n",
       "      <td>25.114507</td>\n",
       "      <td>17.501657</td>\n",
       "      <td>4.380339</td>\n",
       "      <td>0.768799</td>\n",
       "      <td>1700</td>\n",
       "      <td>20</td>\n",
       "    </tr>\n",
       "    <tr>\n",
       "      <th>2</th>\n",
       "      <td>12.222317</td>\n",
       "      <td>445</td>\n",
       "      <td>25.127616</td>\n",
       "      <td>17.514800</td>\n",
       "      <td>4.399304</td>\n",
       "      <td>0.768684</td>\n",
       "      <td>1500</td>\n",
       "      <td>20</td>\n",
       "    </tr>\n",
       "    <tr>\n",
       "      <th>6</th>\n",
       "      <td>12.249419</td>\n",
       "      <td>445</td>\n",
       "      <td>25.200286</td>\n",
       "      <td>17.389576</td>\n",
       "      <td>4.468181</td>\n",
       "      <td>0.767214</td>\n",
       "      <td>1900</td>\n",
       "      <td>16</td>\n",
       "    </tr>\n",
       "    <tr>\n",
       "      <th>3</th>\n",
       "      <td>12.272354</td>\n",
       "      <td>445</td>\n",
       "      <td>25.286323</td>\n",
       "      <td>17.452432</td>\n",
       "      <td>4.513827</td>\n",
       "      <td>0.765468</td>\n",
       "      <td>1700</td>\n",
       "      <td>16</td>\n",
       "    </tr>\n",
       "    <tr>\n",
       "      <th>0</th>\n",
       "      <td>12.273952</td>\n",
       "      <td>445</td>\n",
       "      <td>25.299871</td>\n",
       "      <td>17.483200</td>\n",
       "      <td>4.508806</td>\n",
       "      <td>0.765118</td>\n",
       "      <td>1500</td>\n",
       "      <td>16</td>\n",
       "    </tr>\n",
       "    <tr>\n",
       "      <th>7</th>\n",
       "      <td>12.430157</td>\n",
       "      <td>443</td>\n",
       "      <td>25.396144</td>\n",
       "      <td>17.698768</td>\n",
       "      <td>4.272616</td>\n",
       "      <td>0.761338</td>\n",
       "      <td>1900</td>\n",
       "      <td>18</td>\n",
       "    </tr>\n",
       "    <tr>\n",
       "      <th>4</th>\n",
       "      <td>12.464333</td>\n",
       "      <td>443</td>\n",
       "      <td>25.440041</td>\n",
       "      <td>17.727003</td>\n",
       "      <td>4.287562</td>\n",
       "      <td>0.760424</td>\n",
       "      <td>1700</td>\n",
       "      <td>18</td>\n",
       "    </tr>\n",
       "    <tr>\n",
       "      <th>1</th>\n",
       "      <td>12.480926</td>\n",
       "      <td>443</td>\n",
       "      <td>25.469553</td>\n",
       "      <td>17.741068</td>\n",
       "      <td>4.298643</td>\n",
       "      <td>0.759867</td>\n",
       "      <td>1500</td>\n",
       "      <td>18</td>\n",
       "    </tr>\n",
       "  </tbody>\n",
       "</table>\n",
       "</div>"
      ],
      "text/plain": [
       "        crps  count       rmse        mae      bias      corr  n_estimator  \\\n",
       "8  12.256893    444  25.056755  17.461906  4.341796  0.769973         1900   \n",
       "5  12.257105    444  25.114507  17.501657  4.380339  0.768799         1700   \n",
       "2  12.222317    445  25.127616  17.514800  4.399304  0.768684         1500   \n",
       "6  12.249419    445  25.200286  17.389576  4.468181  0.767214         1900   \n",
       "3  12.272354    445  25.286323  17.452432  4.513827  0.765468         1700   \n",
       "0  12.273952    445  25.299871  17.483200  4.508806  0.765118         1500   \n",
       "7  12.430157    443  25.396144  17.698768  4.272616  0.761338         1900   \n",
       "4  12.464333    443  25.440041  17.727003  4.287562  0.760424         1700   \n",
       "1  12.480926    443  25.469553  17.741068  4.298643  0.759867         1500   \n",
       "\n",
       "   max_depth  \n",
       "8         20  \n",
       "5         20  \n",
       "2         20  \n",
       "6         16  \n",
       "3         16  \n",
       "0         16  \n",
       "7         18  \n",
       "4         18  \n",
       "1         18  "
      ]
     },
     "execution_count": 17,
     "metadata": {},
     "output_type": "execute_result"
    }
   ],
   "source": [
    "alls=[]\n",
    "\n",
    "for n_estimator in tqdm([1500,1700,1900]):\n",
    "    for max_depth in tqdm([16,18,20]):\n",
    "        qreg = TotalLGBQuantile(n_estimators=n_estimator,max_depth=max_depth)\n",
    "        \n",
    "        qreg.fit(X_train,dif_train)\n",
    "        pred_difs = qreg.predict(X_test)\n",
    "        a=pd.DataFrame(pred_difs)\n",
    "        for col in a.columns:\n",
    "            a[col] += lin.predict(X_test_std) \n",
    "        \n",
    "        results=evaluate((np.exp(a)-1).values,(np.exp(y_test)-1).values)\n",
    "        del results[\"all\"]\n",
    "        del results[\"target\"]\n",
    "        results[\"n_estimator\"]=n_estimator\n",
    "        results[\"max_depth\"]=max_depth\n",
    "        alls.append(results)\n",
    "pd.DataFrame(alls).sort_values(\"rmse\")"
   ]
  },
  {
   "cell_type": "code",
   "execution_count": null,
   "metadata": {},
   "outputs": [],
   "source": []
  }
 ],
 "metadata": {
  "kernelspec": {
   "display_name": "Python 3",
   "language": "python",
   "name": "python3"
  },
  "language_info": {
   "codemirror_mode": {
    "name": "ipython",
    "version": 3
   },
   "file_extension": ".py",
   "mimetype": "text/x-python",
   "name": "python",
   "nbconvert_exporter": "python",
   "pygments_lexer": "ipython3",
   "version": "3.8.5"
  }
 },
 "nbformat": 4,
 "nbformat_minor": 4
}
